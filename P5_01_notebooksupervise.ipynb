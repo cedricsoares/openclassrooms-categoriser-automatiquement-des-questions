{
 "cells": [
  {
   "cell_type": "code",
   "execution_count": 1,
   "id": "acting-fundamentals",
   "metadata": {},
   "outputs": [
    {
     "data": {
      "text/html": [
       "<div>\n",
       "<style scoped>\n",
       "    .dataframe tbody tr th:only-of-type {\n",
       "        vertical-align: middle;\n",
       "    }\n",
       "\n",
       "    .dataframe tbody tr th {\n",
       "        vertical-align: top;\n",
       "    }\n",
       "\n",
       "    .dataframe thead th {\n",
       "        text-align: right;\n",
       "    }\n",
       "</style>\n",
       "<table border=\"1\" class=\"dataframe\">\n",
       "  <thead>\n",
       "    <tr style=\"text-align: right;\">\n",
       "      <th></th>\n",
       "      <th>Title</th>\n",
       "      <th>Body</th>\n",
       "      <th>Tags</th>\n",
       "    </tr>\n",
       "  </thead>\n",
       "  <tbody>\n",
       "    <tr>\n",
       "      <th>0</th>\n",
       "      <td>Can (a== 1 &amp;&amp; a ==2 &amp;&amp; a==3) ever evaluate to ...</td>\n",
       "      <td>&lt;blockquote&gt;\\n  &lt;p&gt;&lt;strong&gt;Moderator note:&lt;/st...</td>\n",
       "      <td>&lt;javascript&gt;&lt;ecmascript-6&gt;</td>\n",
       "    </tr>\n",
       "    <tr>\n",
       "      <th>1</th>\n",
       "      <td>Git is not working after macOS Update (xcrun: ...</td>\n",
       "      <td>&lt;p&gt;I updated to macOS Mojave (this happens on ...</td>\n",
       "      <td>&lt;xcode&gt;&lt;git&gt;&lt;macos&gt;&lt;command-line&gt;&lt;terminal&gt;</td>\n",
       "    </tr>\n",
       "    <tr>\n",
       "      <th>2</th>\n",
       "      <td>Why is 2 * (i * i) faster than 2 * i * i in Java?</td>\n",
       "      <td>&lt;p&gt;The following Java program takes on average...</td>\n",
       "      <td>&lt;java&gt;&lt;performance&gt;&lt;benchmarking&gt;&lt;bytecode&gt;&lt;jit&gt;</td>\n",
       "    </tr>\n",
       "    <tr>\n",
       "      <th>3</th>\n",
       "      <td>Xcode 10 Error: Multiple commands produce</td>\n",
       "      <td>&lt;blockquote&gt;\\n  &lt;p&gt;error: Multiple commands pr...</td>\n",
       "      <td>&lt;info.plist&gt;&lt;xcode10&gt;</td>\n",
       "    </tr>\n",
       "    <tr>\n",
       "      <th>4</th>\n",
       "      <td>Why does array[idx++]+=\"a\" increase idx once i...</td>\n",
       "      <td>&lt;p&gt;For a challenge, &lt;a href=\"https://stackover...</td>\n",
       "      <td>&lt;java&gt;&lt;java-8&gt;&lt;javac&gt;&lt;java-9&gt;&lt;java-10&gt;</td>\n",
       "    </tr>\n",
       "    <tr>\n",
       "      <th>5</th>\n",
       "      <td>Difference between npx and npm?</td>\n",
       "      <td>&lt;p&gt;I have just started learning React, and Fac...</td>\n",
       "      <td>&lt;javascript&gt;&lt;npm&gt;&lt;npx&gt;</td>\n",
       "    </tr>\n",
       "    <tr>\n",
       "      <th>6</th>\n",
       "      <td>Cannot inline bytecode built with JVM target 1...</td>\n",
       "      <td>&lt;p&gt;When trying to run the Example CorDapp (&lt;a ...</td>\n",
       "      <td>&lt;android&gt;&lt;intellij-idea&gt;&lt;kotlin&gt;&lt;jvm&gt;&lt;corda&gt;</td>\n",
       "    </tr>\n",
       "    <tr>\n",
       "      <th>7</th>\n",
       "      <td>Could not find module \"@angular-devkit/build-a...</td>\n",
       "      <td>&lt;p&gt;After updating to Angular 6.0.1, I get the ...</td>\n",
       "      <td>&lt;angular&gt;&lt;angular-cli&gt;&lt;angular6&gt;&lt;angular-cli-v6&gt;</td>\n",
       "    </tr>\n",
       "    <tr>\n",
       "      <th>8</th>\n",
       "      <td>How to fix \"ReferenceError: primordials is not...</td>\n",
       "      <td>&lt;p&gt;I have installed Node.js modules by 'npm in...</td>\n",
       "      <td>&lt;node.js&gt;&lt;sass&gt;&lt;gulp&gt;&lt;gulp-sass&gt;</td>\n",
       "    </tr>\n",
       "    <tr>\n",
       "      <th>9</th>\n",
       "      <td>Why is the result of ('b'+'a'+ + 'a' + 'a').to...</td>\n",
       "      <td>&lt;p&gt;I was practicing some JavaScript when one o...</td>\n",
       "      <td>&lt;javascript&gt;&lt;type-conversion&gt;</td>\n",
       "    </tr>\n",
       "  </tbody>\n",
       "</table>\n",
       "</div>"
      ],
      "text/plain": [
       "                                               Title  \\\n",
       "0  Can (a== 1 && a ==2 && a==3) ever evaluate to ...   \n",
       "1  Git is not working after macOS Update (xcrun: ...   \n",
       "2  Why is 2 * (i * i) faster than 2 * i * i in Java?   \n",
       "3          Xcode 10 Error: Multiple commands produce   \n",
       "4  Why does array[idx++]+=\"a\" increase idx once i...   \n",
       "5                    Difference between npx and npm?   \n",
       "6  Cannot inline bytecode built with JVM target 1...   \n",
       "7  Could not find module \"@angular-devkit/build-a...   \n",
       "8  How to fix \"ReferenceError: primordials is not...   \n",
       "9  Why is the result of ('b'+'a'+ + 'a' + 'a').to...   \n",
       "\n",
       "                                                Body  \\\n",
       "0  <blockquote>\\n  <p><strong>Moderator note:</st...   \n",
       "1  <p>I updated to macOS Mojave (this happens on ...   \n",
       "2  <p>The following Java program takes on average...   \n",
       "3  <blockquote>\\n  <p>error: Multiple commands pr...   \n",
       "4  <p>For a challenge, <a href=\"https://stackover...   \n",
       "5  <p>I have just started learning React, and Fac...   \n",
       "6  <p>When trying to run the Example CorDapp (<a ...   \n",
       "7  <p>After updating to Angular 6.0.1, I get the ...   \n",
       "8  <p>I have installed Node.js modules by 'npm in...   \n",
       "9  <p>I was practicing some JavaScript when one o...   \n",
       "\n",
       "                                               Tags  \n",
       "0                        <javascript><ecmascript-6>  \n",
       "1       <xcode><git><macos><command-line><terminal>  \n",
       "2  <java><performance><benchmarking><bytecode><jit>  \n",
       "3                             <info.plist><xcode10>  \n",
       "4            <java><java-8><javac><java-9><java-10>  \n",
       "5                            <javascript><npm><npx>  \n",
       "6      <android><intellij-idea><kotlin><jvm><corda>  \n",
       "7  <angular><angular-cli><angular6><angular-cli-v6>  \n",
       "8                  <node.js><sass><gulp><gulp-sass>  \n",
       "9                     <javascript><type-conversion>  "
      ]
     },
     "execution_count": 1,
     "metadata": {},
     "output_type": "execute_result"
    }
   ],
   "source": [
    "import pandas as pd\n",
    "import numpy as np\n",
    "import IPython.display\n",
    "\n",
    "data = pd.read_csv('./data/filtered_data.csv', usecols=['Id','Title', 'Body', 'Tags'], index_col='Id')\n",
    "data.reset_index(inplace=True)\n",
    "data.drop(columns='Id', inplace=True)\n",
    "data.head(10)"
   ]
  },
  {
   "cell_type": "markdown",
   "id": "taken-manchester",
   "metadata": {},
   "source": [
    "## Constitution du corpus "
   ]
  },
  {
   "cell_type": "code",
   "execution_count": 2,
   "id": "european-ceiling",
   "metadata": {},
   "outputs": [
    {
     "name": "stdout",
     "output_type": "stream",
     "text": [
      "Dix première observations\n"
     ]
    },
    {
     "data": {
      "text/html": [
       "<div>\n",
       "<style scoped>\n",
       "    .dataframe tbody tr th:only-of-type {\n",
       "        vertical-align: middle;\n",
       "    }\n",
       "\n",
       "    .dataframe tbody tr th {\n",
       "        vertical-align: top;\n",
       "    }\n",
       "\n",
       "    .dataframe thead th {\n",
       "        text-align: right;\n",
       "    }\n",
       "</style>\n",
       "<table border=\"1\" class=\"dataframe\">\n",
       "  <thead>\n",
       "    <tr style=\"text-align: right;\">\n",
       "      <th></th>\n",
       "      <th>Title</th>\n",
       "      <th>Body</th>\n",
       "      <th>Tags</th>\n",
       "      <th>Post</th>\n",
       "    </tr>\n",
       "  </thead>\n",
       "  <tbody>\n",
       "    <tr>\n",
       "      <th>0</th>\n",
       "      <td>Can (a== 1 &amp;&amp; a ==2 &amp;&amp; a==3) ever evaluate to ...</td>\n",
       "      <td>&lt;blockquote&gt;\\n  &lt;p&gt;&lt;strong&gt;Moderator note:&lt;/st...</td>\n",
       "      <td>&lt;javascript&gt;&lt;ecmascript-6&gt;</td>\n",
       "      <td>Can (a== 1 &amp;&amp; a ==2 &amp;&amp; a==3) ever evaluate to ...</td>\n",
       "    </tr>\n",
       "    <tr>\n",
       "      <th>1</th>\n",
       "      <td>Git is not working after macOS Update (xcrun: ...</td>\n",
       "      <td>&lt;p&gt;I updated to macOS Mojave (this happens on ...</td>\n",
       "      <td>&lt;xcode&gt;&lt;git&gt;&lt;macos&gt;&lt;command-line&gt;&lt;terminal&gt;</td>\n",
       "      <td>Git is not working after macOS Update (xcrun: ...</td>\n",
       "    </tr>\n",
       "    <tr>\n",
       "      <th>2</th>\n",
       "      <td>Why is 2 * (i * i) faster than 2 * i * i in Java?</td>\n",
       "      <td>&lt;p&gt;The following Java program takes on average...</td>\n",
       "      <td>&lt;java&gt;&lt;performance&gt;&lt;benchmarking&gt;&lt;bytecode&gt;&lt;jit&gt;</td>\n",
       "      <td>Why is 2 * (i * i) faster than 2 * i * i in Ja...</td>\n",
       "    </tr>\n",
       "    <tr>\n",
       "      <th>3</th>\n",
       "      <td>Xcode 10 Error: Multiple commands produce</td>\n",
       "      <td>&lt;blockquote&gt;\\n  &lt;p&gt;error: Multiple commands pr...</td>\n",
       "      <td>&lt;info.plist&gt;&lt;xcode10&gt;</td>\n",
       "      <td>Xcode 10 Error: Multiple commands produce &lt;blo...</td>\n",
       "    </tr>\n",
       "    <tr>\n",
       "      <th>4</th>\n",
       "      <td>Why does array[idx++]+=\"a\" increase idx once i...</td>\n",
       "      <td>&lt;p&gt;For a challenge, &lt;a href=\"https://stackover...</td>\n",
       "      <td>&lt;java&gt;&lt;java-8&gt;&lt;javac&gt;&lt;java-9&gt;&lt;java-10&gt;</td>\n",
       "      <td>Why does array[idx++]+=\"a\" increase idx once i...</td>\n",
       "    </tr>\n",
       "    <tr>\n",
       "      <th>5</th>\n",
       "      <td>Difference between npx and npm?</td>\n",
       "      <td>&lt;p&gt;I have just started learning React, and Fac...</td>\n",
       "      <td>&lt;javascript&gt;&lt;npm&gt;&lt;npx&gt;</td>\n",
       "      <td>Difference between npx and npm? &lt;p&gt;I have just...</td>\n",
       "    </tr>\n",
       "    <tr>\n",
       "      <th>6</th>\n",
       "      <td>Cannot inline bytecode built with JVM target 1...</td>\n",
       "      <td>&lt;p&gt;When trying to run the Example CorDapp (&lt;a ...</td>\n",
       "      <td>&lt;android&gt;&lt;intellij-idea&gt;&lt;kotlin&gt;&lt;jvm&gt;&lt;corda&gt;</td>\n",
       "      <td>Cannot inline bytecode built with JVM target 1...</td>\n",
       "    </tr>\n",
       "    <tr>\n",
       "      <th>7</th>\n",
       "      <td>Could not find module \"@angular-devkit/build-a...</td>\n",
       "      <td>&lt;p&gt;After updating to Angular 6.0.1, I get the ...</td>\n",
       "      <td>&lt;angular&gt;&lt;angular-cli&gt;&lt;angular6&gt;&lt;angular-cli-v6&gt;</td>\n",
       "      <td>Could not find module \"@angular-devkit/build-a...</td>\n",
       "    </tr>\n",
       "    <tr>\n",
       "      <th>8</th>\n",
       "      <td>How to fix \"ReferenceError: primordials is not...</td>\n",
       "      <td>&lt;p&gt;I have installed Node.js modules by 'npm in...</td>\n",
       "      <td>&lt;node.js&gt;&lt;sass&gt;&lt;gulp&gt;&lt;gulp-sass&gt;</td>\n",
       "      <td>How to fix \"ReferenceError: primordials is not...</td>\n",
       "    </tr>\n",
       "    <tr>\n",
       "      <th>9</th>\n",
       "      <td>Why is the result of ('b'+'a'+ + 'a' + 'a').to...</td>\n",
       "      <td>&lt;p&gt;I was practicing some JavaScript when one o...</td>\n",
       "      <td>&lt;javascript&gt;&lt;type-conversion&gt;</td>\n",
       "      <td>Why is the result of ('b'+'a'+ + 'a' + 'a').to...</td>\n",
       "    </tr>\n",
       "  </tbody>\n",
       "</table>\n",
       "</div>"
      ],
      "text/plain": [
       "                                               Title  \\\n",
       "0  Can (a== 1 && a ==2 && a==3) ever evaluate to ...   \n",
       "1  Git is not working after macOS Update (xcrun: ...   \n",
       "2  Why is 2 * (i * i) faster than 2 * i * i in Java?   \n",
       "3          Xcode 10 Error: Multiple commands produce   \n",
       "4  Why does array[idx++]+=\"a\" increase idx once i...   \n",
       "5                    Difference between npx and npm?   \n",
       "6  Cannot inline bytecode built with JVM target 1...   \n",
       "7  Could not find module \"@angular-devkit/build-a...   \n",
       "8  How to fix \"ReferenceError: primordials is not...   \n",
       "9  Why is the result of ('b'+'a'+ + 'a' + 'a').to...   \n",
       "\n",
       "                                                Body  \\\n",
       "0  <blockquote>\\n  <p><strong>Moderator note:</st...   \n",
       "1  <p>I updated to macOS Mojave (this happens on ...   \n",
       "2  <p>The following Java program takes on average...   \n",
       "3  <blockquote>\\n  <p>error: Multiple commands pr...   \n",
       "4  <p>For a challenge, <a href=\"https://stackover...   \n",
       "5  <p>I have just started learning React, and Fac...   \n",
       "6  <p>When trying to run the Example CorDapp (<a ...   \n",
       "7  <p>After updating to Angular 6.0.1, I get the ...   \n",
       "8  <p>I have installed Node.js modules by 'npm in...   \n",
       "9  <p>I was practicing some JavaScript when one o...   \n",
       "\n",
       "                                               Tags  \\\n",
       "0                        <javascript><ecmascript-6>   \n",
       "1       <xcode><git><macos><command-line><terminal>   \n",
       "2  <java><performance><benchmarking><bytecode><jit>   \n",
       "3                             <info.plist><xcode10>   \n",
       "4            <java><java-8><javac><java-9><java-10>   \n",
       "5                            <javascript><npm><npx>   \n",
       "6      <android><intellij-idea><kotlin><jvm><corda>   \n",
       "7  <angular><angular-cli><angular6><angular-cli-v6>   \n",
       "8                  <node.js><sass><gulp><gulp-sass>   \n",
       "9                     <javascript><type-conversion>   \n",
       "\n",
       "                                                Post  \n",
       "0  Can (a== 1 && a ==2 && a==3) ever evaluate to ...  \n",
       "1  Git is not working after macOS Update (xcrun: ...  \n",
       "2  Why is 2 * (i * i) faster than 2 * i * i in Ja...  \n",
       "3  Xcode 10 Error: Multiple commands produce <blo...  \n",
       "4  Why does array[idx++]+=\"a\" increase idx once i...  \n",
       "5  Difference between npx and npm? <p>I have just...  \n",
       "6  Cannot inline bytecode built with JVM target 1...  \n",
       "7  Could not find module \"@angular-devkit/build-a...  \n",
       "8  How to fix \"ReferenceError: primordials is not...  \n",
       "9  Why is the result of ('b'+'a'+ + 'a' + 'a').to...  "
      ]
     },
     "metadata": {},
     "output_type": "display_data"
    },
    {
     "name": "stdout",
     "output_type": "stream",
     "text": [
      "Premier élément de la liste corpus\n",
      "\n"
     ]
    },
    {
     "data": {
      "text/plain": [
       "'Can (a== 1 && a ==2 && a==3) ever evaluate to true? <blockquote>\\n  <p><strong>Moderator note:</strong> Please resist the urge to edit the code or remove this notice. The pattern of whitespace may be part of the question and therefore should not be tampered with unnecessarily. If you are in the \"whitespace is insignificant\" camp, you should be able to accept the code as is.</p>\\n</blockquote>\\n\\n<p>Is it ever possible that <code>(a== 1 &amp;&amp; a ==2 &amp;&amp; a==3)</code> could evaluate to <code>true</code> in JavaScript?</p>\\n\\n<p>This is an interview question asked by a major tech company. It happened two weeks back, but I\\'m still trying to find the answer. I know we never write such code in our day-to-day job, but I\\'m curious.</p>\\n'"
      ]
     },
     "metadata": {},
     "output_type": "display_data"
    },
    {
     "name": "stdout",
     "output_type": "stream",
     "text": [
      "\n",
      "\n",
      "Premier éléments de la liste tags\n",
      "\n"
     ]
    },
    {
     "data": {
      "text/plain": [
       "'<javascript><ecmascript-6>'"
      ]
     },
     "metadata": {},
     "output_type": "display_data"
    },
    {
     "name": "stdout",
     "output_type": "stream",
     "text": [
      "Occurences dans le corpus: 46504\n",
      "Occurences dans les tags: 46504\n",
      "CPU times: user 517 ms, sys: 13.8 ms, total: 531 ms\n",
      "Wall time: 527 ms\n"
     ]
    }
   ],
   "source": [
    "%%time\n",
    "data['Post'] = data.apply(lambda x: x['Title'] + ' ' + x['Body'] if x['Title'] == x['Title'] else x['Body'], axis=1)\n",
    "corpus = data['Post'].to_list()\n",
    "tags = data['Tags'].to_list()\n",
    "\n",
    "print(\"Dix première observations\")\n",
    "display(data.head(10))\n",
    "\n",
    "print(\"Premier élément de la liste corpus\\n\")\n",
    "display(corpus[0])\n",
    "print(\"\\n\")\n",
    "\n",
    "print(\"Premier éléments de la liste tags\\n\")\n",
    "display(tags[0])\n",
    "\n",
    "print(f\"Occurences dans le corpus: {len(corpus)}\")\n",
    "print(f\"Occurences dans les tags: {len(tags)}\")"
   ]
  },
  {
   "cell_type": "markdown",
   "id": "standing-myrtle",
   "metadata": {},
   "source": [
    "## Nettoyage HTML"
   ]
  },
  {
   "cell_type": "code",
   "execution_count": 3,
   "id": "alpine-negative",
   "metadata": {},
   "outputs": [
    {
     "name": "stdout",
     "output_type": "stream",
     "text": [
      "Premier élément de la liste corpus sans html\n",
      "\n"
     ]
    },
    {
     "data": {
      "text/plain": [
       "'Can (a== 1 && a ==2 && a==3) ever evaluate to true? Moderator note: Please resist the urge to edit the code or remove this notice. The pattern of whitespace may be part of the question and therefore should not be tampered with unnecessarily. If you are in the \"whitespace is insignificant\" camp, you should be able to accept the code as is. Is it ever possible that (a== 1 && a ==2 && a==3) could evaluate to true in JavaScript? This is an interview question asked by a major tech company. It happened two weeks back, but I\\'m still trying to find the answer. I know we never write such code in our day-to-day job, but I\\'m curious.'"
      ]
     },
     "metadata": {},
     "output_type": "display_data"
    },
    {
     "name": "stdout",
     "output_type": "stream",
     "text": [
      "\n",
      "\n",
      "Occurences dans le corpus: 46504\n",
      "CPU times: user 1min 1s, sys: 38.5 ms, total: 1min 1s\n",
      "Wall time: 1min 1s\n"
     ]
    }
   ],
   "source": [
    "%%time\n",
    "\n",
    "def clean_html(text):\n",
    "    \"\"\"\n",
    "    Remove HTML from a text.\n",
    "    \n",
    "    Args:\n",
    "        text(String): Row text with html \n",
    "             \n",
    "    Returns:\n",
    "        cleaned String\n",
    "    \"\"\"\n",
    "    import lxml\n",
    "    import html5lib\n",
    "    from bs4 import BeautifulSoup\n",
    " \n",
    "    soup = BeautifulSoup(text, \"html5lib\")\n",
    "\n",
    "    for sent in soup(['style', 'script']):\n",
    "            sent.decompose()\n",
    "   \n",
    "        \n",
    "    return ' '.join(soup.stripped_strings)\n",
    "\n",
    "corpus_wo_html = [clean_html(text) for text in corpus]\n",
    "\n",
    "print(\"Premier élément de la liste corpus sans html\\n\")\n",
    "display(corpus_wo_html[0])\n",
    "print(\"\\n\")\n",
    "\n",
    "print(f\"Occurences dans le corpus: {len(corpus_wo_html)}\")"
   ]
  },
  {
   "cell_type": "markdown",
   "id": "great-playing",
   "metadata": {},
   "source": [
    "### Nettoyage du texte"
   ]
  },
  {
   "cell_type": "code",
   "execution_count": 4,
   "id": "recorded-gossip",
   "metadata": {},
   "outputs": [
    {
     "name": "stdout",
     "output_type": "stream",
     "text": [
      "Premier élément de la liste cleaned_corpus\n",
      "\n"
     ]
    },
    {
     "data": {
      "text/plain": [
       "'ever evaluate true moderator note please resist urge edit code remove this notice pattern whitespace part question therefore should tampered with unnecessarily whitespace insignificant camp should able accept code ever possible that could evaluate true javascript this interview question asked major tech company happened weeks back still trying find answer know never write such code curious'"
      ]
     },
     "metadata": {},
     "output_type": "display_data"
    },
    {
     "name": "stdout",
     "output_type": "stream",
     "text": [
      "\n",
      "\n",
      "Premier élément de la liste cleaned_tags\n",
      "\n"
     ]
    },
    {
     "data": {
      "text/plain": [
       "'javascript ecmascript'"
      ]
     },
     "metadata": {},
     "output_type": "display_data"
    },
    {
     "name": "stdout",
     "output_type": "stream",
     "text": [
      "\n",
      "\n",
      "Occurences dans le corpus nettoyé: 46504\n",
      "Occurences dans les tags nettoyés: 46504\n",
      "CPU times: user 6.72 s, sys: 29.7 ms, total: 6.75 s\n",
      "Wall time: 6.75 s\n"
     ]
    }
   ],
   "source": [
    "%%time\n",
    "\n",
    "def text_cleaning(text):\n",
    "    \"\"\"\n",
    "    Remove figures, punctuation, words shorter than two letters (excepted C or R) in a lowered text. \n",
    "    \n",
    "    Args:\n",
    "        text(String): Row text to clean\n",
    "        \n",
    "    Returns:\n",
    "       res(string): Cleaned text\n",
    "    \"\"\"\n",
    "    import re\n",
    "    \n",
    "    pattern = re.compile(r'[^\\w]|[\\d_]')\n",
    "    \n",
    "    try: \n",
    "        res = re.sub(pattern,\" \", text).lower()\n",
    "    except TypeError:\n",
    "        return text\n",
    "    \n",
    "    res = res.split(\" \")\n",
    "    res = list(filter(lambda x: len(x)>3 , res)) #Keep singles c and r because it might be used as name of languages\n",
    "    res = \" \".join(res)\n",
    "    return res\n",
    "\n",
    "cleaned_corpus = [text_cleaning(text) for text in corpus_wo_html]\n",
    "cleaned_tags = [text_cleaning(text).strip() for text in tags]\n",
    "\n",
    "\n",
    "print(\"Premier élément de la liste cleaned_corpus\\n\")\n",
    "display(cleaned_corpus[0])\n",
    "print(\"\\n\")\n",
    "\n",
    "print(\"Premier élément de la liste cleaned_tags\\n\")\n",
    "display(cleaned_tags[0])\n",
    "print(\"\\n\")\n",
    "\n",
    "print(f\"Occurences dans le corpus nettoyé: {len(cleaned_corpus)}\")\n",
    "print(f\"Occurences dans les tags nettoyés: {len(cleaned_tags)}\")"
   ]
  },
  {
   "cell_type": "markdown",
   "id": "coupled-brazil",
   "metadata": {},
   "source": [
    "### Tokenization"
   ]
  },
  {
   "cell_type": "code",
   "execution_count": 5,
   "id": "joined-suffering",
   "metadata": {},
   "outputs": [
    {
     "name": "stdout",
     "output_type": "stream",
     "text": [
      "Premier élément de la liste tokenized_corpus\n",
      "\n"
     ]
    },
    {
     "data": {
      "text/plain": [
       "['ever',\n",
       " 'evaluate',\n",
       " 'true',\n",
       " 'moderator',\n",
       " 'note',\n",
       " 'please',\n",
       " 'resist',\n",
       " 'urge',\n",
       " 'edit',\n",
       " 'code',\n",
       " 'remove',\n",
       " 'notice',\n",
       " 'pattern',\n",
       " 'whitespace',\n",
       " 'part',\n",
       " 'question',\n",
       " 'therefore',\n",
       " 'tampered',\n",
       " 'unnecessarily',\n",
       " 'whitespace',\n",
       " 'insignificant',\n",
       " 'camp',\n",
       " 'able',\n",
       " 'accept',\n",
       " 'code',\n",
       " 'ever',\n",
       " 'possible',\n",
       " 'could',\n",
       " 'evaluate',\n",
       " 'true',\n",
       " 'javascript',\n",
       " 'interview',\n",
       " 'question',\n",
       " 'asked',\n",
       " 'major',\n",
       " 'tech',\n",
       " 'company',\n",
       " 'happened',\n",
       " 'weeks',\n",
       " 'back',\n",
       " 'still',\n",
       " 'trying',\n",
       " 'find',\n",
       " 'answer',\n",
       " 'know',\n",
       " 'never',\n",
       " 'write',\n",
       " 'code',\n",
       " 'curious']"
      ]
     },
     "metadata": {},
     "output_type": "display_data"
    },
    {
     "name": "stdout",
     "output_type": "stream",
     "text": [
      "\n",
      "\n",
      "Longueur du premier éléments de liste tokenized_corpus: 49\n",
      "\n",
      "\n",
      "Premier élément de la liste tokenized_tags\n",
      "\n"
     ]
    },
    {
     "data": {
      "text/plain": [
       "['javascript', 'ecmascript']"
      ]
     },
     "metadata": {},
     "output_type": "display_data"
    },
    {
     "name": "stdout",
     "output_type": "stream",
     "text": [
      "\n",
      "\n",
      "Occurences dans le corpus tokenizé: 46504\n",
      "Occurences dans la liste des tags: 46504\n",
      "CPU times: user 30.5 s, sys: 1.58 s, total: 32.1 s\n",
      "Wall time: 31 s\n"
     ]
    }
   ],
   "source": [
    "%%time\n",
    "def tokenize(text):\n",
    "    \"\"\"\n",
    "    Tokenize words of a text.\n",
    "    \n",
    "    Args:\n",
    "    \n",
    "        text(String): Row text\n",
    "        \n",
    "    Returns\n",
    "    \n",
    "        res(list): Tokenized string.\n",
    "    \"\"\"\n",
    "    \n",
    "    from nltk.corpus import stopwords\n",
    "    from nltk import word_tokenize\n",
    "    from nltk.tokenize import sent_tokenize\n",
    "\n",
    "    stop_words = set(stopwords.words('english'))\n",
    "    \n",
    "    try:\n",
    "        res = word_tokenize(text, language='english')\n",
    "    except TypeError:\n",
    "        return text\n",
    "    \n",
    "    res = [token for token in res if token not in stop_words]\n",
    "    return res\n",
    "\n",
    "tokenized_corpus = [tokenize(text) for text in cleaned_corpus]\n",
    "tokenized_tags = [tokenize(text) for text in cleaned_tags]\n",
    "\n",
    "print(\"Premier élément de la liste tokenized_corpus\\n\")\n",
    "display(tokenized_corpus[0])\n",
    "print(\"\\n\")\n",
    "print(f\"Longueur du premier éléments de liste tokenized_corpus: {len(tokenized_corpus[0])}\")\n",
    "print(\"\\n\")\n",
    "\n",
    "print(\"Premier élément de la liste tokenized_tags\\n\")\n",
    "display(tokenized_tags[0])\n",
    "print('\\n')\n",
    "\n",
    "\n",
    "print(f\"Occurences dans le corpus tokenizé: {len(tokenized_corpus)}\")\n",
    "print(f\"Occurences dans la liste des tags: {len(tokenized_tags)}\")"
   ]
  },
  {
   "cell_type": "markdown",
   "id": "smooth-spelling",
   "metadata": {},
   "source": [
    "## Filtrage des noms à l'aide d'un modèle de POS tagging"
   ]
  },
  {
   "cell_type": "code",
   "execution_count": 6,
   "id": "neither-circle",
   "metadata": {},
   "outputs": [
    {
     "name": "stdout",
     "output_type": "stream",
     "text": [
      "Premier élément de la liste noun_corpus\n",
      "\n"
     ]
    },
    {
     "data": {
      "text/plain": [
       "['moderator',\n",
       " 'note',\n",
       " 'please',\n",
       " 'edit',\n",
       " 'code',\n",
       " 'notice',\n",
       " 'pattern',\n",
       " 'part',\n",
       " 'question',\n",
       " 'whitespace',\n",
       " 'insignificant',\n",
       " 'camp',\n",
       " 'accept',\n",
       " 'code',\n",
       " 'javascript',\n",
       " 'interview',\n",
       " 'question',\n",
       " 'tech',\n",
       " 'company',\n",
       " 'answer',\n",
       " 'code']"
      ]
     },
     "metadata": {},
     "output_type": "display_data"
    },
    {
     "name": "stdout",
     "output_type": "stream",
     "text": [
      "\n",
      "\n",
      "Longueur du premier éléments de liste noun_corpus: 21\n",
      "\n",
      "\n",
      "Occurences dans le corpus tokenizé: 46504\n",
      "CPU times: user 3min 19s, sys: 201 ms, total: 3min 19s\n",
      "Wall time: 3min 19s\n"
     ]
    }
   ],
   "source": [
    "%%time \n",
    "def filtering_nouns(tokens):\n",
    "    \"\"\"\n",
    "    Filter singular nouns\n",
    "    \n",
    "    Args:\n",
    "        tokens(list): A list o tokens\n",
    "        \n",
    "    \n",
    "    Returns:\n",
    "    \n",
    "        res(list): Filtered token list\n",
    "    \"\"\" \n",
    "    \n",
    "    import nltk\n",
    "    \n",
    "    res = nltk.pos_tag(tokens)\n",
    "    \n",
    "    res = [token[0] for token in res if token[1] == 'NN']\n",
    "    \n",
    "    return res\n",
    "\n",
    "noun_corpus = [filtering_nouns(tokens) for tokens in tokenized_corpus]\n",
    "\n",
    "print(\"Premier élément de la liste noun_corpus\\n\")\n",
    "display(noun_corpus[0])\n",
    "print(\"\\n\")\n",
    "\n",
    "print(f\"Longueur du premier éléments de liste noun_corpus: {len(noun_corpus[0])}\")\n",
    "print(\"\\n\")\n",
    "\n",
    "\n",
    "print(f\"Occurences dans le corpus tokenizé: {len(noun_corpus)}\")"
   ]
  },
  {
   "cell_type": "markdown",
   "id": "certain-paraguay",
   "metadata": {},
   "source": [
    "## Lemmatisation"
   ]
  },
  {
   "cell_type": "code",
   "execution_count": 7,
   "id": "caroline-lesbian",
   "metadata": {},
   "outputs": [
    {
     "name": "stdout",
     "output_type": "stream",
     "text": [
      "Premier élément de la liste lemmatized_corpus\n",
      "\n"
     ]
    },
    {
     "data": {
      "text/plain": [
       "['moderator',\n",
       " 'note',\n",
       " 'please',\n",
       " 'edit',\n",
       " 'code',\n",
       " 'notice',\n",
       " 'pattern',\n",
       " 'part',\n",
       " 'question',\n",
       " 'whitespace',\n",
       " 'insignificant',\n",
       " 'camp',\n",
       " 'accept',\n",
       " 'code',\n",
       " 'javascript',\n",
       " 'interview',\n",
       " 'question',\n",
       " 'tech',\n",
       " 'company',\n",
       " 'answer',\n",
       " 'code']"
      ]
     },
     "metadata": {},
     "output_type": "display_data"
    },
    {
     "name": "stdout",
     "output_type": "stream",
     "text": [
      "\n",
      "\n",
      "Longueur du premier éléments de liste lemmatized_corpus: 21\n",
      "\n",
      "\n",
      "Premier élément de la liste lemmatized_tags\n",
      "\n"
     ]
    },
    {
     "data": {
      "text/plain": [
       "['javascript', 'ecmascript']"
      ]
     },
     "metadata": {},
     "output_type": "display_data"
    },
    {
     "name": "stdout",
     "output_type": "stream",
     "text": [
      "Occurences dans le corpus lemmatisé: 46504\n",
      "Occurences dans les tags lemmatisés: 46504\n",
      "CPU times: user 7.3 s, sys: 20.1 ms, total: 7.32 s\n",
      "Wall time: 7.31 s\n"
     ]
    }
   ],
   "source": [
    "%%time\n",
    "def lemmatization(tokens):\n",
    "    \"\"\"\n",
    "    Transform tokens into lems \n",
    "    \n",
    "    Args:\n",
    "        tokens(list): List of tokens\n",
    "        \n",
    "    Returns:\n",
    "        lemmatized(list): List of lemmatized tokens\n",
    "    \"\"\"\n",
    "    import nltk\n",
    "    from nltk.stem import WordNetLemmatizer\n",
    "    \n",
    "    lemmatizer = WordNetLemmatizer()\n",
    "    lemmatized = []\n",
    "    \n",
    "    for token in tokens:\n",
    "        lemmatized.append(lemmatizer.lemmatize(token))\n",
    "        \n",
    "    return lemmatized\n",
    "\n",
    "lemmatized_corpus = [lemmatization(tokens) for tokens in noun_corpus]\n",
    "lemmatized_tags = [lemmatization(tokens) for tokens in tokenized_tags]\n",
    "\n",
    "tags_wo_blanks = []\n",
    "for tokens in lemmatized_tags:\n",
    "    tokens = [token for token in tokens if len(token)>1]\n",
    "    tags_wo_blanks.append(tokens)\n",
    "\n",
    "print(\"Premier élément de la liste lemmatized_corpus\\n\")\n",
    "display(lemmatized_corpus[0])\n",
    "print(\"\\n\")\n",
    "\n",
    "print(f\"Longueur du premier éléments de liste lemmatized_corpus: {len(lemmatized_corpus[0])}\")\n",
    "print(\"\\n\")\n",
    "\n",
    "print(\"Premier élément de la liste lemmatized_tags\\n\")\n",
    "display(tags_wo_blanks[0])\n",
    "\n",
    "\n",
    "print(f\"Occurences dans le corpus lemmatisé: {len(lemmatized_corpus)}\")\n",
    "print(f\"Occurences dans les tags lemmatisés: {len(tags_wo_blanks)}\")"
   ]
  },
  {
   "cell_type": "markdown",
   "id": "narrative-vessel",
   "metadata": {},
   "source": [
    "### Filtrage des valeurs vides"
   ]
  },
  {
   "cell_type": "code",
   "execution_count": 8,
   "id": "becoming-judges",
   "metadata": {},
   "outputs": [
    {
     "name": "stdout",
     "output_type": "stream",
     "text": [
      "observations restantes du corpus traité: 45902\n",
      "Observations restante du corpus original: 45902\n"
     ]
    },
    {
     "data": {
      "text/html": [
       "<div>\n",
       "<style scoped>\n",
       "    .dataframe tbody tr th:only-of-type {\n",
       "        vertical-align: middle;\n",
       "    }\n",
       "\n",
       "    .dataframe tbody tr th {\n",
       "        vertical-align: top;\n",
       "    }\n",
       "\n",
       "    .dataframe thead th {\n",
       "        text-align: right;\n",
       "    }\n",
       "</style>\n",
       "<table border=\"1\" class=\"dataframe\">\n",
       "  <thead>\n",
       "    <tr style=\"text-align: right;\">\n",
       "      <th></th>\n",
       "      <th>Post</th>\n",
       "      <th>splitted_text</th>\n",
       "      <th>splitted_tags</th>\n",
       "    </tr>\n",
       "  </thead>\n",
       "  <tbody>\n",
       "    <tr>\n",
       "      <th>0</th>\n",
       "      <td>Can (a== 1 &amp;&amp; a ==2 &amp;&amp; a==3) ever evaluate to ...</td>\n",
       "      <td>[moderator, note, please, edit, code, notice, ...</td>\n",
       "      <td>[javascript, ecmascript]</td>\n",
       "    </tr>\n",
       "    <tr>\n",
       "      <th>1</th>\n",
       "      <td>Git is not working after macOS Update (xcrun: ...</td>\n",
       "      <td>[macos, error, developer, path, developer, the...</td>\n",
       "      <td>[xcode, macos, command, line, terminal]</td>\n",
       "    </tr>\n",
       "    <tr>\n",
       "      <th>2</th>\n",
       "      <td>Why is 2 * (i * i) faster than 2 * i * i in Ja...</td>\n",
       "      <td>[java, program, void, string, args, starttime,...</td>\n",
       "      <td>[java, performance, benchmarking, bytecode]</td>\n",
       "    </tr>\n",
       "    <tr>\n",
       "      <th>3</th>\n",
       "      <td>Xcode 10 Error: Multiple commands produce &lt;blo...</td>\n",
       "      <td>[xcode, error, error, developer, deriveddata, ...</td>\n",
       "      <td>[info, plist, xcode]</td>\n",
       "    </tr>\n",
       "    <tr>\n",
       "      <th>4</th>\n",
       "      <td>Why does array[idx++]+=\"a\" increase idx once i...</td>\n",
       "      <td>[increase, java, challenge, code, code, import...</td>\n",
       "      <td>[java, java, javac, java, java]</td>\n",
       "    </tr>\n",
       "    <tr>\n",
       "      <th>5</th>\n",
       "      <td>Difference between npx and npm? &lt;p&gt;I have just...</td>\n",
       "      <td>[difference, react, facebook, setup, project, ...</td>\n",
       "      <td>[javascript]</td>\n",
       "    </tr>\n",
       "    <tr>\n",
       "      <th>6</th>\n",
       "      <td>Cannot inline bytecode built with JVM target 1...</td>\n",
       "      <td>[inline, bytecode, target, bytecode, target, e...</td>\n",
       "      <td>[android, intellij, idea, kotlin, corda]</td>\n",
       "    </tr>\n",
       "    <tr>\n",
       "      <th>7</th>\n",
       "      <td>Could not find module \"@angular-devkit/build-a...</td>\n",
       "      <td>[devkit, error, serve, devkit, home, error, de...</td>\n",
       "      <td>[angular, angular, angular, angular]</td>\n",
       "    </tr>\n",
       "    <tr>\n",
       "      <th>8</th>\n",
       "      <td>How to fix \"ReferenceError: primordials is not...</td>\n",
       "      <td>[referenceerror, node, sas, watch, command, pr...</td>\n",
       "      <td>[node, sas, gulp, gulp, sas]</td>\n",
       "    </tr>\n",
       "    <tr>\n",
       "      <th>9</th>\n",
       "      <td>Why is the result of ('b'+'a'+ + 'a' + 'a').to...</td>\n",
       "      <td>[result, tolowercase, banana, javascript, java...</td>\n",
       "      <td>[javascript, type, conversion]</td>\n",
       "    </tr>\n",
       "  </tbody>\n",
       "</table>\n",
       "</div>"
      ],
      "text/plain": [
       "                                                Post  \\\n",
       "0  Can (a== 1 && a ==2 && a==3) ever evaluate to ...   \n",
       "1  Git is not working after macOS Update (xcrun: ...   \n",
       "2  Why is 2 * (i * i) faster than 2 * i * i in Ja...   \n",
       "3  Xcode 10 Error: Multiple commands produce <blo...   \n",
       "4  Why does array[idx++]+=\"a\" increase idx once i...   \n",
       "5  Difference between npx and npm? <p>I have just...   \n",
       "6  Cannot inline bytecode built with JVM target 1...   \n",
       "7  Could not find module \"@angular-devkit/build-a...   \n",
       "8  How to fix \"ReferenceError: primordials is not...   \n",
       "9  Why is the result of ('b'+'a'+ + 'a' + 'a').to...   \n",
       "\n",
       "                                       splitted_text  \\\n",
       "0  [moderator, note, please, edit, code, notice, ...   \n",
       "1  [macos, error, developer, path, developer, the...   \n",
       "2  [java, program, void, string, args, starttime,...   \n",
       "3  [xcode, error, error, developer, deriveddata, ...   \n",
       "4  [increase, java, challenge, code, code, import...   \n",
       "5  [difference, react, facebook, setup, project, ...   \n",
       "6  [inline, bytecode, target, bytecode, target, e...   \n",
       "7  [devkit, error, serve, devkit, home, error, de...   \n",
       "8  [referenceerror, node, sas, watch, command, pr...   \n",
       "9  [result, tolowercase, banana, javascript, java...   \n",
       "\n",
       "                                 splitted_tags  \n",
       "0                     [javascript, ecmascript]  \n",
       "1      [xcode, macos, command, line, terminal]  \n",
       "2  [java, performance, benchmarking, bytecode]  \n",
       "3                         [info, plist, xcode]  \n",
       "4              [java, java, javac, java, java]  \n",
       "5                                 [javascript]  \n",
       "6     [android, intellij, idea, kotlin, corda]  \n",
       "7         [angular, angular, angular, angular]  \n",
       "8                 [node, sas, gulp, gulp, sas]  \n",
       "9               [javascript, type, conversion]  "
      ]
     },
     "execution_count": 8,
     "metadata": {},
     "output_type": "execute_result"
    }
   ],
   "source": [
    "joined_corpus = [\" \".join(text) for text in lemmatized_corpus]\n",
    "corpus_df = pd.DataFrame(joined_corpus, columns=['preprocessed_text'])\n",
    "corpus_df['len_text'] = corpus_df['preprocessed_text'].apply(lambda x: len(x))\n",
    "\n",
    "joined_tags = [\" \".join(tags) for tags in tags_wo_blanks]\n",
    "tag_df = pd.DataFrame(joined_tags, columns=['preprocessed_tags'])\n",
    "tag_df['len_tags'] = tag_df['preprocessed_tags'].apply(lambda x: len(x))\n",
    "\n",
    "corpus_tag_df = pd.concat([corpus_df, tag_df], axis=1)\n",
    "\n",
    "empty_data_idx = corpus_tag_df[(corpus_tag_df['len_text']==0) | (corpus_tag_df['len_tags']==0)].index\n",
    "\n",
    "corpus_tag_df.drop(index=empty_data_idx, inplace=True)\n",
    "data.drop(index=empty_data_idx, inplace=True)\n",
    "\n",
    "print(f\"observations restantes du corpus traité: {corpus_tag_df.shape[0]}\")\n",
    "print(f\"Observations restante du corpus original: {data.shape[0]}\")\n",
    "\n",
    "\n",
    "corpus_tag_df['splitted_text'] = corpus_tag_df['preprocessed_text'].apply(lambda x: x.split(' ') )\n",
    "corpus_tag_df['splitted_tags'] = corpus_tag_df['preprocessed_tags'].apply(lambda x: x.split(' ') )\n",
    "\n",
    "filtered_corpus = corpus_tag_df['splitted_text'].to_list()\n",
    "filtered_tags = corpus_tag_df['splitted_tags'].to_list()\n",
    "filtered_original_posts = data['Post'].to_list()\n",
    "\n",
    "filtered_tokenized_vs_original = pd.concat([data['Post'],\n",
    "                                            corpus_tag_df['splitted_text'], \n",
    "                                            corpus_tag_df['splitted_tags']],\n",
    "                                            axis=1)\n",
    "\n",
    "filtered_tokenized_vs_original.to_csv(\"./data/cleaned_corpus.csv\", index=False)\n",
    "filtered_tokenized_vs_original.to_pickle('./data/cleaned_corpus.pkl')\n",
    "\n",
    "filtered_tokenized_vs_original.head(10)"
   ]
  },
  {
   "cell_type": "markdown",
   "id": "french-macintosh",
   "metadata": {},
   "source": [
    "## Fréquence de distribution tokens"
   ]
  },
  {
   "cell_type": "code",
   "execution_count": 9,
   "id": "authentic-ending",
   "metadata": {},
   "outputs": [
    {
     "name": "stdout",
     "output_type": "stream",
     "text": [
      "Nombre de tokens du corpus 115091\n",
      "Affichage des 20 tokens les plus utilisés\n"
     ]
    },
    {
     "data": {
      "text/html": [
       "<div>\n",
       "<style scoped>\n",
       "    .dataframe tbody tr th:only-of-type {\n",
       "        vertical-align: middle;\n",
       "    }\n",
       "\n",
       "    .dataframe tbody tr th {\n",
       "        vertical-align: top;\n",
       "    }\n",
       "\n",
       "    .dataframe thead th {\n",
       "        text-align: right;\n",
       "    }\n",
       "</style>\n",
       "<table border=\"1\" class=\"dataframe\">\n",
       "  <thead>\n",
       "    <tr style=\"text-align: right;\">\n",
       "      <th></th>\n",
       "      <th>Frequency</th>\n",
       "    </tr>\n",
       "    <tr>\n",
       "      <th>Word</th>\n",
       "      <th></th>\n",
       "    </tr>\n",
       "  </thead>\n",
       "  <tbody>\n",
       "    <tr>\n",
       "      <th>java</th>\n",
       "      <td>45874</td>\n",
       "    </tr>\n",
       "    <tr>\n",
       "      <th>error</th>\n",
       "      <td>42873</td>\n",
       "    </tr>\n",
       "    <tr>\n",
       "      <th>class</th>\n",
       "      <td>33461</td>\n",
       "    </tr>\n",
       "    <tr>\n",
       "      <th>name</th>\n",
       "      <td>31880</td>\n",
       "    </tr>\n",
       "    <tr>\n",
       "      <th>file</th>\n",
       "      <td>30588</td>\n",
       "    </tr>\n",
       "    <tr>\n",
       "      <th>import</th>\n",
       "      <td>27939</td>\n",
       "    </tr>\n",
       "    <tr>\n",
       "      <th>code</th>\n",
       "      <td>25988</td>\n",
       "    </tr>\n",
       "    <tr>\n",
       "      <th>version</th>\n",
       "      <td>23508</td>\n",
       "    </tr>\n",
       "    <tr>\n",
       "      <th>http</th>\n",
       "      <td>22847</td>\n",
       "    </tr>\n",
       "    <tr>\n",
       "      <th>value</th>\n",
       "      <td>19725</td>\n",
       "    </tr>\n",
       "    <tr>\n",
       "      <th>return</th>\n",
       "      <td>18580</td>\n",
       "    </tr>\n",
       "    <tr>\n",
       "      <th>function</th>\n",
       "      <td>17596</td>\n",
       "    </tr>\n",
       "    <tr>\n",
       "      <th>type</th>\n",
       "      <td>16468</td>\n",
       "    </tr>\n",
       "    <tr>\n",
       "      <th>test</th>\n",
       "      <td>16276</td>\n",
       "    </tr>\n",
       "    <tr>\n",
       "      <th>core</th>\n",
       "      <td>15697</td>\n",
       "    </tr>\n",
       "    <tr>\n",
       "      <th>python</th>\n",
       "      <td>14903</td>\n",
       "    </tr>\n",
       "    <tr>\n",
       "      <th>line</th>\n",
       "      <td>14492</td>\n",
       "    </tr>\n",
       "    <tr>\n",
       "      <th>json</th>\n",
       "      <td>13608</td>\n",
       "    </tr>\n",
       "    <tr>\n",
       "      <th>project</th>\n",
       "      <td>13436</td>\n",
       "    </tr>\n",
       "    <tr>\n",
       "      <th>image</th>\n",
       "      <td>13291</td>\n",
       "    </tr>\n",
       "  </tbody>\n",
       "</table>\n",
       "</div>"
      ],
      "text/plain": [
       "          Frequency\n",
       "Word               \n",
       "java          45874\n",
       "error         42873\n",
       "class         33461\n",
       "name          31880\n",
       "file          30588\n",
       "import        27939\n",
       "code          25988\n",
       "version       23508\n",
       "http          22847\n",
       "value         19725\n",
       "return        18580\n",
       "function      17596\n",
       "type          16468\n",
       "test          16276\n",
       "core          15697\n",
       "python        14903\n",
       "line          14492\n",
       "json          13608\n",
       "project       13436\n",
       "image         13291"
      ]
     },
     "metadata": {},
     "output_type": "display_data"
    },
    {
     "name": "stdout",
     "output_type": "stream",
     "text": [
      "CPU times: user 1.12 s, sys: 20.1 ms, total: 1.14 s\n",
      "Wall time: 1.13 s\n"
     ]
    }
   ],
   "source": [
    "%%time\n",
    "def build_word_distribution(corpus):\n",
    "    \"\"\"\n",
    "    Build corpus word distribution\n",
    "    \n",
    "    Args:\n",
    "        Corpus(List of lists): Original corpus\n",
    "    \n",
    "    Returns:\n",
    "        \n",
    "        word_dist_df(DataFrame): Word distribution of the corpus\n",
    "    \"\"\"\n",
    "    \n",
    "    from nltk import FreqDist\n",
    "    word_corpus = [token for token_list in lemmatized_corpus for token in token_list]\n",
    "    word_dist = FreqDist(word_corpus)\n",
    "    word_dist_df = pd.DataFrame(word_dist.items(), columns=['Word', 'Frequency']).set_index('Word')\n",
    "    word_dist_df.sort_values(\"Frequency\", ascending=False, inplace=True)\n",
    "\n",
    "    return word_dist_df\n",
    "\n",
    "word_dist = build_word_distribution(filtered_corpus)\n",
    "\n",
    "print(f\"Nombre de tokens du corpus {word_dist.shape[0]}\")\n",
    "print(\"Affichage des 20 tokens les plus utilisés\")\n",
    "display(word_dist.head(20))"
   ]
  },
  {
   "cell_type": "markdown",
   "id": "available-program",
   "metadata": {},
   "source": [
    "## Fréquence de distribution des tags"
   ]
  },
  {
   "cell_type": "code",
   "execution_count": 10,
   "id": "narrow-trainer",
   "metadata": {},
   "outputs": [
    {
     "name": "stdout",
     "output_type": "stream",
     "text": [
      "Top 20 des tags les plus utilisés\n"
     ]
    },
    {
     "data": {
      "text/html": [
       "<div>\n",
       "<style scoped>\n",
       "    .dataframe tbody tr th:only-of-type {\n",
       "        vertical-align: middle;\n",
       "    }\n",
       "\n",
       "    .dataframe tbody tr th {\n",
       "        vertical-align: top;\n",
       "    }\n",
       "\n",
       "    .dataframe thead th {\n",
       "        text-align: right;\n",
       "    }\n",
       "</style>\n",
       "<table border=\"1\" class=\"dataframe\">\n",
       "  <thead>\n",
       "    <tr style=\"text-align: right;\">\n",
       "      <th></th>\n",
       "      <th>Frequency</th>\n",
       "    </tr>\n",
       "    <tr>\n",
       "      <th>Word</th>\n",
       "      <th></th>\n",
       "    </tr>\n",
       "  </thead>\n",
       "  <tbody>\n",
       "    <tr>\n",
       "      <th>java</th>\n",
       "      <td>45874</td>\n",
       "    </tr>\n",
       "    <tr>\n",
       "      <th>error</th>\n",
       "      <td>42873</td>\n",
       "    </tr>\n",
       "    <tr>\n",
       "      <th>class</th>\n",
       "      <td>33461</td>\n",
       "    </tr>\n",
       "    <tr>\n",
       "      <th>name</th>\n",
       "      <td>31880</td>\n",
       "    </tr>\n",
       "    <tr>\n",
       "      <th>file</th>\n",
       "      <td>30588</td>\n",
       "    </tr>\n",
       "    <tr>\n",
       "      <th>import</th>\n",
       "      <td>27939</td>\n",
       "    </tr>\n",
       "    <tr>\n",
       "      <th>code</th>\n",
       "      <td>25988</td>\n",
       "    </tr>\n",
       "    <tr>\n",
       "      <th>version</th>\n",
       "      <td>23508</td>\n",
       "    </tr>\n",
       "    <tr>\n",
       "      <th>http</th>\n",
       "      <td>22847</td>\n",
       "    </tr>\n",
       "    <tr>\n",
       "      <th>value</th>\n",
       "      <td>19725</td>\n",
       "    </tr>\n",
       "    <tr>\n",
       "      <th>return</th>\n",
       "      <td>18580</td>\n",
       "    </tr>\n",
       "    <tr>\n",
       "      <th>function</th>\n",
       "      <td>17596</td>\n",
       "    </tr>\n",
       "    <tr>\n",
       "      <th>type</th>\n",
       "      <td>16468</td>\n",
       "    </tr>\n",
       "    <tr>\n",
       "      <th>test</th>\n",
       "      <td>16276</td>\n",
       "    </tr>\n",
       "    <tr>\n",
       "      <th>core</th>\n",
       "      <td>15697</td>\n",
       "    </tr>\n",
       "    <tr>\n",
       "      <th>python</th>\n",
       "      <td>14903</td>\n",
       "    </tr>\n",
       "    <tr>\n",
       "      <th>line</th>\n",
       "      <td>14492</td>\n",
       "    </tr>\n",
       "    <tr>\n",
       "      <th>json</th>\n",
       "      <td>13608</td>\n",
       "    </tr>\n",
       "    <tr>\n",
       "      <th>project</th>\n",
       "      <td>13436</td>\n",
       "    </tr>\n",
       "    <tr>\n",
       "      <th>image</th>\n",
       "      <td>13291</td>\n",
       "    </tr>\n",
       "  </tbody>\n",
       "</table>\n",
       "</div>"
      ],
      "text/plain": [
       "          Frequency\n",
       "Word               \n",
       "java          45874\n",
       "error         42873\n",
       "class         33461\n",
       "name          31880\n",
       "file          30588\n",
       "import        27939\n",
       "code          25988\n",
       "version       23508\n",
       "http          22847\n",
       "value         19725\n",
       "return        18580\n",
       "function      17596\n",
       "type          16468\n",
       "test          16276\n",
       "core          15697\n",
       "python        14903\n",
       "line          14492\n",
       "json          13608\n",
       "project       13436\n",
       "image         13291"
      ]
     },
     "metadata": {},
     "output_type": "display_data"
    },
    {
     "name": "stdout",
     "output_type": "stream",
     "text": [
      "Nombre de tags: 115091\n"
     ]
    }
   ],
   "source": [
    "tag_dist = build_word_distribution(filtered_tags)\n",
    "print(\"Top 20 des tags les plus utilisés\")\n",
    "display(tag_dist.head(20))\n",
    "print(f\"Nombre de tags: {len(tag_dist)}\")\n",
    "first_200_tags = tag_dist[0:200].index.to_list()"
   ]
  },
  {
   "cell_type": "code",
   "execution_count": 11,
   "id": "annual-graduation",
   "metadata": {},
   "outputs": [
    {
     "data": {
      "text/plain": [
       "True"
      ]
     },
     "execution_count": 11,
     "metadata": {},
     "output_type": "execute_result"
    }
   ],
   "source": [
    "'command' in first_200_tags"
   ]
  },
  {
   "cell_type": "markdown",
   "id": "indoor-spouse",
   "metadata": {},
   "source": [
    "### filtrage top 200 tags"
   ]
  },
  {
   "cell_type": "code",
   "execution_count": 12,
   "id": "coral-drove",
   "metadata": {},
   "outputs": [
    {
     "name": "stdout",
     "output_type": "stream",
     "text": [
      "Observations restantes dans le coprus traité: 33169\n",
      "Observations restantes dans le corpus original: 33169\n"
     ]
    }
   ],
   "source": [
    "filtered_corpus_tag_df = corpus_tag_df.copy()\n",
    "filtered_corpus_tag_df['tags_in_top200'] = filtered_corpus_tag_df['splitted_tags'].apply(lambda tags: [tag for tag in tags if tag in first_200_tags])\n",
    "\n",
    "filtered_corpus_tag_df['len_tags_in_top200'] = filtered_corpus_tag_df['tags_in_top200'].apply(lambda x: len(x))\n",
    "missing_filtered_data = filtered_corpus_tag_df[filtered_corpus_tag_df['len_tags_in_top200'] == 0].index\n",
    "\n",
    "filtered_corpus_tag_df.drop(index=missing_filtered_data, inplace=True)\n",
    "data.drop(index=missing_filtered_data, inplace=True)\n",
    "print(f\"Observations restantes dans le coprus traité: {filtered_corpus_tag_df.shape[0]}\")\n",
    "print(f\"Observations restantes dans le corpus original: {data.shape[0]}\")\n",
    "\n",
    "top200_corpus = filtered_corpus_tag_df['splitted_text'].to_list()\n",
    "top200_joined_corpus = filtered_corpus_tag_df['preprocessed_text'].to_list()\n",
    "top200_tags = filtered_corpus_tag_df['tags_in_top200'].to_list()"
   ]
  },
  {
   "cell_type": "markdown",
   "id": "allied-decline",
   "metadata": {},
   "source": [
    "### Fréquences de distribution des tokens après filtrage du top 200 tags"
   ]
  },
  {
   "cell_type": "code",
   "execution_count": 13,
   "id": "portable-polls",
   "metadata": {},
   "outputs": [
    {
     "name": "stdout",
     "output_type": "stream",
     "text": [
      "Nombre de tokens du corpus 115091\n",
      "Affichage des 20 tokens les plus utilisés\n"
     ]
    },
    {
     "data": {
      "text/html": [
       "<div>\n",
       "<style scoped>\n",
       "    .dataframe tbody tr th:only-of-type {\n",
       "        vertical-align: middle;\n",
       "    }\n",
       "\n",
       "    .dataframe tbody tr th {\n",
       "        vertical-align: top;\n",
       "    }\n",
       "\n",
       "    .dataframe thead th {\n",
       "        text-align: right;\n",
       "    }\n",
       "</style>\n",
       "<table border=\"1\" class=\"dataframe\">\n",
       "  <thead>\n",
       "    <tr style=\"text-align: right;\">\n",
       "      <th></th>\n",
       "      <th>Frequency</th>\n",
       "    </tr>\n",
       "    <tr>\n",
       "      <th>Word</th>\n",
       "      <th></th>\n",
       "    </tr>\n",
       "  </thead>\n",
       "  <tbody>\n",
       "    <tr>\n",
       "      <th>java</th>\n",
       "      <td>45874</td>\n",
       "    </tr>\n",
       "    <tr>\n",
       "      <th>error</th>\n",
       "      <td>42873</td>\n",
       "    </tr>\n",
       "    <tr>\n",
       "      <th>class</th>\n",
       "      <td>33461</td>\n",
       "    </tr>\n",
       "    <tr>\n",
       "      <th>name</th>\n",
       "      <td>31880</td>\n",
       "    </tr>\n",
       "    <tr>\n",
       "      <th>file</th>\n",
       "      <td>30588</td>\n",
       "    </tr>\n",
       "    <tr>\n",
       "      <th>import</th>\n",
       "      <td>27939</td>\n",
       "    </tr>\n",
       "    <tr>\n",
       "      <th>code</th>\n",
       "      <td>25988</td>\n",
       "    </tr>\n",
       "    <tr>\n",
       "      <th>version</th>\n",
       "      <td>23508</td>\n",
       "    </tr>\n",
       "    <tr>\n",
       "      <th>http</th>\n",
       "      <td>22847</td>\n",
       "    </tr>\n",
       "    <tr>\n",
       "      <th>value</th>\n",
       "      <td>19725</td>\n",
       "    </tr>\n",
       "    <tr>\n",
       "      <th>return</th>\n",
       "      <td>18580</td>\n",
       "    </tr>\n",
       "    <tr>\n",
       "      <th>function</th>\n",
       "      <td>17596</td>\n",
       "    </tr>\n",
       "    <tr>\n",
       "      <th>type</th>\n",
       "      <td>16468</td>\n",
       "    </tr>\n",
       "    <tr>\n",
       "      <th>test</th>\n",
       "      <td>16276</td>\n",
       "    </tr>\n",
       "    <tr>\n",
       "      <th>core</th>\n",
       "      <td>15697</td>\n",
       "    </tr>\n",
       "    <tr>\n",
       "      <th>python</th>\n",
       "      <td>14903</td>\n",
       "    </tr>\n",
       "    <tr>\n",
       "      <th>line</th>\n",
       "      <td>14492</td>\n",
       "    </tr>\n",
       "    <tr>\n",
       "      <th>json</th>\n",
       "      <td>13608</td>\n",
       "    </tr>\n",
       "    <tr>\n",
       "      <th>project</th>\n",
       "      <td>13436</td>\n",
       "    </tr>\n",
       "    <tr>\n",
       "      <th>image</th>\n",
       "      <td>13291</td>\n",
       "    </tr>\n",
       "  </tbody>\n",
       "</table>\n",
       "</div>"
      ],
      "text/plain": [
       "          Frequency\n",
       "Word               \n",
       "java          45874\n",
       "error         42873\n",
       "class         33461\n",
       "name          31880\n",
       "file          30588\n",
       "import        27939\n",
       "code          25988\n",
       "version       23508\n",
       "http          22847\n",
       "value         19725\n",
       "return        18580\n",
       "function      17596\n",
       "type          16468\n",
       "test          16276\n",
       "core          15697\n",
       "python        14903\n",
       "line          14492\n",
       "json          13608\n",
       "project       13436\n",
       "image         13291"
      ]
     },
     "metadata": {},
     "output_type": "display_data"
    },
    {
     "data": {
      "text/plain": [
       "476"
      ]
     },
     "execution_count": 13,
     "metadata": {},
     "output_type": "execute_result"
    }
   ],
   "source": [
    "word_dist_top200 = build_word_distribution(top200_corpus)\n",
    "\n",
    "print(f\"Nombre de tokens du corpus {word_dist_top200.shape[0]}\")\n",
    "print(\"Affichage des 20 tokens les plus utilisés\")\n",
    "display(word_dist_top200.head(20))\n",
    "word_dist_top200[word_dist_top200[\"Frequency\"]>=1000].shape[0]"
   ]
  },
  {
   "cell_type": "markdown",
   "id": "affiliated-indianapolis",
   "metadata": {},
   "source": [
    "### Fréquences de distribution des tags après filtrage du top 200 tags"
   ]
  },
  {
   "cell_type": "code",
   "execution_count": 14,
   "id": "greek-notice",
   "metadata": {},
   "outputs": [
    {
     "name": "stdout",
     "output_type": "stream",
     "text": [
      "Top 20 des tags les plus utilisés\n"
     ]
    },
    {
     "data": {
      "text/html": [
       "<div>\n",
       "<style scoped>\n",
       "    .dataframe tbody tr th:only-of-type {\n",
       "        vertical-align: middle;\n",
       "    }\n",
       "\n",
       "    .dataframe tbody tr th {\n",
       "        vertical-align: top;\n",
       "    }\n",
       "\n",
       "    .dataframe thead th {\n",
       "        text-align: right;\n",
       "    }\n",
       "</style>\n",
       "<table border=\"1\" class=\"dataframe\">\n",
       "  <thead>\n",
       "    <tr style=\"text-align: right;\">\n",
       "      <th></th>\n",
       "      <th>Frequency</th>\n",
       "    </tr>\n",
       "    <tr>\n",
       "      <th>Word</th>\n",
       "      <th></th>\n",
       "    </tr>\n",
       "  </thead>\n",
       "  <tbody>\n",
       "    <tr>\n",
       "      <th>java</th>\n",
       "      <td>45874</td>\n",
       "    </tr>\n",
       "    <tr>\n",
       "      <th>error</th>\n",
       "      <td>42873</td>\n",
       "    </tr>\n",
       "    <tr>\n",
       "      <th>class</th>\n",
       "      <td>33461</td>\n",
       "    </tr>\n",
       "    <tr>\n",
       "      <th>name</th>\n",
       "      <td>31880</td>\n",
       "    </tr>\n",
       "    <tr>\n",
       "      <th>file</th>\n",
       "      <td>30588</td>\n",
       "    </tr>\n",
       "    <tr>\n",
       "      <th>import</th>\n",
       "      <td>27939</td>\n",
       "    </tr>\n",
       "    <tr>\n",
       "      <th>code</th>\n",
       "      <td>25988</td>\n",
       "    </tr>\n",
       "    <tr>\n",
       "      <th>version</th>\n",
       "      <td>23508</td>\n",
       "    </tr>\n",
       "    <tr>\n",
       "      <th>http</th>\n",
       "      <td>22847</td>\n",
       "    </tr>\n",
       "    <tr>\n",
       "      <th>value</th>\n",
       "      <td>19725</td>\n",
       "    </tr>\n",
       "    <tr>\n",
       "      <th>return</th>\n",
       "      <td>18580</td>\n",
       "    </tr>\n",
       "    <tr>\n",
       "      <th>function</th>\n",
       "      <td>17596</td>\n",
       "    </tr>\n",
       "    <tr>\n",
       "      <th>type</th>\n",
       "      <td>16468</td>\n",
       "    </tr>\n",
       "    <tr>\n",
       "      <th>test</th>\n",
       "      <td>16276</td>\n",
       "    </tr>\n",
       "    <tr>\n",
       "      <th>core</th>\n",
       "      <td>15697</td>\n",
       "    </tr>\n",
       "    <tr>\n",
       "      <th>python</th>\n",
       "      <td>14903</td>\n",
       "    </tr>\n",
       "    <tr>\n",
       "      <th>line</th>\n",
       "      <td>14492</td>\n",
       "    </tr>\n",
       "    <tr>\n",
       "      <th>json</th>\n",
       "      <td>13608</td>\n",
       "    </tr>\n",
       "    <tr>\n",
       "      <th>project</th>\n",
       "      <td>13436</td>\n",
       "    </tr>\n",
       "    <tr>\n",
       "      <th>image</th>\n",
       "      <td>13291</td>\n",
       "    </tr>\n",
       "  </tbody>\n",
       "</table>\n",
       "</div>"
      ],
      "text/plain": [
       "          Frequency\n",
       "Word               \n",
       "java          45874\n",
       "error         42873\n",
       "class         33461\n",
       "name          31880\n",
       "file          30588\n",
       "import        27939\n",
       "code          25988\n",
       "version       23508\n",
       "http          22847\n",
       "value         19725\n",
       "return        18580\n",
       "function      17596\n",
       "type          16468\n",
       "test          16276\n",
       "core          15697\n",
       "python        14903\n",
       "line          14492\n",
       "json          13608\n",
       "project       13436\n",
       "image         13291"
      ]
     },
     "metadata": {},
     "output_type": "display_data"
    },
    {
     "name": "stdout",
     "output_type": "stream",
     "text": [
      "Nombre de tags: 115091\n"
     ]
    }
   ],
   "source": [
    "tag_dist_top_200 = build_word_distribution(top200_tags)\n",
    "print(\"Top 20 des tags les plus utilisés\")\n",
    "display(tag_dist_top_200.head(20))\n",
    "print(f\"Nombre de tags: {len(tag_dist_top_200)}\")"
   ]
  },
  {
   "cell_type": "code",
   "execution_count": 15,
   "id": "negative-toyota",
   "metadata": {},
   "outputs": [
    {
     "data": {
      "text/html": [
       "<div>\n",
       "<style scoped>\n",
       "    .dataframe tbody tr th:only-of-type {\n",
       "        vertical-align: middle;\n",
       "    }\n",
       "\n",
       "    .dataframe tbody tr th {\n",
       "        vertical-align: top;\n",
       "    }\n",
       "\n",
       "    .dataframe thead th {\n",
       "        text-align: right;\n",
       "    }\n",
       "</style>\n",
       "<table border=\"1\" class=\"dataframe\">\n",
       "  <thead>\n",
       "    <tr style=\"text-align: right;\">\n",
       "      <th></th>\n",
       "      <th>Frequency</th>\n",
       "    </tr>\n",
       "    <tr>\n",
       "      <th>Word</th>\n",
       "      <th></th>\n",
       "    </tr>\n",
       "  </thead>\n",
       "  <tbody>\n",
       "    <tr>\n",
       "      <th>command</th>\n",
       "      <td>8097</td>\n",
       "    </tr>\n",
       "  </tbody>\n",
       "</table>\n",
       "</div>"
      ],
      "text/plain": [
       "         Frequency\n",
       "Word              \n",
       "command       8097"
      ]
     },
     "execution_count": 15,
     "metadata": {},
     "output_type": "execute_result"
    }
   ],
   "source": [
    "tag_dist_top_200[tag_dist_top_200.index=='command']"
   ]
  },
  {
   "cell_type": "markdown",
   "id": "hollow-harassment",
   "metadata": {},
   "source": [
    "### TF-IDF"
   ]
  },
  {
   "cell_type": "code",
   "execution_count": 16,
   "id": "outside-organ",
   "metadata": {},
   "outputs": [
    {
     "name": "stdout",
     "output_type": "stream",
     "text": [
      "CPU times: user 908 ms, sys: 60.1 ms, total: 968 ms\n",
      "Wall time: 966 ms\n"
     ]
    },
    {
     "data": {
      "text/plain": [
       "33169"
      ]
     },
     "execution_count": 16,
     "metadata": {},
     "output_type": "execute_result"
    }
   ],
   "source": [
    "%%time\n",
    "from sklearn.feature_extraction.text import TfidfVectorizer\n",
    "vocabulary = list(word_dist_top200[word_dist_top200[\"Frequency\"]>=1000].index)\n",
    "tfidf_vectorizer = TfidfVectorizer(vocabulary=vocabulary)\n",
    "X = tfidf_vectorizer.fit_transform(top200_joined_corpus)\n",
    "tfidf_data = pd.DataFrame(X.toarray(), columns=vocabulary)\n",
    "tfidf_data\n",
    "tfidf_data.shape[0]"
   ]
  },
  {
   "cell_type": "markdown",
   "id": "helpful-world",
   "metadata": {},
   "source": [
    "### Dédoublonnage des labels"
   ]
  },
  {
   "cell_type": "code",
   "execution_count": 17,
   "id": "nasty-library",
   "metadata": {},
   "outputs": [
    {
     "name": "stdout",
     "output_type": "stream",
     "text": [
      "Affichage de la première occurence de dedup_tags\n"
     ]
    },
    {
     "data": {
      "text/plain": [
       "{'command', 'line'}"
      ]
     },
     "metadata": {},
     "output_type": "display_data"
    }
   ],
   "source": [
    "dedup_tags = []\n",
    "for tags in top200_tags:\n",
    "    dedup_tags.append(set(tags))\n",
    "\n",
    "print('Affichage de la première occurence de dedup_tags')\n",
    "display(dedup_tags[0])"
   ]
  },
  {
   "cell_type": "markdown",
   "id": "surrounded-fluid",
   "metadata": {},
   "source": [
    "### Partition des données"
   ]
  },
  {
   "cell_type": "code",
   "execution_count": 18,
   "id": "iraqi-probability",
   "metadata": {},
   "outputs": [],
   "source": [
    "from sklearn.model_selection import train_test_split\n",
    "X_train, X_test, y_train, y_test = train_test_split(tfidf_data, dedup_tags, test_size=0.2, random_state=42)"
   ]
  },
  {
   "cell_type": "markdown",
   "id": "assured-transmission",
   "metadata": {},
   "source": [
    "## Réduction des données"
   ]
  },
  {
   "cell_type": "code",
   "execution_count": 19,
   "id": "successful-practitioner",
   "metadata": {},
   "outputs": [
    {
     "data": {
      "image/png": "[encoded data removed]",
      "text/plain": [
       "<Figure size 432x288 with 1 Axes>"
      ]
     },
     "metadata": {
      "needs_background": "light"
     },
     "output_type": "display_data"
    }
   ],
   "source": [
    "from sklearn.preprocessing import StandardScaler\n",
    "from sklearn.decomposition import PCA\n",
    "import matplotlib.pyplot as plt\n",
    "\n",
    "pca = PCA(random_state=42)\n",
    "pca.fit(X_train)\n",
    "\n",
    "\n",
    "def display_scree_plot(pca):\n",
    "    scree = pca.explained_variance_ratio_*100\n",
    "    plt.bar(np.arange(len(scree))+1, scree)\n",
    "    plt.plot(np.arange(len(scree))+1, scree.cumsum(),c=\"red\",marker='o')\n",
    "    plt.xlabel(\"rang de l'axe d'inertie\")\n",
    "    plt.ylabel(\"pourcentage d'inertie\")\n",
    "    plt.title(\"Eboulis des valeurs propres\")\n",
    "    plt.show(block=False)\n",
    "\n",
    "display_scree_plot(pca)"
   ]
  },
  {
   "cell_type": "code",
   "execution_count": 20,
   "id": "federal-bermuda",
   "metadata": {},
   "outputs": [
    {
     "name": "stdout",
     "output_type": "stream",
     "text": [
      "Nombre de composantes principales: 287\n"
     ]
    }
   ],
   "source": [
    "pca = PCA(n_components=0.85, random_state=42)\n",
    "pca.fit(X_train)\n",
    "X_train_transformed = pca.transform(X_train)\n",
    "X_test_transformed = pca.transform(X_test)\n",
    "print(f\"Nombre de composantes principales: {pca.components_.shape[0]}\")"
   ]
  },
  {
   "cell_type": "markdown",
   "id": "heard-force",
   "metadata": {},
   "source": [
    "## Vectorisaton des labels"
   ]
  },
  {
   "cell_type": "code",
   "execution_count": 21,
   "id": "minor-paragraph",
   "metadata": {},
   "outputs": [],
   "source": [
    "from sklearn.preprocessing import MultiLabelBinarizer\n",
    "\n",
    "mlb = MultiLabelBinarizer(classes=first_200_tags)\n",
    "train_labels = mlb.fit_transform(y_train)\n",
    "test_labels = mlb.transform(y_test)"
   ]
  },
  {
   "cell_type": "code",
   "execution_count": 22,
   "id": "strategic-nylon",
   "metadata": {},
   "outputs": [
    {
     "data": {
      "text/plain": [
       "array(['java', 'error', 'class', 'name', 'file', 'import', 'code',\n",
       "       'version', 'http', 'value', 'return', 'function', 'type', 'test',\n",
       "       'core', 'python', 'line', 'json', 'project', 'image',\n",
       "       'application', 'android', 'module', 'spring', 'list', 'path',\n",
       "       'server', 'const', 'package', 'springframework', 'system',\n",
       "       'release', 'time', 'example', 'component', 'request', 'default',\n",
       "       'view', 'state', 'client', 'problem', 'message', 'service',\n",
       "       'index', 'response', 'method', 'text', 'docker', 'button', 'node',\n",
       "       'input', 'model', 'flutter', 'user', 'support', 'react', 'work',\n",
       "       'command', 'size', 'page', 'output', 'google', 'form', 'create',\n",
       "       'boot', 'access', 'date', 'item', 'string', 'color', 'config',\n",
       "       'container', 'site', 'html', 'result', 'build', 'exception',\n",
       "       'script', 'home', 'column', 'apache', 'context', 'info',\n",
       "       'dependency', 'print', 'call', 'help', 'password', 'style',\n",
       "       'something', 'none', 'post', 'body', 'number', 'source', 'status',\n",
       "       'console', 'issue', 'install', 'export', 'content',\n",
       "       'configuration', 'option', 'title', 'database', 'event', 'array',\n",
       "       'implementation', 'connection', 'change', 'base', 'task',\n",
       "       'process', 'void', 'firebase', 'case', 'question', 'layout',\n",
       "       'environment', 'root', 'plugin', 'studio', 'start', 'debug',\n",
       "       'load', 'target', 'group', 'program', 'parent', 'self', 'solution',\n",
       "       'field', 'action', 'security', 'header', 'github', 'property',\n",
       "       'label', 'host', 'dart', 'lang', 'location', 'please', 'port',\n",
       "       'execution', 'execute', 'init', 'instance', 'child', 'show',\n",
       "       'directory', 'device', 'artifactid', 'edit', 'cache', 'framework',\n",
       "       'query', 'widget', 'order', 'platform', 'login', 'resource',\n",
       "       'control', 'anyone', 'controller', 'check', 'template', 'webpack',\n",
       "       'session', 'store', 'router', 'document', 'permission', 'mysql',\n",
       "       'bootstrap', 'email', 'element', 'display', 'material', 'link',\n",
       "       'runtime', 'stream', 'localhost', 'information', 'builder',\n",
       "       'browser', 'length', 'folder', 'render', 'compile', 'description',\n",
       "       'loader', 'idea', 'route', 'mode', 'constructor', 'custom',\n",
       "       'width', 'provider', 'object'], dtype=object)"
      ]
     },
     "execution_count": 22,
     "metadata": {},
     "output_type": "execute_result"
    }
   ],
   "source": [
    "mlb.classes_"
   ]
  },
  {
   "cell_type": "markdown",
   "id": "forbidden-importance",
   "metadata": {},
   "source": [
    "### Fonction d'évaluation des modèles"
   ]
  },
  {
   "cell_type": "code",
   "execution_count": 23,
   "id": "amended-chile",
   "metadata": {},
   "outputs": [],
   "source": [
    "from sklearn.metrics import accuracy_score, precision_score, recall_score, f1_score, confusion_matrix, hamming_loss\n",
    "\n",
    "models_performance = {}\n",
    "\n",
    "def metrics_report(model_name, test_labels, predictions):\n",
    "    accuracy = accuracy_score(test_labels, predictions)\n",
    "\n",
    "    macro_precision = precision_score(test_labels, predictions, average='macro')\n",
    "    macro_recall = recall_score(test_labels, predictions, average='macro')\n",
    "    macro_f1 = f1_score(test_labels, predictions, average='macro')\n",
    "\n",
    "    micro_precision = precision_score(test_labels, predictions, average='micro')\n",
    "    micro_recall = recall_score(test_labels, predictions, average='micro')\n",
    "    micro_f1 = f1_score(test_labels, predictions, average='micro')\n",
    "    hamLoss = hamming_loss(test_labels, predictions)\n",
    "    print(\"------\" + model_name + \" Model Metrics-----\")\n",
    "    print(\"Accuracy: {:.4f}\\nHamming Loss: {:.4f}\\nPrecision:\\n  - Macro: {:.4f}\\n  - Micro: {:.4f}\\nRecall:\\n  - Macro: {:.4f}\\n  - Micro: {:.4f}\\nF1-measure:\\n  - Macro: {:.4f}\\n  - Micro: {:.4f}\"\\\n",
    "          .format(accuracy, hamLoss, macro_precision, micro_precision, macro_recall, micro_recall, macro_f1, micro_f1))\n",
    "    models_performance[model_name] = micro_f1"
   ]
  },
  {
   "cell_type": "markdown",
   "id": "governing-divorce",
   "metadata": {},
   "source": [
    "### KNN"
   ]
  },
  {
   "cell_type": "code",
   "execution_count": 24,
   "id": "basic-shakespeare",
   "metadata": {},
   "outputs": [
    {
     "name": "stderr",
     "output_type": "stream",
     "text": [
      "/home/cedric/.local/lib/python3.8/site-packages/sklearn/metrics/_classification.py:1245: UndefinedMetricWarning: Precision is ill-defined and being set to 0.0 in labels with no predicted samples. Use `zero_division` parameter to control this behavior.\n",
      "  _warn_prf(average, modifier, msg_start, len(result))\n",
      "/home/cedric/.local/lib/python3.8/site-packages/sklearn/metrics/_classification.py:1245: UndefinedMetricWarning: Recall is ill-defined and being set to 0.0 in labels with no true samples. Use `zero_division` parameter to control this behavior.\n",
      "  _warn_prf(average, modifier, msg_start, len(result))\n",
      "/home/cedric/.local/lib/python3.8/site-packages/sklearn/metrics/_classification.py:1492: UndefinedMetricWarning: F-score is ill-defined and being set to 0.0 in labels with no true nor predicted samples. Use `zero_division` parameter to control this behavior.\n",
      "  _warn_prf(\n"
     ]
    },
    {
     "name": "stdout",
     "output_type": "stream",
     "text": [
      "------knn Model Metrics-----\n",
      "Accuracy: 0.2739\n",
      "Hamming Loss: 0.0061\n",
      "Precision:\n",
      "  - Macro: 0.2078\n",
      "  - Micro: 0.7488\n",
      "Recall:\n",
      "  - Macro: 0.0835\n",
      "  - Micro: 0.3657\n",
      "F1-measure:\n",
      "  - Macro: 0.1107\n",
      "  - Micro: 0.4914\n",
      "CPU times: user 31.9 s, sys: 10.3 s, total: 42.2 s\n",
      "Wall time: 27.7 s\n"
     ]
    }
   ],
   "source": [
    "%%time\n",
    "from sklearn.neighbors import KNeighborsClassifier\n",
    "knn_clf = KNeighborsClassifier()\n",
    "knn_clf.fit(X_train_transformed, train_labels)\n",
    "knn_predictions = knn_clf.predict(X_test_transformed)\n",
    "metrics_report(\"knn\", test_labels, knn_predictions)"
   ]
  },
  {
   "cell_type": "markdown",
   "id": "labeled-cornwall",
   "metadata": {},
   "source": [
    "### SVM"
   ]
  },
  {
   "cell_type": "code",
   "execution_count": 25,
   "id": "raising-substance",
   "metadata": {},
   "outputs": [
    {
     "name": "stderr",
     "output_type": "stream",
     "text": [
      "/home/cedric/.local/lib/python3.8/site-packages/sklearn/metrics/_classification.py:1245: UndefinedMetricWarning: Precision is ill-defined and being set to 0.0 in labels with no predicted samples. Use `zero_division` parameter to control this behavior.\n",
      "  _warn_prf(average, modifier, msg_start, len(result))\n",
      "/home/cedric/.local/lib/python3.8/site-packages/sklearn/metrics/_classification.py:1245: UndefinedMetricWarning: Recall is ill-defined and being set to 0.0 in labels with no true samples. Use `zero_division` parameter to control this behavior.\n",
      "  _warn_prf(average, modifier, msg_start, len(result))\n",
      "/home/cedric/.local/lib/python3.8/site-packages/sklearn/metrics/_classification.py:1492: UndefinedMetricWarning: F-score is ill-defined and being set to 0.0 in labels with no true nor predicted samples. Use `zero_division` parameter to control this behavior.\n",
      "  _warn_prf(\n"
     ]
    },
    {
     "name": "stdout",
     "output_type": "stream",
     "text": [
      "------svm Model Metrics-----\n",
      "Accuracy: 0.3289\n",
      "Hamming Loss: 0.0051\n",
      "Precision:\n",
      "  - Macro: 0.2060\n",
      "  - Micro: 0.8367\n",
      "Recall:\n",
      "  - Macro: 0.0858\n",
      "  - Micro: 0.4482\n",
      "F1-measure:\n",
      "  - Macro: 0.1090\n",
      "  - Micro: 0.5837\n",
      "CPU times: user 4.3 s, sys: 7.57 s, total: 11.9 s\n",
      "Wall time: 13.2 s\n"
     ]
    }
   ],
   "source": [
    "%%time\n",
    "from sklearn.svm import LinearSVC\n",
    "from sklearn.multiclass import OneVsRestClassifier\n",
    "\n",
    "svm_clf = OneVsRestClassifier(LinearSVC(), n_jobs=-1)\n",
    "svm_clf.fit(X_train_transformed, train_labels)\n",
    "\n",
    "svm_preds = svm_clf.predict(X_test_transformed)\n",
    "metrics_report(\"svm\", test_labels, svm_preds)"
   ]
  },
  {
   "cell_type": "markdown",
   "id": "random-tribe",
   "metadata": {},
   "source": [
    "### Random Forest"
   ]
  },
  {
   "cell_type": "code",
   "execution_count": 26,
   "id": "important-exercise",
   "metadata": {},
   "outputs": [
    {
     "name": "stderr",
     "output_type": "stream",
     "text": [
      "/home/cedric/.local/lib/python3.8/site-packages/sklearn/metrics/_classification.py:1245: UndefinedMetricWarning: Precision is ill-defined and being set to 0.0 in labels with no predicted samples. Use `zero_division` parameter to control this behavior.\n",
      "  _warn_prf(average, modifier, msg_start, len(result))\n",
      "/home/cedric/.local/lib/python3.8/site-packages/sklearn/metrics/_classification.py:1245: UndefinedMetricWarning: Recall is ill-defined and being set to 0.0 in labels with no true samples. Use `zero_division` parameter to control this behavior.\n",
      "  _warn_prf(average, modifier, msg_start, len(result))\n",
      "/home/cedric/.local/lib/python3.8/site-packages/sklearn/metrics/_classification.py:1492: UndefinedMetricWarning: F-score is ill-defined and being set to 0.0 in labels with no true nor predicted samples. Use `zero_division` parameter to control this behavior.\n",
      "  _warn_prf(\n"
     ]
    },
    {
     "name": "stdout",
     "output_type": "stream",
     "text": [
      "------Random Forest Model Metrics-----\n",
      "Accuracy: 0.1979\n",
      "Hamming Loss: 0.0062\n",
      "Precision:\n",
      "  - Macro: 0.1398\n",
      "  - Micro: 0.9091\n",
      "Recall:\n",
      "  - Macro: 0.0309\n",
      "  - Micro: 0.2474\n",
      "F1-measure:\n",
      "  - Macro: 0.0448\n",
      "  - Micro: 0.3890\n",
      "CPU times: user 28min 36s, sys: 8.09 s, total: 28min 44s\n",
      "Wall time: 1min 58s\n"
     ]
    }
   ],
   "source": [
    "%%time\n",
    "from sklearn.ensemble import RandomForestClassifier\n",
    "rf_clf = RandomForestClassifier(n_jobs=-1)\n",
    "rf_clf.fit(X_train_transformed, train_labels)\n",
    "rf_preds = rf_clf.predict(X_test_transformed)\n",
    "metrics_report(\"Random Forest\", test_labels, rf_preds)"
   ]
  },
  {
   "cell_type": "markdown",
   "id": "northern-enclosure",
   "metadata": {},
   "source": [
    "### Gradient boosting"
   ]
  },
  {
   "cell_type": "code",
   "execution_count": 29,
   "id": "prepared-creator",
   "metadata": {},
   "outputs": [
    {
     "name": "stderr",
     "output_type": "stream",
     "text": [
      "/home/cedric/.local/lib/python3.8/site-packages/sklearn/multiclass.py:80: UserWarning: Label not 27 is present in all training examples.\n",
      "  warnings.warn(\"Label %s is present in all training examples.\" %\n",
      "/home/cedric/.local/lib/python3.8/site-packages/sklearn/multiclass.py:80: UserWarning: Label not 29 is present in all training examples.\n",
      "  warnings.warn(\"Label %s is present in all training examples.\" %\n",
      "/home/cedric/.local/lib/python3.8/site-packages/sklearn/multiclass.py:80: UserWarning: Label not 67 is present in all training examples.\n",
      "  warnings.warn(\"Label %s is present in all training examples.\" %\n",
      "/home/cedric/.local/lib/python3.8/site-packages/sklearn/multiclass.py:80: UserWarning: Label not 86 is present in all training examples.\n",
      "  warnings.warn(\"Label %s is present in all training examples.\" %\n",
      "/home/cedric/.local/lib/python3.8/site-packages/sklearn/multiclass.py:80: UserWarning: Label not 89 is present in all training examples.\n",
      "  warnings.warn(\"Label %s is present in all training examples.\" %\n",
      "/home/cedric/.local/lib/python3.8/site-packages/sklearn/multiclass.py:80: UserWarning: Label not 90 is present in all training examples.\n",
      "  warnings.warn(\"Label %s is present in all training examples.\" %\n",
      "/home/cedric/.local/lib/python3.8/site-packages/sklearn/multiclass.py:80: UserWarning: Label not 127 is present in all training examples.\n",
      "  warnings.warn(\"Label %s is present in all training examples.\" %\n",
      "/home/cedric/.local/lib/python3.8/site-packages/sklearn/multiclass.py:80: UserWarning: Label not 142 is present in all training examples.\n",
      "  warnings.warn(\"Label %s is present in all training examples.\" %\n",
      "/home/cedric/.local/lib/python3.8/site-packages/sklearn/multiclass.py:80: UserWarning: Label not 145 is present in all training examples.\n",
      "  warnings.warn(\"Label %s is present in all training examples.\" %\n",
      "/home/cedric/.local/lib/python3.8/site-packages/sklearn/multiclass.py:80: UserWarning: Label not 152 is present in all training examples.\n",
      "  warnings.warn(\"Label %s is present in all training examples.\" %\n",
      "/home/cedric/.local/lib/python3.8/site-packages/sklearn/multiclass.py:80: UserWarning: Label not 153 is present in all training examples.\n",
      "  warnings.warn(\"Label %s is present in all training examples.\" %\n",
      "/home/cedric/.local/lib/python3.8/site-packages/sklearn/multiclass.py:80: UserWarning: Label not 163 is present in all training examples.\n",
      "  warnings.warn(\"Label %s is present in all training examples.\" %\n",
      "/home/cedric/.local/lib/python3.8/site-packages/sklearn/multiclass.py:80: UserWarning: Label not 183 is present in all training examples.\n",
      "  warnings.warn(\"Label %s is present in all training examples.\" %\n",
      "/home/cedric/.local/lib/python3.8/site-packages/sklearn/multiclass.py:80: UserWarning: Label not 190 is present in all training examples.\n",
      "  warnings.warn(\"Label %s is present in all training examples.\" %\n",
      "/home/cedric/.local/lib/python3.8/site-packages/sklearn/metrics/_classification.py:1245: UndefinedMetricWarning: Precision is ill-defined and being set to 0.0 in labels with no predicted samples. Use `zero_division` parameter to control this behavior.\n",
      "  _warn_prf(average, modifier, msg_start, len(result))\n",
      "/home/cedric/.local/lib/python3.8/site-packages/sklearn/metrics/_classification.py:1245: UndefinedMetricWarning: Recall is ill-defined and being set to 0.0 in labels with no true samples. Use `zero_division` parameter to control this behavior.\n",
      "  _warn_prf(average, modifier, msg_start, len(result))\n",
      "/home/cedric/.local/lib/python3.8/site-packages/sklearn/metrics/_classification.py:1492: UndefinedMetricWarning: F-score is ill-defined and being set to 0.0 in labels with no true nor predicted samples. Use `zero_division` parameter to control this behavior.\n",
      "  _warn_prf(\n"
     ]
    },
    {
     "name": "stdout",
     "output_type": "stream",
     "text": [
      "------Gradient Boosting Model Metrics-----\n",
      "Accuracy: 0.2341\n",
      "Hamming Loss: 0.0069\n",
      "Precision:\n",
      "  - Macro: 0.1263\n",
      "  - Micro: 0.6042\n",
      "Recall:\n",
      "  - Macro: 0.0840\n",
      "  - Micro: 0.4093\n",
      "F1-measure:\n",
      "  - Macro: 0.0980\n",
      "  - Micro: 0.4880\n",
      "CPU times: user 9h 54min 18s, sys: 447 ms, total: 9h 54min 18s\n",
      "Wall time: 9h 54min 27s\n"
     ]
    }
   ],
   "source": [
    "%%time\n",
    "from sklearn.ensemble import GradientBoostingClassifier\n",
    "from sklearn.multiclass import OneVsRestClassifier\n",
    "\n",
    "gb_clf = OneVsRestClassifier(GradientBoostingClassifier())\n",
    "gb_clf.fit(X_train_transformed, train_labels)\n",
    "gb_preds = gb_clf.predict(X_test_transformed)\n",
    "metrics_report(\"Gradient Boosting\", test_labels, gb_preds)"
   ]
  },
  {
   "cell_type": "markdown",
   "id": "filled-publisher",
   "metadata": {},
   "source": [
    "### Résultats"
   ]
  },
  {
   "cell_type": "code",
   "execution_count": 30,
   "id": "strategic-brick",
   "metadata": {},
   "outputs": [
    {
     "name": "stdout",
     "output_type": "stream",
     "text": [
      "  Model Name           | Micro-F1 Score\n",
      "-------------------------------------------\n",
      "  knn                  | 0.49140049140049136\n",
      "-------------------------------------------\n",
      "  svm                  | 0.5837098546831115\n",
      "-------------------------------------------\n",
      "  Random Forest        | 0.389003537735849\n",
      "-------------------------------------------\n",
      "  Gradient Boosting    | 0.4879821129122415\n",
      "-------------------------------------------\n",
      "CPU times: user 4.76 ms, sys: 16 µs, total: 4.77 ms\n",
      "Wall time: 2.31 ms\n"
     ]
    }
   ],
   "source": [
    "%%time\n",
    "print(\"  Model Name \" + \" \"*10 + \"| Micro-F1 Score\")\n",
    "print(\"-------------------------------------------\")\n",
    "for key, value in models_performance.items():\n",
    "    print(\"  \" + key, \" \"*(20-len(key)) + \"|\", value)\n",
    "    print(\"-------------------------------------------\")"
   ]
  },
  {
   "cell_type": "code",
   "execution_count": null,
   "id": "brazilian-defendant",
   "metadata": {},
   "outputs": [],
   "source": []
  }
 ],
 "metadata": {
  "kernelspec": {
   "display_name": "Python 3",
   "language": "python",
   "name": "python3"
  },
  "language_info": {
   "codemirror_mode": {
    "name": "ipython",
    "version": 3
   },
   "file_extension": ".py",
   "mimetype": "text/x-python",
   "name": "python",
   "nbconvert_exporter": "python",
   "pygments_lexer": "ipython3",
   "version": "3.8.5"
  }
 },
 "nbformat": 4,
 "nbformat_minor": 5
}
