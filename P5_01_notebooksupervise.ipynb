{
 "cells": [
  {
   "cell_type": "code",
   "execution_count": 1,
   "id": "polish-castle",
   "metadata": {},
   "outputs": [
    {
     "data": {
      "text/html": [
       "<div>\n",
       "<style scoped>\n",
       "    .dataframe tbody tr th:only-of-type {\n",
       "        vertical-align: middle;\n",
       "    }\n",
       "\n",
       "    .dataframe tbody tr th {\n",
       "        vertical-align: top;\n",
       "    }\n",
       "\n",
       "    .dataframe thead th {\n",
       "        text-align: right;\n",
       "    }\n",
       "</style>\n",
       "<table border=\"1\" class=\"dataframe\">\n",
       "  <thead>\n",
       "    <tr style=\"text-align: right;\">\n",
       "      <th></th>\n",
       "      <th>Title</th>\n",
       "      <th>Body</th>\n",
       "      <th>Tags</th>\n",
       "    </tr>\n",
       "  </thead>\n",
       "  <tbody>\n",
       "    <tr>\n",
       "      <th>0</th>\n",
       "      <td>Can (a== 1 &amp;&amp; a ==2 &amp;&amp; a==3) ever evaluate to ...</td>\n",
       "      <td>&lt;blockquote&gt;\\n  &lt;p&gt;&lt;strong&gt;Moderator note:&lt;/st...</td>\n",
       "      <td>&lt;javascript&gt;&lt;ecmascript-6&gt;</td>\n",
       "    </tr>\n",
       "    <tr>\n",
       "      <th>1</th>\n",
       "      <td>Git is not working after macOS Update (xcrun: ...</td>\n",
       "      <td>&lt;p&gt;I updated to macOS Mojave (this happens on ...</td>\n",
       "      <td>&lt;xcode&gt;&lt;git&gt;&lt;macos&gt;&lt;command-line&gt;&lt;terminal&gt;</td>\n",
       "    </tr>\n",
       "    <tr>\n",
       "      <th>2</th>\n",
       "      <td>Why is 2 * (i * i) faster than 2 * i * i in Java?</td>\n",
       "      <td>&lt;p&gt;The following Java program takes on average...</td>\n",
       "      <td>&lt;java&gt;&lt;performance&gt;&lt;benchmarking&gt;&lt;bytecode&gt;&lt;jit&gt;</td>\n",
       "    </tr>\n",
       "    <tr>\n",
       "      <th>3</th>\n",
       "      <td>Xcode 10 Error: Multiple commands produce</td>\n",
       "      <td>&lt;blockquote&gt;\\n  &lt;p&gt;error: Multiple commands pr...</td>\n",
       "      <td>&lt;info.plist&gt;&lt;xcode10&gt;</td>\n",
       "    </tr>\n",
       "    <tr>\n",
       "      <th>4</th>\n",
       "      <td>Why does array[idx++]+=\"a\" increase idx once i...</td>\n",
       "      <td>&lt;p&gt;For a challenge, &lt;a href=\"https://stackover...</td>\n",
       "      <td>&lt;java&gt;&lt;java-8&gt;&lt;javac&gt;&lt;java-9&gt;&lt;java-10&gt;</td>\n",
       "    </tr>\n",
       "    <tr>\n",
       "      <th>5</th>\n",
       "      <td>Difference between npx and npm?</td>\n",
       "      <td>&lt;p&gt;I have just started learning React, and Fac...</td>\n",
       "      <td>&lt;javascript&gt;&lt;npm&gt;&lt;npx&gt;</td>\n",
       "    </tr>\n",
       "    <tr>\n",
       "      <th>6</th>\n",
       "      <td>Cannot inline bytecode built with JVM target 1...</td>\n",
       "      <td>&lt;p&gt;When trying to run the Example CorDapp (&lt;a ...</td>\n",
       "      <td>&lt;android&gt;&lt;intellij-idea&gt;&lt;kotlin&gt;&lt;jvm&gt;&lt;corda&gt;</td>\n",
       "    </tr>\n",
       "    <tr>\n",
       "      <th>7</th>\n",
       "      <td>Could not find module \"@angular-devkit/build-a...</td>\n",
       "      <td>&lt;p&gt;After updating to Angular 6.0.1, I get the ...</td>\n",
       "      <td>&lt;angular&gt;&lt;angular-cli&gt;&lt;angular6&gt;&lt;angular-cli-v6&gt;</td>\n",
       "    </tr>\n",
       "    <tr>\n",
       "      <th>8</th>\n",
       "      <td>How to fix \"ReferenceError: primordials is not...</td>\n",
       "      <td>&lt;p&gt;I have installed Node.js modules by 'npm in...</td>\n",
       "      <td>&lt;node.js&gt;&lt;sass&gt;&lt;gulp&gt;&lt;gulp-sass&gt;</td>\n",
       "    </tr>\n",
       "    <tr>\n",
       "      <th>9</th>\n",
       "      <td>Why is the result of ('b'+'a'+ + 'a' + 'a').to...</td>\n",
       "      <td>&lt;p&gt;I was practicing some JavaScript when one o...</td>\n",
       "      <td>&lt;javascript&gt;&lt;type-conversion&gt;</td>\n",
       "    </tr>\n",
       "  </tbody>\n",
       "</table>\n",
       "</div>"
      ],
      "text/plain": [
       "                                               Title  \\\n",
       "0  Can (a== 1 && a ==2 && a==3) ever evaluate to ...   \n",
       "1  Git is not working after macOS Update (xcrun: ...   \n",
       "2  Why is 2 * (i * i) faster than 2 * i * i in Java?   \n",
       "3          Xcode 10 Error: Multiple commands produce   \n",
       "4  Why does array[idx++]+=\"a\" increase idx once i...   \n",
       "5                    Difference between npx and npm?   \n",
       "6  Cannot inline bytecode built with JVM target 1...   \n",
       "7  Could not find module \"@angular-devkit/build-a...   \n",
       "8  How to fix \"ReferenceError: primordials is not...   \n",
       "9  Why is the result of ('b'+'a'+ + 'a' + 'a').to...   \n",
       "\n",
       "                                                Body  \\\n",
       "0  <blockquote>\\n  <p><strong>Moderator note:</st...   \n",
       "1  <p>I updated to macOS Mojave (this happens on ...   \n",
       "2  <p>The following Java program takes on average...   \n",
       "3  <blockquote>\\n  <p>error: Multiple commands pr...   \n",
       "4  <p>For a challenge, <a href=\"https://stackover...   \n",
       "5  <p>I have just started learning React, and Fac...   \n",
       "6  <p>When trying to run the Example CorDapp (<a ...   \n",
       "7  <p>After updating to Angular 6.0.1, I get the ...   \n",
       "8  <p>I have installed Node.js modules by 'npm in...   \n",
       "9  <p>I was practicing some JavaScript when one o...   \n",
       "\n",
       "                                               Tags  \n",
       "0                        <javascript><ecmascript-6>  \n",
       "1       <xcode><git><macos><command-line><terminal>  \n",
       "2  <java><performance><benchmarking><bytecode><jit>  \n",
       "3                             <info.plist><xcode10>  \n",
       "4            <java><java-8><javac><java-9><java-10>  \n",
       "5                            <javascript><npm><npx>  \n",
       "6      <android><intellij-idea><kotlin><jvm><corda>  \n",
       "7  <angular><angular-cli><angular6><angular-cli-v6>  \n",
       "8                  <node.js><sass><gulp><gulp-sass>  \n",
       "9                     <javascript><type-conversion>  "
      ]
     },
     "execution_count": 1,
     "metadata": {},
     "output_type": "execute_result"
    }
   ],
   "source": [
    "import pandas as pd\n",
    "import numpy as np\n",
    "import IPython.display\n",
    "\n",
    "data = pd.read_csv('./data/filtered_data.csv', usecols=['Id','Title', 'Body', 'Tags'], index_col='Id')\n",
    "data.reset_index(inplace=True)\n",
    "data.drop(columns='Id', inplace=True)\n",
    "data.head(10)"
   ]
  },
  {
   "cell_type": "markdown",
   "id": "democratic-dependence",
   "metadata": {},
   "source": [
    "## Constitution du corpus "
   ]
  },
  {
   "cell_type": "code",
   "execution_count": 2,
   "id": "joint-familiar",
   "metadata": {},
   "outputs": [
    {
     "name": "stdout",
     "output_type": "stream",
     "text": [
      "Dix première observations\n"
     ]
    },
    {
     "data": {
      "text/html": [
       "<div>\n",
       "<style scoped>\n",
       "    .dataframe tbody tr th:only-of-type {\n",
       "        vertical-align: middle;\n",
       "    }\n",
       "\n",
       "    .dataframe tbody tr th {\n",
       "        vertical-align: top;\n",
       "    }\n",
       "\n",
       "    .dataframe thead th {\n",
       "        text-align: right;\n",
       "    }\n",
       "</style>\n",
       "<table border=\"1\" class=\"dataframe\">\n",
       "  <thead>\n",
       "    <tr style=\"text-align: right;\">\n",
       "      <th></th>\n",
       "      <th>Title</th>\n",
       "      <th>Body</th>\n",
       "      <th>Tags</th>\n",
       "      <th>Post</th>\n",
       "    </tr>\n",
       "  </thead>\n",
       "  <tbody>\n",
       "    <tr>\n",
       "      <th>0</th>\n",
       "      <td>Can (a== 1 &amp;&amp; a ==2 &amp;&amp; a==3) ever evaluate to ...</td>\n",
       "      <td>&lt;blockquote&gt;\\n  &lt;p&gt;&lt;strong&gt;Moderator note:&lt;/st...</td>\n",
       "      <td>&lt;javascript&gt;&lt;ecmascript-6&gt;</td>\n",
       "      <td>Can (a== 1 &amp;&amp; a ==2 &amp;&amp; a==3) ever evaluate to ...</td>\n",
       "    </tr>\n",
       "    <tr>\n",
       "      <th>1</th>\n",
       "      <td>Git is not working after macOS Update (xcrun: ...</td>\n",
       "      <td>&lt;p&gt;I updated to macOS Mojave (this happens on ...</td>\n",
       "      <td>&lt;xcode&gt;&lt;git&gt;&lt;macos&gt;&lt;command-line&gt;&lt;terminal&gt;</td>\n",
       "      <td>Git is not working after macOS Update (xcrun: ...</td>\n",
       "    </tr>\n",
       "    <tr>\n",
       "      <th>2</th>\n",
       "      <td>Why is 2 * (i * i) faster than 2 * i * i in Java?</td>\n",
       "      <td>&lt;p&gt;The following Java program takes on average...</td>\n",
       "      <td>&lt;java&gt;&lt;performance&gt;&lt;benchmarking&gt;&lt;bytecode&gt;&lt;jit&gt;</td>\n",
       "      <td>Why is 2 * (i * i) faster than 2 * i * i in Ja...</td>\n",
       "    </tr>\n",
       "    <tr>\n",
       "      <th>3</th>\n",
       "      <td>Xcode 10 Error: Multiple commands produce</td>\n",
       "      <td>&lt;blockquote&gt;\\n  &lt;p&gt;error: Multiple commands pr...</td>\n",
       "      <td>&lt;info.plist&gt;&lt;xcode10&gt;</td>\n",
       "      <td>Xcode 10 Error: Multiple commands produce &lt;blo...</td>\n",
       "    </tr>\n",
       "    <tr>\n",
       "      <th>4</th>\n",
       "      <td>Why does array[idx++]+=\"a\" increase idx once i...</td>\n",
       "      <td>&lt;p&gt;For a challenge, &lt;a href=\"https://stackover...</td>\n",
       "      <td>&lt;java&gt;&lt;java-8&gt;&lt;javac&gt;&lt;java-9&gt;&lt;java-10&gt;</td>\n",
       "      <td>Why does array[idx++]+=\"a\" increase idx once i...</td>\n",
       "    </tr>\n",
       "    <tr>\n",
       "      <th>5</th>\n",
       "      <td>Difference between npx and npm?</td>\n",
       "      <td>&lt;p&gt;I have just started learning React, and Fac...</td>\n",
       "      <td>&lt;javascript&gt;&lt;npm&gt;&lt;npx&gt;</td>\n",
       "      <td>Difference between npx and npm? &lt;p&gt;I have just...</td>\n",
       "    </tr>\n",
       "    <tr>\n",
       "      <th>6</th>\n",
       "      <td>Cannot inline bytecode built with JVM target 1...</td>\n",
       "      <td>&lt;p&gt;When trying to run the Example CorDapp (&lt;a ...</td>\n",
       "      <td>&lt;android&gt;&lt;intellij-idea&gt;&lt;kotlin&gt;&lt;jvm&gt;&lt;corda&gt;</td>\n",
       "      <td>Cannot inline bytecode built with JVM target 1...</td>\n",
       "    </tr>\n",
       "    <tr>\n",
       "      <th>7</th>\n",
       "      <td>Could not find module \"@angular-devkit/build-a...</td>\n",
       "      <td>&lt;p&gt;After updating to Angular 6.0.1, I get the ...</td>\n",
       "      <td>&lt;angular&gt;&lt;angular-cli&gt;&lt;angular6&gt;&lt;angular-cli-v6&gt;</td>\n",
       "      <td>Could not find module \"@angular-devkit/build-a...</td>\n",
       "    </tr>\n",
       "    <tr>\n",
       "      <th>8</th>\n",
       "      <td>How to fix \"ReferenceError: primordials is not...</td>\n",
       "      <td>&lt;p&gt;I have installed Node.js modules by 'npm in...</td>\n",
       "      <td>&lt;node.js&gt;&lt;sass&gt;&lt;gulp&gt;&lt;gulp-sass&gt;</td>\n",
       "      <td>How to fix \"ReferenceError: primordials is not...</td>\n",
       "    </tr>\n",
       "    <tr>\n",
       "      <th>9</th>\n",
       "      <td>Why is the result of ('b'+'a'+ + 'a' + 'a').to...</td>\n",
       "      <td>&lt;p&gt;I was practicing some JavaScript when one o...</td>\n",
       "      <td>&lt;javascript&gt;&lt;type-conversion&gt;</td>\n",
       "      <td>Why is the result of ('b'+'a'+ + 'a' + 'a').to...</td>\n",
       "    </tr>\n",
       "  </tbody>\n",
       "</table>\n",
       "</div>"
      ],
      "text/plain": [
       "                                               Title  \\\n",
       "0  Can (a== 1 && a ==2 && a==3) ever evaluate to ...   \n",
       "1  Git is not working after macOS Update (xcrun: ...   \n",
       "2  Why is 2 * (i * i) faster than 2 * i * i in Java?   \n",
       "3          Xcode 10 Error: Multiple commands produce   \n",
       "4  Why does array[idx++]+=\"a\" increase idx once i...   \n",
       "5                    Difference between npx and npm?   \n",
       "6  Cannot inline bytecode built with JVM target 1...   \n",
       "7  Could not find module \"@angular-devkit/build-a...   \n",
       "8  How to fix \"ReferenceError: primordials is not...   \n",
       "9  Why is the result of ('b'+'a'+ + 'a' + 'a').to...   \n",
       "\n",
       "                                                Body  \\\n",
       "0  <blockquote>\\n  <p><strong>Moderator note:</st...   \n",
       "1  <p>I updated to macOS Mojave (this happens on ...   \n",
       "2  <p>The following Java program takes on average...   \n",
       "3  <blockquote>\\n  <p>error: Multiple commands pr...   \n",
       "4  <p>For a challenge, <a href=\"https://stackover...   \n",
       "5  <p>I have just started learning React, and Fac...   \n",
       "6  <p>When trying to run the Example CorDapp (<a ...   \n",
       "7  <p>After updating to Angular 6.0.1, I get the ...   \n",
       "8  <p>I have installed Node.js modules by 'npm in...   \n",
       "9  <p>I was practicing some JavaScript when one o...   \n",
       "\n",
       "                                               Tags  \\\n",
       "0                        <javascript><ecmascript-6>   \n",
       "1       <xcode><git><macos><command-line><terminal>   \n",
       "2  <java><performance><benchmarking><bytecode><jit>   \n",
       "3                             <info.plist><xcode10>   \n",
       "4            <java><java-8><javac><java-9><java-10>   \n",
       "5                            <javascript><npm><npx>   \n",
       "6      <android><intellij-idea><kotlin><jvm><corda>   \n",
       "7  <angular><angular-cli><angular6><angular-cli-v6>   \n",
       "8                  <node.js><sass><gulp><gulp-sass>   \n",
       "9                     <javascript><type-conversion>   \n",
       "\n",
       "                                                Post  \n",
       "0  Can (a== 1 && a ==2 && a==3) ever evaluate to ...  \n",
       "1  Git is not working after macOS Update (xcrun: ...  \n",
       "2  Why is 2 * (i * i) faster than 2 * i * i in Ja...  \n",
       "3  Xcode 10 Error: Multiple commands produce <blo...  \n",
       "4  Why does array[idx++]+=\"a\" increase idx once i...  \n",
       "5  Difference between npx and npm? <p>I have just...  \n",
       "6  Cannot inline bytecode built with JVM target 1...  \n",
       "7  Could not find module \"@angular-devkit/build-a...  \n",
       "8  How to fix \"ReferenceError: primordials is not...  \n",
       "9  Why is the result of ('b'+'a'+ + 'a' + 'a').to...  "
      ]
     },
     "metadata": {},
     "output_type": "display_data"
    },
    {
     "name": "stdout",
     "output_type": "stream",
     "text": [
      "Premier élément de la liste corpus\n",
      "\n"
     ]
    },
    {
     "data": {
      "text/plain": [
       "'Can (a== 1 && a ==2 && a==3) ever evaluate to true? <blockquote>\\n  <p><strong>Moderator note:</strong> Please resist the urge to edit the code or remove this notice. The pattern of whitespace may be part of the question and therefore should not be tampered with unnecessarily. If you are in the \"whitespace is insignificant\" camp, you should be able to accept the code as is.</p>\\n</blockquote>\\n\\n<p>Is it ever possible that <code>(a== 1 &amp;&amp; a ==2 &amp;&amp; a==3)</code> could evaluate to <code>true</code> in JavaScript?</p>\\n\\n<p>This is an interview question asked by a major tech company. It happened two weeks back, but I\\'m still trying to find the answer. I know we never write such code in our day-to-day job, but I\\'m curious.</p>\\n'"
      ]
     },
     "metadata": {},
     "output_type": "display_data"
    },
    {
     "name": "stdout",
     "output_type": "stream",
     "text": [
      "\n",
      "\n",
      "Premier éléments de la liste tags\n",
      "\n"
     ]
    },
    {
     "data": {
      "text/plain": [
       "'<javascript><ecmascript-6>'"
      ]
     },
     "metadata": {},
     "output_type": "display_data"
    },
    {
     "name": "stdout",
     "output_type": "stream",
     "text": [
      "Occurences dans le corpus: 46504\n",
      "Occurences dans les tags: 46504\n",
      "CPU times: user 639 ms, sys: 288 ms, total: 927 ms\n",
      "Wall time: 922 ms\n"
     ]
    }
   ],
   "source": [
    "%%time\n",
    "data['Post'] = data.apply(lambda x: x['Title'] + ' ' + x['Body'] if x['Title'] == x['Title'] else x['Body'], axis=1)\n",
    "corpus = data['Post'].to_list()\n",
    "tags = data['Tags'].to_list()\n",
    "\n",
    "print(\"Dix première observations\")\n",
    "display(data.head(10))\n",
    "\n",
    "print(\"Premier élément de la liste corpus\\n\")\n",
    "display(corpus[0])\n",
    "print(\"\\n\")\n",
    "\n",
    "print(\"Premier éléments de la liste tags\\n\")\n",
    "display(tags[0])\n",
    "\n",
    "print(f\"Occurences dans le corpus: {len(corpus)}\")\n",
    "print(f\"Occurences dans les tags: {len(tags)}\")"
   ]
  },
  {
   "cell_type": "markdown",
   "id": "accompanied-switch",
   "metadata": {},
   "source": [
    "## Nettoyage HTML"
   ]
  },
  {
   "cell_type": "code",
   "execution_count": 3,
   "id": "cross-kinase",
   "metadata": {},
   "outputs": [
    {
     "name": "stdout",
     "output_type": "stream",
     "text": [
      "Premier élément de la liste corpus sans html\n",
      "\n"
     ]
    },
    {
     "data": {
      "text/plain": [
       "'Can (a== 1 && a ==2 && a==3) ever evaluate to true? Moderator note: Please resist the urge to edit the code or remove this notice. The pattern of whitespace may be part of the question and therefore should not be tampered with unnecessarily. If you are in the \"whitespace is insignificant\" camp, you should be able to accept the code as is. Is it ever possible that (a== 1 && a ==2 && a==3) could evaluate to true in JavaScript? This is an interview question asked by a major tech company. It happened two weeks back, but I\\'m still trying to find the answer. I know we never write such code in our day-to-day job, but I\\'m curious.'"
      ]
     },
     "metadata": {},
     "output_type": "display_data"
    },
    {
     "name": "stdout",
     "output_type": "stream",
     "text": [
      "\n",
      "\n",
      "Occurences dans le corpus: 46504\n",
      "CPU times: user 1min 5s, sys: 251 ms, total: 1min 5s\n",
      "Wall time: 1min 5s\n"
     ]
    }
   ],
   "source": [
    "%%time\n",
    "\n",
    "def clean_html(text):\n",
    "    \"\"\"\n",
    "    Remove HTML from a text.\n",
    "    \n",
    "    Args:\n",
    "        text(String): Row text with html \n",
    "             \n",
    "    Returns:\n",
    "        cleaned String\n",
    "    \"\"\"\n",
    "    import lxml\n",
    "    import html5lib\n",
    "    from bs4 import BeautifulSoup\n",
    " \n",
    "    soup = BeautifulSoup(text, \"html5lib\")\n",
    "\n",
    "    for sent in soup(['style', 'script']):\n",
    "            sent.decompose()\n",
    "   \n",
    "        \n",
    "    return ' '.join(soup.stripped_strings)\n",
    "\n",
    "corpus_wo_html = [clean_html(text) for text in corpus]\n",
    "\n",
    "print(\"Premier élément de la liste corpus sans html\\n\")\n",
    "display(corpus_wo_html[0])\n",
    "print(\"\\n\")\n",
    "\n",
    "print(f\"Occurences dans le corpus: {len(corpus_wo_html)}\")"
   ]
  },
  {
   "cell_type": "markdown",
   "id": "vanilla-contemporary",
   "metadata": {},
   "source": [
    "### Nettoyage du texte"
   ]
  },
  {
   "cell_type": "code",
   "execution_count": 5,
   "id": "catholic-wedding",
   "metadata": {},
   "outputs": [
    {
     "name": "stdout",
     "output_type": "stream",
     "text": [
      "Premier élément de la liste cleaned_corpus\n",
      "\n"
     ]
    },
    {
     "data": {
      "text/plain": [
       "'ever evaluate true moderator note please resist urge edit code remove this notice pattern whitespace part question therefore should tampered with unnecessarily whitespace insignificant camp should able accept code ever possible that could evaluate true javascript this interview question asked major tech company happened weeks back still trying find answer know never write such code curious'"
      ]
     },
     "metadata": {},
     "output_type": "display_data"
    },
    {
     "name": "stdout",
     "output_type": "stream",
     "text": [
      "\n",
      "\n",
      "Premier élément de la liste cleaned_tags\n",
      "\n"
     ]
    },
    {
     "data": {
      "text/plain": [
       "'javascript ecmascript'"
      ]
     },
     "metadata": {},
     "output_type": "display_data"
    },
    {
     "name": "stdout",
     "output_type": "stream",
     "text": [
      "\n",
      "\n",
      "Occurences dans le corpus nettoyé: 46504\n",
      "Occurences dans les tags nettoyés: 46504\n",
      "CPU times: user 7.09 s, sys: 130 ms, total: 7.22 s\n",
      "Wall time: 7.22 s\n"
     ]
    }
   ],
   "source": [
    "%%time\n",
    "\n",
    "def text_cleaning(text):\n",
    "    \"\"\"\n",
    "    Remove figures, punctuation, words shorter than two letters (excepted C or R) in a lowered text. \n",
    "    \n",
    "    Args:\n",
    "        text(String): Row text to clean\n",
    "        \n",
    "    Returns:\n",
    "       res(string): Cleaned text\n",
    "    \"\"\"\n",
    "    import re\n",
    "    \n",
    "    pattern = re.compile(r'[^\\w]|[\\d_]')\n",
    "    \n",
    "    try: \n",
    "        res = re.sub(pattern,\" \", text).lower()\n",
    "    except TypeError:\n",
    "        return text\n",
    "    \n",
    "    res = res.split(\" \")\n",
    "    res = list(filter(lambda x: len(x)>3 , res))\n",
    "    res = \" \".join(res)\n",
    "    return res\n",
    "\n",
    "cleaned_corpus = [text_cleaning(text) for text in corpus_wo_html]\n",
    "cleaned_tags = [text_cleaning(text).strip() for text in tags]\n",
    "\n",
    "\n",
    "print(\"Premier élément de la liste cleaned_corpus\\n\")\n",
    "display(cleaned_corpus[0])\n",
    "print(\"\\n\")\n",
    "\n",
    "print(\"Premier élément de la liste cleaned_tags\\n\")\n",
    "display(cleaned_tags[0])\n",
    "print(\"\\n\")\n",
    "\n",
    "print(f\"Occurences dans le corpus nettoyé: {len(cleaned_corpus)}\")\n",
    "print(f\"Occurences dans les tags nettoyés: {len(cleaned_tags)}\")"
   ]
  },
  {
   "cell_type": "markdown",
   "id": "impressive-preservation",
   "metadata": {},
   "source": [
    "### Tokenization"
   ]
  },
  {
   "cell_type": "code",
   "execution_count": 6,
   "id": "adjustable-asset",
   "metadata": {},
   "outputs": [
    {
     "name": "stdout",
     "output_type": "stream",
     "text": [
      "Premier élément de la liste tokenized_corpus\n",
      "\n"
     ]
    },
    {
     "data": {
      "text/plain": [
       "['ever',\n",
       " 'evaluate',\n",
       " 'true',\n",
       " 'moderator',\n",
       " 'note',\n",
       " 'please',\n",
       " 'resist',\n",
       " 'urge',\n",
       " 'edit',\n",
       " 'code',\n",
       " 'remove',\n",
       " 'notice',\n",
       " 'pattern',\n",
       " 'whitespace',\n",
       " 'part',\n",
       " 'question',\n",
       " 'therefore',\n",
       " 'tampered',\n",
       " 'unnecessarily',\n",
       " 'whitespace',\n",
       " 'insignificant',\n",
       " 'camp',\n",
       " 'able',\n",
       " 'accept',\n",
       " 'code',\n",
       " 'ever',\n",
       " 'possible',\n",
       " 'could',\n",
       " 'evaluate',\n",
       " 'true',\n",
       " 'javascript',\n",
       " 'interview',\n",
       " 'question',\n",
       " 'asked',\n",
       " 'major',\n",
       " 'tech',\n",
       " 'company',\n",
       " 'happened',\n",
       " 'weeks',\n",
       " 'back',\n",
       " 'still',\n",
       " 'trying',\n",
       " 'find',\n",
       " 'answer',\n",
       " 'know',\n",
       " 'never',\n",
       " 'write',\n",
       " 'code',\n",
       " 'curious']"
      ]
     },
     "metadata": {},
     "output_type": "display_data"
    },
    {
     "name": "stdout",
     "output_type": "stream",
     "text": [
      "\n",
      "\n",
      "Longueur du premier éléments de liste tokenized_corpus: 49\n",
      "\n",
      "\n",
      "Premier élément de la liste tokenized_tags\n",
      "\n"
     ]
    },
    {
     "data": {
      "text/plain": [
       "['javascript', 'ecmascript']"
      ]
     },
     "metadata": {},
     "output_type": "display_data"
    },
    {
     "name": "stdout",
     "output_type": "stream",
     "text": [
      "\n",
      "\n",
      "Occurences dans le corpus tokenizé: 46504\n",
      "Occurences dans la liste des tags: 46504\n",
      "CPU times: user 31.9 s, sys: 1.75 s, total: 33.7 s\n",
      "Wall time: 32.5 s\n"
     ]
    }
   ],
   "source": [
    "%%time\n",
    "def tokenize(text):\n",
    "    \"\"\"\n",
    "    Tokenize words of a text.\n",
    "    \n",
    "    Args:\n",
    "    \n",
    "        text(String): Row text\n",
    "        \n",
    "    Returns\n",
    "    \n",
    "        res(list): Tokenized string.\n",
    "    \"\"\"\n",
    "    \n",
    "    from nltk.corpus import stopwords\n",
    "    from nltk import word_tokenize\n",
    "    from nltk.tokenize import sent_tokenize\n",
    "\n",
    "    stop_words = set(stopwords.words('english'))\n",
    "    \n",
    "    try:\n",
    "        res = word_tokenize(text, language='english')\n",
    "    except TypeError:\n",
    "        return text\n",
    "    \n",
    "    res = [token for token in res if token not in stop_words]\n",
    "    return res\n",
    "\n",
    "tokenized_corpus = [tokenize(text) for text in cleaned_corpus]\n",
    "tokenized_tags = [tokenize(text) for text in cleaned_tags]\n",
    "\n",
    "print(\"Premier élément de la liste tokenized_corpus\\n\")\n",
    "display(tokenized_corpus[0])\n",
    "print(\"\\n\")\n",
    "print(f\"Longueur du premier éléments de liste tokenized_corpus: {len(tokenized_corpus[0])}\")\n",
    "print(\"\\n\")\n",
    "\n",
    "print(\"Premier élément de la liste tokenized_tags\\n\")\n",
    "display(tokenized_tags[0])\n",
    "print('\\n')\n",
    "\n",
    "\n",
    "print(f\"Occurences dans le corpus tokenizé: {len(tokenized_corpus)}\")\n",
    "print(f\"Occurences dans la liste des tags: {len(tokenized_tags)}\")"
   ]
  },
  {
   "cell_type": "markdown",
   "id": "lightweight-elizabeth",
   "metadata": {},
   "source": [
    "## Filtrage des noms à l'aide d'un modèle de POS tagging"
   ]
  },
  {
   "cell_type": "code",
   "execution_count": 7,
   "id": "precise-adult",
   "metadata": {},
   "outputs": [
    {
     "name": "stdout",
     "output_type": "stream",
     "text": [
      "Premier élément de la liste noun_corpus\n",
      "\n"
     ]
    },
    {
     "data": {
      "text/plain": [
       "['moderator',\n",
       " 'note',\n",
       " 'please',\n",
       " 'edit',\n",
       " 'code',\n",
       " 'notice',\n",
       " 'pattern',\n",
       " 'part',\n",
       " 'question',\n",
       " 'whitespace',\n",
       " 'insignificant',\n",
       " 'camp',\n",
       " 'accept',\n",
       " 'code',\n",
       " 'javascript',\n",
       " 'interview',\n",
       " 'question',\n",
       " 'tech',\n",
       " 'company',\n",
       " 'answer',\n",
       " 'code']"
      ]
     },
     "metadata": {},
     "output_type": "display_data"
    },
    {
     "name": "stdout",
     "output_type": "stream",
     "text": [
      "\n",
      "\n",
      "Longueur du premier éléments de liste noun_corpus: 21\n",
      "\n",
      "\n",
      "Occurences dans le corpus tokenizé: 46504\n",
      "CPU times: user 3min 33s, sys: 458 ms, total: 3min 33s\n",
      "Wall time: 3min 33s\n"
     ]
    }
   ],
   "source": [
    "%%time \n",
    "def filtering_nouns(tokens):\n",
    "    \"\"\"\n",
    "    Filter singular nouns\n",
    "    \n",
    "    Args:\n",
    "        tokens(list): A list o tokens\n",
    "        \n",
    "    \n",
    "    Returns:\n",
    "    \n",
    "        res(list): Filtered token list\n",
    "    \"\"\" \n",
    "    \n",
    "    import nltk\n",
    "    \n",
    "    res = nltk.pos_tag(tokens)\n",
    "    \n",
    "    res = [token[0] for token in res if token[1] == 'NN']\n",
    "    \n",
    "    return res\n",
    "\n",
    "noun_corpus = [filtering_nouns(tokens) for tokens in tokenized_corpus]\n",
    "\n",
    "print(\"Premier élément de la liste noun_corpus\\n\")\n",
    "display(noun_corpus[0])\n",
    "print(\"\\n\")\n",
    "\n",
    "print(f\"Longueur du premier éléments de liste noun_corpus: {len(noun_corpus[0])}\")\n",
    "print(\"\\n\")\n",
    "\n",
    "\n",
    "print(f\"Occurences dans le corpus tokenizé: {len(noun_corpus)}\")"
   ]
  },
  {
   "cell_type": "markdown",
   "id": "generic-lawrence",
   "metadata": {},
   "source": [
    "## Lemmatisation"
   ]
  },
  {
   "cell_type": "code",
   "execution_count": 8,
   "id": "gross-munich",
   "metadata": {},
   "outputs": [
    {
     "name": "stdout",
     "output_type": "stream",
     "text": [
      "Premier élément de la liste lemmatized_corpus\n",
      "\n"
     ]
    },
    {
     "data": {
      "text/plain": [
       "['moderator',\n",
       " 'note',\n",
       " 'please',\n",
       " 'edit',\n",
       " 'code',\n",
       " 'notice',\n",
       " 'pattern',\n",
       " 'part',\n",
       " 'question',\n",
       " 'whitespace',\n",
       " 'insignificant',\n",
       " 'camp',\n",
       " 'accept',\n",
       " 'code',\n",
       " 'javascript',\n",
       " 'interview',\n",
       " 'question',\n",
       " 'tech',\n",
       " 'company',\n",
       " 'answer',\n",
       " 'code']"
      ]
     },
     "metadata": {},
     "output_type": "display_data"
    },
    {
     "name": "stdout",
     "output_type": "stream",
     "text": [
      "\n",
      "\n",
      "Longueur du premier éléments de liste lemmatized_corpus: 21\n",
      "\n",
      "\n",
      "Premier élément de la liste lemmatized_tags\n",
      "\n"
     ]
    },
    {
     "data": {
      "text/plain": [
       "['javascript', 'ecmascript']"
      ]
     },
     "metadata": {},
     "output_type": "display_data"
    },
    {
     "name": "stdout",
     "output_type": "stream",
     "text": [
      "Occurences dans le corpus lemmatisé: 46504\n",
      "Occurences dans les tags lemmatisés: 46504\n",
      "CPU times: user 7.78 s, sys: 39.8 ms, total: 7.82 s\n",
      "Wall time: 7.82 s\n"
     ]
    }
   ],
   "source": [
    "%%time\n",
    "def lemmatization(tokens):\n",
    "    \"\"\"\n",
    "    Transform tokens into lems \n",
    "    \n",
    "    Args:\n",
    "        tokens(list): List of tokens\n",
    "        \n",
    "    Returns:\n",
    "        lemmatized(list): List of lemmatized tokens\n",
    "    \"\"\"\n",
    "    import nltk\n",
    "    from nltk.stem import WordNetLemmatizer\n",
    "    \n",
    "    lemmatizer = WordNetLemmatizer()\n",
    "    lemmatized = []\n",
    "    \n",
    "    for token in tokens:\n",
    "        lemmatized.append(lemmatizer.lemmatize(token))\n",
    "        \n",
    "    return lemmatized\n",
    "\n",
    "lemmatized_corpus = [lemmatization(tokens) for tokens in noun_corpus]\n",
    "lemmatized_tags = [lemmatization(tokens) for tokens in tokenized_tags]\n",
    "\n",
    "tags_wo_blanks = []\n",
    "for tokens in lemmatized_tags:\n",
    "    tokens = [token for token in tokens if len(token)>1]\n",
    "    tags_wo_blanks.append(tokens)\n",
    "\n",
    "print(\"Premier élément de la liste lemmatized_corpus\\n\")\n",
    "display(lemmatized_corpus[0])\n",
    "print(\"\\n\")\n",
    "\n",
    "print(f\"Longueur du premier éléments de liste lemmatized_corpus: {len(lemmatized_corpus[0])}\")\n",
    "print(\"\\n\")\n",
    "\n",
    "print(\"Premier élément de la liste lemmatized_tags\\n\")\n",
    "display(tags_wo_blanks[0])\n",
    "\n",
    "\n",
    "print(f\"Occurences dans le corpus lemmatisé: {len(lemmatized_corpus)}\")\n",
    "print(f\"Occurences dans les tags lemmatisés: {len(tags_wo_blanks)}\")"
   ]
  },
  {
   "cell_type": "markdown",
   "id": "lesbian-danish",
   "metadata": {},
   "source": [
    "### Filtrage des valeurs vides"
   ]
  },
  {
   "cell_type": "code",
   "execution_count": 9,
   "id": "another-lawyer",
   "metadata": {},
   "outputs": [
    {
     "name": "stdout",
     "output_type": "stream",
     "text": [
      "observations restantes du corpus traité: 45902\n",
      "Observations restante du corpus original: 45902\n"
     ]
    },
    {
     "data": {
      "text/html": [
       "<div>\n",
       "<style scoped>\n",
       "    .dataframe tbody tr th:only-of-type {\n",
       "        vertical-align: middle;\n",
       "    }\n",
       "\n",
       "    .dataframe tbody tr th {\n",
       "        vertical-align: top;\n",
       "    }\n",
       "\n",
       "    .dataframe thead th {\n",
       "        text-align: right;\n",
       "    }\n",
       "</style>\n",
       "<table border=\"1\" class=\"dataframe\">\n",
       "  <thead>\n",
       "    <tr style=\"text-align: right;\">\n",
       "      <th></th>\n",
       "      <th>Post</th>\n",
       "      <th>splitted_text</th>\n",
       "      <th>splitted_tags</th>\n",
       "    </tr>\n",
       "  </thead>\n",
       "  <tbody>\n",
       "    <tr>\n",
       "      <th>0</th>\n",
       "      <td>Can (a== 1 &amp;&amp; a ==2 &amp;&amp; a==3) ever evaluate to ...</td>\n",
       "      <td>[moderator, note, please, edit, code, notice, ...</td>\n",
       "      <td>[javascript, ecmascript]</td>\n",
       "    </tr>\n",
       "    <tr>\n",
       "      <th>1</th>\n",
       "      <td>Git is not working after macOS Update (xcrun: ...</td>\n",
       "      <td>[macos, error, developer, path, developer, the...</td>\n",
       "      <td>[xcode, macos, command, line, terminal]</td>\n",
       "    </tr>\n",
       "    <tr>\n",
       "      <th>2</th>\n",
       "      <td>Why is 2 * (i * i) faster than 2 * i * i in Ja...</td>\n",
       "      <td>[java, program, void, string, args, starttime,...</td>\n",
       "      <td>[java, performance, benchmarking, bytecode]</td>\n",
       "    </tr>\n",
       "    <tr>\n",
       "      <th>3</th>\n",
       "      <td>Xcode 10 Error: Multiple commands produce &lt;blo...</td>\n",
       "      <td>[xcode, error, error, developer, deriveddata, ...</td>\n",
       "      <td>[info, plist, xcode]</td>\n",
       "    </tr>\n",
       "    <tr>\n",
       "      <th>4</th>\n",
       "      <td>Why does array[idx++]+=\"a\" increase idx once i...</td>\n",
       "      <td>[increase, java, challenge, code, code, import...</td>\n",
       "      <td>[java, java, javac, java, java]</td>\n",
       "    </tr>\n",
       "    <tr>\n",
       "      <th>5</th>\n",
       "      <td>Difference between npx and npm? &lt;p&gt;I have just...</td>\n",
       "      <td>[difference, react, facebook, setup, project, ...</td>\n",
       "      <td>[javascript]</td>\n",
       "    </tr>\n",
       "    <tr>\n",
       "      <th>6</th>\n",
       "      <td>Cannot inline bytecode built with JVM target 1...</td>\n",
       "      <td>[inline, bytecode, target, bytecode, target, e...</td>\n",
       "      <td>[android, intellij, idea, kotlin, corda]</td>\n",
       "    </tr>\n",
       "    <tr>\n",
       "      <th>7</th>\n",
       "      <td>Could not find module \"@angular-devkit/build-a...</td>\n",
       "      <td>[devkit, error, serve, devkit, home, error, de...</td>\n",
       "      <td>[angular, angular, angular, angular]</td>\n",
       "    </tr>\n",
       "    <tr>\n",
       "      <th>8</th>\n",
       "      <td>How to fix \"ReferenceError: primordials is not...</td>\n",
       "      <td>[referenceerror, node, sas, watch, command, pr...</td>\n",
       "      <td>[node, sas, gulp, gulp, sas]</td>\n",
       "    </tr>\n",
       "    <tr>\n",
       "      <th>9</th>\n",
       "      <td>Why is the result of ('b'+'a'+ + 'a' + 'a').to...</td>\n",
       "      <td>[result, tolowercase, banana, javascript, java...</td>\n",
       "      <td>[javascript, type, conversion]</td>\n",
       "    </tr>\n",
       "  </tbody>\n",
       "</table>\n",
       "</div>"
      ],
      "text/plain": [
       "                                                Post  \\\n",
       "0  Can (a== 1 && a ==2 && a==3) ever evaluate to ...   \n",
       "1  Git is not working after macOS Update (xcrun: ...   \n",
       "2  Why is 2 * (i * i) faster than 2 * i * i in Ja...   \n",
       "3  Xcode 10 Error: Multiple commands produce <blo...   \n",
       "4  Why does array[idx++]+=\"a\" increase idx once i...   \n",
       "5  Difference between npx and npm? <p>I have just...   \n",
       "6  Cannot inline bytecode built with JVM target 1...   \n",
       "7  Could not find module \"@angular-devkit/build-a...   \n",
       "8  How to fix \"ReferenceError: primordials is not...   \n",
       "9  Why is the result of ('b'+'a'+ + 'a' + 'a').to...   \n",
       "\n",
       "                                       splitted_text  \\\n",
       "0  [moderator, note, please, edit, code, notice, ...   \n",
       "1  [macos, error, developer, path, developer, the...   \n",
       "2  [java, program, void, string, args, starttime,...   \n",
       "3  [xcode, error, error, developer, deriveddata, ...   \n",
       "4  [increase, java, challenge, code, code, import...   \n",
       "5  [difference, react, facebook, setup, project, ...   \n",
       "6  [inline, bytecode, target, bytecode, target, e...   \n",
       "7  [devkit, error, serve, devkit, home, error, de...   \n",
       "8  [referenceerror, node, sas, watch, command, pr...   \n",
       "9  [result, tolowercase, banana, javascript, java...   \n",
       "\n",
       "                                 splitted_tags  \n",
       "0                     [javascript, ecmascript]  \n",
       "1      [xcode, macos, command, line, terminal]  \n",
       "2  [java, performance, benchmarking, bytecode]  \n",
       "3                         [info, plist, xcode]  \n",
       "4              [java, java, javac, java, java]  \n",
       "5                                 [javascript]  \n",
       "6     [android, intellij, idea, kotlin, corda]  \n",
       "7         [angular, angular, angular, angular]  \n",
       "8                 [node, sas, gulp, gulp, sas]  \n",
       "9               [javascript, type, conversion]  "
      ]
     },
     "execution_count": 9,
     "metadata": {},
     "output_type": "execute_result"
    }
   ],
   "source": [
    "joined_corpus = [\" \".join(text) for text in lemmatized_corpus]\n",
    "corpus_df = pd.DataFrame(joined_corpus, columns=['preprocessed_text'])\n",
    "corpus_df['len_text'] = corpus_df['preprocessed_text'].apply(lambda x: len(x))\n",
    "\n",
    "joined_tags = [\" \".join(tags) for tags in tags_wo_blanks]\n",
    "tag_df = pd.DataFrame(joined_tags, columns=['preprocessed_tags'])\n",
    "tag_df['len_tags'] = tag_df['preprocessed_tags'].apply(lambda x: len(x))\n",
    "\n",
    "corpus_tag_df = pd.concat([corpus_df, tag_df], axis=1)\n",
    "\n",
    "empty_data_idx = corpus_tag_df[(corpus_tag_df['len_text']==0) | (corpus_tag_df['len_tags']==0)].index\n",
    "\n",
    "corpus_tag_df.drop(index=empty_data_idx, inplace=True)\n",
    "data.drop(index=empty_data_idx, inplace=True)\n",
    "\n",
    "print(f\"observations restantes du corpus traité: {corpus_tag_df.shape[0]}\")\n",
    "print(f\"Observations restante du corpus original: {data.shape[0]}\")\n",
    "\n",
    "\n",
    "corpus_tag_df['splitted_text'] = corpus_tag_df['preprocessed_text'].apply(lambda x: x.split(' ') )\n",
    "corpus_tag_df['splitted_tags'] = corpus_tag_df['preprocessed_tags'].apply(lambda x: x.split(' ') )\n",
    "\n",
    "filtered_corpus = corpus_tag_df['splitted_text'].to_list()\n",
    "filtered_tags = corpus_tag_df['splitted_tags'].to_list()\n",
    "filtered_original_posts = data['Post'].to_list()\n",
    "\n",
    "filtered_tokenized_vs_original = pd.concat([data['Post'],\n",
    "                                            corpus_tag_df['splitted_text'], \n",
    "                                            corpus_tag_df['splitted_tags']],\n",
    "                                            axis=1)\n",
    "\n",
    "filtered_tokenized_vs_original.to_csv(\"./data/cleaned_corpus.csv\", index=False)\n",
    "filtered_tokenized_vs_original.to_pickle('./data/cleaned_corpus.pkl')\n",
    "\n",
    "filtered_tokenized_vs_original.head(10)"
   ]
  },
  {
   "cell_type": "markdown",
   "id": "shared-interim",
   "metadata": {},
   "source": [
    "## Fréquence de distribution tokens"
   ]
  },
  {
   "cell_type": "code",
   "execution_count": 10,
   "id": "amateur-pixel",
   "metadata": {},
   "outputs": [
    {
     "name": "stdout",
     "output_type": "stream",
     "text": [
      "Nombre de tokens du corpus 114368\n",
      "Affichage des 20 tokens les plus utilisés\n"
     ]
    },
    {
     "data": {
      "text/html": [
       "<div>\n",
       "<style scoped>\n",
       "    .dataframe tbody tr th:only-of-type {\n",
       "        vertical-align: middle;\n",
       "    }\n",
       "\n",
       "    .dataframe tbody tr th {\n",
       "        vertical-align: top;\n",
       "    }\n",
       "\n",
       "    .dataframe thead th {\n",
       "        text-align: right;\n",
       "    }\n",
       "</style>\n",
       "<table border=\"1\" class=\"dataframe\">\n",
       "  <thead>\n",
       "    <tr style=\"text-align: right;\">\n",
       "      <th></th>\n",
       "      <th>Frequency</th>\n",
       "    </tr>\n",
       "    <tr>\n",
       "      <th>Word</th>\n",
       "      <th></th>\n",
       "    </tr>\n",
       "  </thead>\n",
       "  <tbody>\n",
       "    <tr>\n",
       "      <th>java</th>\n",
       "      <td>45866</td>\n",
       "    </tr>\n",
       "    <tr>\n",
       "      <th>error</th>\n",
       "      <td>42385</td>\n",
       "    </tr>\n",
       "    <tr>\n",
       "      <th>class</th>\n",
       "      <td>33214</td>\n",
       "    </tr>\n",
       "    <tr>\n",
       "      <th>name</th>\n",
       "      <td>31687</td>\n",
       "    </tr>\n",
       "    <tr>\n",
       "      <th>file</th>\n",
       "      <td>30291</td>\n",
       "    </tr>\n",
       "    <tr>\n",
       "      <th>import</th>\n",
       "      <td>27868</td>\n",
       "    </tr>\n",
       "    <tr>\n",
       "      <th>code</th>\n",
       "      <td>25715</td>\n",
       "    </tr>\n",
       "    <tr>\n",
       "      <th>version</th>\n",
       "      <td>23367</td>\n",
       "    </tr>\n",
       "    <tr>\n",
       "      <th>http</th>\n",
       "      <td>22633</td>\n",
       "    </tr>\n",
       "    <tr>\n",
       "      <th>value</th>\n",
       "      <td>19498</td>\n",
       "    </tr>\n",
       "    <tr>\n",
       "      <th>return</th>\n",
       "      <td>18361</td>\n",
       "    </tr>\n",
       "    <tr>\n",
       "      <th>function</th>\n",
       "      <td>17393</td>\n",
       "    </tr>\n",
       "    <tr>\n",
       "      <th>type</th>\n",
       "      <td>16308</td>\n",
       "    </tr>\n",
       "    <tr>\n",
       "      <th>test</th>\n",
       "      <td>16173</td>\n",
       "    </tr>\n",
       "    <tr>\n",
       "      <th>core</th>\n",
       "      <td>15637</td>\n",
       "    </tr>\n",
       "    <tr>\n",
       "      <th>python</th>\n",
       "      <td>14888</td>\n",
       "    </tr>\n",
       "    <tr>\n",
       "      <th>line</th>\n",
       "      <td>14345</td>\n",
       "    </tr>\n",
       "    <tr>\n",
       "      <th>json</th>\n",
       "      <td>13523</td>\n",
       "    </tr>\n",
       "    <tr>\n",
       "      <th>project</th>\n",
       "      <td>13333</td>\n",
       "    </tr>\n",
       "    <tr>\n",
       "      <th>image</th>\n",
       "      <td>13225</td>\n",
       "    </tr>\n",
       "  </tbody>\n",
       "</table>\n",
       "</div>"
      ],
      "text/plain": [
       "          Frequency\n",
       "Word               \n",
       "java          45866\n",
       "error         42385\n",
       "class         33214\n",
       "name          31687\n",
       "file          30291\n",
       "import        27868\n",
       "code          25715\n",
       "version       23367\n",
       "http          22633\n",
       "value         19498\n",
       "return        18361\n",
       "function      17393\n",
       "type          16308\n",
       "test          16173\n",
       "core          15637\n",
       "python        14888\n",
       "line          14345\n",
       "json          13523\n",
       "project       13333\n",
       "image         13225"
      ]
     },
     "metadata": {},
     "output_type": "display_data"
    },
    {
     "name": "stdout",
     "output_type": "stream",
     "text": [
      "CPU times: user 1.17 s, sys: 39.9 ms, total: 1.21 s\n",
      "Wall time: 1.21 s\n"
     ]
    }
   ],
   "source": [
    "%%time\n",
    "def build_word_distribution(corpus):\n",
    "    \"\"\"\n",
    "    Build corpus word distribution\n",
    "    \n",
    "    Args:\n",
    "        Corpus(List of lists): Original corpus\n",
    "    \n",
    "    Returns:\n",
    "        \n",
    "        word_dist_df(DataFrame): Word distribution of the corpus\n",
    "    \"\"\"\n",
    "    \n",
    "    from nltk import FreqDist\n",
    "    word_corpus = [token for token_list in corpus for token in token_list]\n",
    "    word_dist = FreqDist(word_corpus)\n",
    "    word_dist_df = pd.DataFrame(word_dist.items(), columns=['Word', 'Frequency']).set_index('Word')\n",
    "    word_dist_df.sort_values(\"Frequency\", ascending=False, inplace=True)\n",
    "\n",
    "    return word_dist_df\n",
    "\n",
    "word_dist = build_word_distribution(filtered_corpus)\n",
    "\n",
    "print(f\"Nombre de tokens du corpus {word_dist.shape[0]}\")\n",
    "print(\"Affichage des 20 tokens les plus utilisés\")\n",
    "display(word_dist.head(20))"
   ]
  },
  {
   "cell_type": "markdown",
   "id": "utility-contrast",
   "metadata": {},
   "source": [
    "## Fréquence de distribution des tags"
   ]
  },
  {
   "cell_type": "code",
   "execution_count": 11,
   "id": "operating-building",
   "metadata": {},
   "outputs": [
    {
     "name": "stdout",
     "output_type": "stream",
     "text": [
      "Top 20 des tags les plus utilisés\n"
     ]
    },
    {
     "data": {
      "text/html": [
       "<div>\n",
       "<style scoped>\n",
       "    .dataframe tbody tr th:only-of-type {\n",
       "        vertical-align: middle;\n",
       "    }\n",
       "\n",
       "    .dataframe tbody tr th {\n",
       "        vertical-align: top;\n",
       "    }\n",
       "\n",
       "    .dataframe thead th {\n",
       "        text-align: right;\n",
       "    }\n",
       "</style>\n",
       "<table border=\"1\" class=\"dataframe\">\n",
       "  <thead>\n",
       "    <tr style=\"text-align: right;\">\n",
       "      <th></th>\n",
       "      <th>Frequency</th>\n",
       "    </tr>\n",
       "    <tr>\n",
       "      <th>Word</th>\n",
       "      <th></th>\n",
       "    </tr>\n",
       "  </thead>\n",
       "  <tbody>\n",
       "    <tr>\n",
       "      <th>python</th>\n",
       "      <td>8987</td>\n",
       "    </tr>\n",
       "    <tr>\n",
       "      <th>android</th>\n",
       "      <td>6782</td>\n",
       "    </tr>\n",
       "    <tr>\n",
       "      <th>angular</th>\n",
       "      <td>5306</td>\n",
       "    </tr>\n",
       "    <tr>\n",
       "      <th>javascript</th>\n",
       "      <td>5205</td>\n",
       "    </tr>\n",
       "    <tr>\n",
       "      <th>java</th>\n",
       "      <td>3727</td>\n",
       "    </tr>\n",
       "    <tr>\n",
       "      <th>reactjs</th>\n",
       "      <td>3475</td>\n",
       "    </tr>\n",
       "    <tr>\n",
       "      <th>flutter</th>\n",
       "      <td>3092</td>\n",
       "    </tr>\n",
       "    <tr>\n",
       "      <th>spring</th>\n",
       "      <td>3004</td>\n",
       "    </tr>\n",
       "    <tr>\n",
       "      <th>react</th>\n",
       "      <td>2822</td>\n",
       "    </tr>\n",
       "    <tr>\n",
       "      <th>core</th>\n",
       "      <td>2579</td>\n",
       "    </tr>\n",
       "    <tr>\n",
       "      <th>google</th>\n",
       "      <td>2392</td>\n",
       "    </tr>\n",
       "    <tr>\n",
       "      <th>studio</th>\n",
       "      <td>2021</td>\n",
       "    </tr>\n",
       "    <tr>\n",
       "      <th>docker</th>\n",
       "      <td>1986</td>\n",
       "    </tr>\n",
       "    <tr>\n",
       "      <th>node</th>\n",
       "      <td>1986</td>\n",
       "    </tr>\n",
       "    <tr>\n",
       "      <th>typescript</th>\n",
       "      <td>1812</td>\n",
       "    </tr>\n",
       "    <tr>\n",
       "      <th>amazon</th>\n",
       "      <td>1473</td>\n",
       "    </tr>\n",
       "    <tr>\n",
       "      <th>dart</th>\n",
       "      <td>1424</td>\n",
       "    </tr>\n",
       "    <tr>\n",
       "      <th>laravel</th>\n",
       "      <td>1417</td>\n",
       "    </tr>\n",
       "    <tr>\n",
       "      <th>native</th>\n",
       "      <td>1390</td>\n",
       "    </tr>\n",
       "    <tr>\n",
       "      <th>visual</th>\n",
       "      <td>1335</td>\n",
       "    </tr>\n",
       "  </tbody>\n",
       "</table>\n",
       "</div>"
      ],
      "text/plain": [
       "            Frequency\n",
       "Word                 \n",
       "python           8987\n",
       "android          6782\n",
       "angular          5306\n",
       "javascript       5205\n",
       "java             3727\n",
       "reactjs          3475\n",
       "flutter          3092\n",
       "spring           3004\n",
       "react            2822\n",
       "core             2579\n",
       "google           2392\n",
       "studio           2021\n",
       "docker           1986\n",
       "node             1986\n",
       "typescript       1812\n",
       "amazon           1473\n",
       "dart             1424\n",
       "laravel          1417\n",
       "native           1390\n",
       "visual           1335"
      ]
     },
     "metadata": {},
     "output_type": "display_data"
    },
    {
     "name": "stdout",
     "output_type": "stream",
     "text": [
      "Nombre de tags: 6141\n"
     ]
    }
   ],
   "source": [
    "tag_dist = build_word_distribution(filtered_tags)\n",
    "print(\"Top 20 des tags les plus utilisés\")\n",
    "display(tag_dist.head(20))\n",
    "print(f\"Nombre de tags: {len(tag_dist)}\")\n",
    "first_200_tags = tag_dist[0:200].index.to_list()"
   ]
  },
  {
   "cell_type": "code",
   "execution_count": 12,
   "id": "uniform-printer",
   "metadata": {},
   "outputs": [
    {
     "data": {
      "text/plain": [
       "False"
      ]
     },
     "execution_count": 12,
     "metadata": {},
     "output_type": "execute_result"
    }
   ],
   "source": [
    "'command' in first_200_tags"
   ]
  },
  {
   "cell_type": "markdown",
   "id": "reserved-moisture",
   "metadata": {},
   "source": [
    "### filtrage top 200 tags"
   ]
  },
  {
   "cell_type": "code",
   "execution_count": 13,
   "id": "serial-driver",
   "metadata": {},
   "outputs": [
    {
     "name": "stdout",
     "output_type": "stream",
     "text": [
      "Observations restantes dans le coprus traité: 43132\n",
      "Observations restantes dans le corpus original: 43132\n"
     ]
    }
   ],
   "source": [
    "filtered_corpus_tag_df = corpus_tag_df.copy()\n",
    "filtered_corpus_tag_df['tags_in_top200'] = filtered_corpus_tag_df['splitted_tags'].apply(lambda tags: [tag for tag in tags if tag in first_200_tags])\n",
    "\n",
    "filtered_corpus_tag_df['len_tags_in_top200'] = filtered_corpus_tag_df['tags_in_top200'].apply(lambda x: len(x))\n",
    "missing_filtered_data = filtered_corpus_tag_df[filtered_corpus_tag_df['len_tags_in_top200'] == 0].index\n",
    "\n",
    "filtered_corpus_tag_df.drop(index=missing_filtered_data, inplace=True)\n",
    "data.drop(index=missing_filtered_data, inplace=True)\n",
    "print(f\"Observations restantes dans le coprus traité: {filtered_corpus_tag_df.shape[0]}\")\n",
    "print(f\"Observations restantes dans le corpus original: {data.shape[0]}\")\n",
    "\n",
    "top200_corpus = filtered_corpus_tag_df['splitted_text'].to_list()\n",
    "top200_joined_corpus = filtered_corpus_tag_df['preprocessed_text'].to_list()\n",
    "top200_tags = filtered_corpus_tag_df['tags_in_top200'].to_list()"
   ]
  },
  {
   "cell_type": "markdown",
   "id": "dangerous-steps",
   "metadata": {},
   "source": [
    "### Fréquences de distribution des tokens après filtrage du top 200 tags"
   ]
  },
  {
   "cell_type": "code",
   "execution_count": 14,
   "id": "promising-championship",
   "metadata": {},
   "outputs": [
    {
     "name": "stdout",
     "output_type": "stream",
     "text": [
      "Nombre de tokens du corpus 109012\n",
      "Affichage des 20 tokens les plus utilisés\n"
     ]
    },
    {
     "data": {
      "text/html": [
       "<div>\n",
       "<style scoped>\n",
       "    .dataframe tbody tr th:only-of-type {\n",
       "        vertical-align: middle;\n",
       "    }\n",
       "\n",
       "    .dataframe tbody tr th {\n",
       "        vertical-align: top;\n",
       "    }\n",
       "\n",
       "    .dataframe thead th {\n",
       "        text-align: right;\n",
       "    }\n",
       "</style>\n",
       "<table border=\"1\" class=\"dataframe\">\n",
       "  <thead>\n",
       "    <tr style=\"text-align: right;\">\n",
       "      <th></th>\n",
       "      <th>Frequency</th>\n",
       "    </tr>\n",
       "    <tr>\n",
       "      <th>Word</th>\n",
       "      <th></th>\n",
       "    </tr>\n",
       "  </thead>\n",
       "  <tbody>\n",
       "    <tr>\n",
       "      <th>java</th>\n",
       "      <td>45220</td>\n",
       "    </tr>\n",
       "    <tr>\n",
       "      <th>error</th>\n",
       "      <td>40145</td>\n",
       "    </tr>\n",
       "    <tr>\n",
       "      <th>class</th>\n",
       "      <td>31994</td>\n",
       "    </tr>\n",
       "    <tr>\n",
       "      <th>name</th>\n",
       "      <td>30387</td>\n",
       "    </tr>\n",
       "    <tr>\n",
       "      <th>file</th>\n",
       "      <td>28857</td>\n",
       "    </tr>\n",
       "    <tr>\n",
       "      <th>import</th>\n",
       "      <td>27434</td>\n",
       "    </tr>\n",
       "    <tr>\n",
       "      <th>code</th>\n",
       "      <td>24251</td>\n",
       "    </tr>\n",
       "    <tr>\n",
       "      <th>version</th>\n",
       "      <td>22440</td>\n",
       "    </tr>\n",
       "    <tr>\n",
       "      <th>http</th>\n",
       "      <td>21656</td>\n",
       "    </tr>\n",
       "    <tr>\n",
       "      <th>value</th>\n",
       "      <td>18456</td>\n",
       "    </tr>\n",
       "    <tr>\n",
       "      <th>return</th>\n",
       "      <td>17538</td>\n",
       "    </tr>\n",
       "    <tr>\n",
       "      <th>function</th>\n",
       "      <td>16513</td>\n",
       "    </tr>\n",
       "    <tr>\n",
       "      <th>test</th>\n",
       "      <td>15475</td>\n",
       "    </tr>\n",
       "    <tr>\n",
       "      <th>core</th>\n",
       "      <td>15379</td>\n",
       "    </tr>\n",
       "    <tr>\n",
       "      <th>type</th>\n",
       "      <td>15375</td>\n",
       "    </tr>\n",
       "    <tr>\n",
       "      <th>python</th>\n",
       "      <td>14715</td>\n",
       "    </tr>\n",
       "    <tr>\n",
       "      <th>line</th>\n",
       "      <td>13723</td>\n",
       "    </tr>\n",
       "    <tr>\n",
       "      <th>json</th>\n",
       "      <td>13157</td>\n",
       "    </tr>\n",
       "    <tr>\n",
       "      <th>image</th>\n",
       "      <td>12868</td>\n",
       "    </tr>\n",
       "    <tr>\n",
       "      <th>project</th>\n",
       "      <td>12865</td>\n",
       "    </tr>\n",
       "  </tbody>\n",
       "</table>\n",
       "</div>"
      ],
      "text/plain": [
       "          Frequency\n",
       "Word               \n",
       "java          45220\n",
       "error         40145\n",
       "class         31994\n",
       "name          30387\n",
       "file          28857\n",
       "import        27434\n",
       "code          24251\n",
       "version       22440\n",
       "http          21656\n",
       "value         18456\n",
       "return        17538\n",
       "function      16513\n",
       "test          15475\n",
       "core          15379\n",
       "type          15375\n",
       "python        14715\n",
       "line          13723\n",
       "json          13157\n",
       "image         12868\n",
       "project       12865"
      ]
     },
     "metadata": {},
     "output_type": "display_data"
    },
    {
     "data": {
      "text/plain": [
       "456"
      ]
     },
     "execution_count": 14,
     "metadata": {},
     "output_type": "execute_result"
    }
   ],
   "source": [
    "word_dist_top200 = build_word_distribution(top200_corpus)\n",
    "print(f\"Nombre de tokens du corpus {word_dist_top200.shape[0]}\")\n",
    "print(\"Affichage des 20 tokens les plus utilisés\")\n",
    "display(word_dist_top200.head(20))\n",
    "word_dist_top200[word_dist_top200[\"Frequency\"]>=1000].shape[0]"
   ]
  },
  {
   "cell_type": "markdown",
   "id": "willing-aerospace",
   "metadata": {},
   "source": [
    "### Fréquences de distribution des tags après filtrage du top 200 tags"
   ]
  },
  {
   "cell_type": "code",
   "execution_count": 15,
   "id": "median-catalog",
   "metadata": {},
   "outputs": [
    {
     "name": "stdout",
     "output_type": "stream",
     "text": [
      "Top 20 des tags les plus utilisés\n"
     ]
    },
    {
     "data": {
      "text/html": [
       "<div>\n",
       "<style scoped>\n",
       "    .dataframe tbody tr th:only-of-type {\n",
       "        vertical-align: middle;\n",
       "    }\n",
       "\n",
       "    .dataframe tbody tr th {\n",
       "        vertical-align: top;\n",
       "    }\n",
       "\n",
       "    .dataframe thead th {\n",
       "        text-align: right;\n",
       "    }\n",
       "</style>\n",
       "<table border=\"1\" class=\"dataframe\">\n",
       "  <thead>\n",
       "    <tr style=\"text-align: right;\">\n",
       "      <th></th>\n",
       "      <th>Frequency</th>\n",
       "    </tr>\n",
       "    <tr>\n",
       "      <th>Word</th>\n",
       "      <th></th>\n",
       "    </tr>\n",
       "  </thead>\n",
       "  <tbody>\n",
       "    <tr>\n",
       "      <th>python</th>\n",
       "      <td>8987</td>\n",
       "    </tr>\n",
       "    <tr>\n",
       "      <th>android</th>\n",
       "      <td>6782</td>\n",
       "    </tr>\n",
       "    <tr>\n",
       "      <th>angular</th>\n",
       "      <td>5306</td>\n",
       "    </tr>\n",
       "    <tr>\n",
       "      <th>javascript</th>\n",
       "      <td>5205</td>\n",
       "    </tr>\n",
       "    <tr>\n",
       "      <th>java</th>\n",
       "      <td>3727</td>\n",
       "    </tr>\n",
       "    <tr>\n",
       "      <th>reactjs</th>\n",
       "      <td>3475</td>\n",
       "    </tr>\n",
       "    <tr>\n",
       "      <th>flutter</th>\n",
       "      <td>3092</td>\n",
       "    </tr>\n",
       "    <tr>\n",
       "      <th>spring</th>\n",
       "      <td>3004</td>\n",
       "    </tr>\n",
       "    <tr>\n",
       "      <th>react</th>\n",
       "      <td>2822</td>\n",
       "    </tr>\n",
       "    <tr>\n",
       "      <th>core</th>\n",
       "      <td>2579</td>\n",
       "    </tr>\n",
       "    <tr>\n",
       "      <th>google</th>\n",
       "      <td>2392</td>\n",
       "    </tr>\n",
       "    <tr>\n",
       "      <th>studio</th>\n",
       "      <td>2021</td>\n",
       "    </tr>\n",
       "    <tr>\n",
       "      <th>node</th>\n",
       "      <td>1986</td>\n",
       "    </tr>\n",
       "    <tr>\n",
       "      <th>docker</th>\n",
       "      <td>1986</td>\n",
       "    </tr>\n",
       "    <tr>\n",
       "      <th>typescript</th>\n",
       "      <td>1812</td>\n",
       "    </tr>\n",
       "    <tr>\n",
       "      <th>amazon</th>\n",
       "      <td>1473</td>\n",
       "    </tr>\n",
       "    <tr>\n",
       "      <th>dart</th>\n",
       "      <td>1424</td>\n",
       "    </tr>\n",
       "    <tr>\n",
       "      <th>laravel</th>\n",
       "      <td>1417</td>\n",
       "    </tr>\n",
       "    <tr>\n",
       "      <th>native</th>\n",
       "      <td>1390</td>\n",
       "    </tr>\n",
       "    <tr>\n",
       "      <th>visual</th>\n",
       "      <td>1335</td>\n",
       "    </tr>\n",
       "  </tbody>\n",
       "</table>\n",
       "</div>"
      ],
      "text/plain": [
       "            Frequency\n",
       "Word                 \n",
       "python           8987\n",
       "android          6782\n",
       "angular          5306\n",
       "javascript       5205\n",
       "java             3727\n",
       "reactjs          3475\n",
       "flutter          3092\n",
       "spring           3004\n",
       "react            2822\n",
       "core             2579\n",
       "google           2392\n",
       "studio           2021\n",
       "node             1986\n",
       "docker           1986\n",
       "typescript       1812\n",
       "amazon           1473\n",
       "dart             1424\n",
       "laravel          1417\n",
       "native           1390\n",
       "visual           1335"
      ]
     },
     "metadata": {},
     "output_type": "display_data"
    },
    {
     "name": "stdout",
     "output_type": "stream",
     "text": [
      "Nombre de tags: 200\n"
     ]
    }
   ],
   "source": [
    "tag_dist_top_200 = build_word_distribution(top200_tags)\n",
    "print(\"Top 20 des tags les plus utilisés\")\n",
    "display(tag_dist_top_200.head(20))\n",
    "print(f\"Nombre de tags: {len(tag_dist_top_200)}\")"
   ]
  },
  {
   "cell_type": "markdown",
   "id": "frozen-anchor",
   "metadata": {},
   "source": [
    "### TF-IDF"
   ]
  },
  {
   "cell_type": "code",
   "execution_count": 147,
   "id": "strong-above",
   "metadata": {},
   "outputs": [
    {
     "name": "stdout",
     "output_type": "stream",
     "text": [
      "Affichage des 10 premiers posts vectorisés via le modèle de TF-IDF\n"
     ]
    },
    {
     "data": {
      "text/html": [
       "<div>\n",
       "<style scoped>\n",
       "    .dataframe tbody tr th:only-of-type {\n",
       "        vertical-align: middle;\n",
       "    }\n",
       "\n",
       "    .dataframe tbody tr th {\n",
       "        vertical-align: top;\n",
       "    }\n",
       "\n",
       "    .dataframe thead th {\n",
       "        text-align: right;\n",
       "    }\n",
       "</style>\n",
       "<table border=\"1\" class=\"dataframe\">\n",
       "  <thead>\n",
       "    <tr style=\"text-align: right;\">\n",
       "      <th></th>\n",
       "      <th>java</th>\n",
       "      <th>error</th>\n",
       "      <th>class</th>\n",
       "      <th>name</th>\n",
       "      <th>file</th>\n",
       "      <th>import</th>\n",
       "      <th>code</th>\n",
       "      <th>version</th>\n",
       "      <th>http</th>\n",
       "      <th>value</th>\n",
       "      <th>...</th>\n",
       "      <th>deployment</th>\n",
       "      <th>metadata</th>\n",
       "      <th>policy</th>\n",
       "      <th>report</th>\n",
       "      <th>bucket</th>\n",
       "      <th>place</th>\n",
       "      <th>threadpoolexecutor</th>\n",
       "      <th>commit</th>\n",
       "      <th>protocol</th>\n",
       "      <th>scroll</th>\n",
       "    </tr>\n",
       "  </thead>\n",
       "  <tbody>\n",
       "    <tr>\n",
       "      <th>0</th>\n",
       "      <td>0.000000</td>\n",
       "      <td>0.000000</td>\n",
       "      <td>0.000000</td>\n",
       "      <td>0.0</td>\n",
       "      <td>0.0</td>\n",
       "      <td>0.000000</td>\n",
       "      <td>0.453515</td>\n",
       "      <td>0.000000</td>\n",
       "      <td>0.00000</td>\n",
       "      <td>0.0</td>\n",
       "      <td>...</td>\n",
       "      <td>0.0</td>\n",
       "      <td>0.0</td>\n",
       "      <td>0.0</td>\n",
       "      <td>0.0</td>\n",
       "      <td>0.0</td>\n",
       "      <td>0.0</td>\n",
       "      <td>0.0</td>\n",
       "      <td>0.0</td>\n",
       "      <td>0.0</td>\n",
       "      <td>0.0</td>\n",
       "    </tr>\n",
       "    <tr>\n",
       "      <th>1</th>\n",
       "      <td>0.000000</td>\n",
       "      <td>0.142134</td>\n",
       "      <td>0.000000</td>\n",
       "      <td>0.0</td>\n",
       "      <td>0.0</td>\n",
       "      <td>0.000000</td>\n",
       "      <td>0.000000</td>\n",
       "      <td>0.000000</td>\n",
       "      <td>0.00000</td>\n",
       "      <td>0.0</td>\n",
       "      <td>...</td>\n",
       "      <td>0.0</td>\n",
       "      <td>0.0</td>\n",
       "      <td>0.0</td>\n",
       "      <td>0.0</td>\n",
       "      <td>0.0</td>\n",
       "      <td>0.0</td>\n",
       "      <td>0.0</td>\n",
       "      <td>0.0</td>\n",
       "      <td>0.0</td>\n",
       "      <td>0.0</td>\n",
       "    </tr>\n",
       "    <tr>\n",
       "      <th>2</th>\n",
       "      <td>0.189486</td>\n",
       "      <td>0.000000</td>\n",
       "      <td>0.000000</td>\n",
       "      <td>0.0</td>\n",
       "      <td>0.0</td>\n",
       "      <td>0.000000</td>\n",
       "      <td>0.000000</td>\n",
       "      <td>0.147381</td>\n",
       "      <td>0.00000</td>\n",
       "      <td>0.0</td>\n",
       "      <td>...</td>\n",
       "      <td>0.0</td>\n",
       "      <td>0.0</td>\n",
       "      <td>0.0</td>\n",
       "      <td>0.0</td>\n",
       "      <td>0.0</td>\n",
       "      <td>0.0</td>\n",
       "      <td>0.0</td>\n",
       "      <td>0.0</td>\n",
       "      <td>0.0</td>\n",
       "      <td>0.0</td>\n",
       "    </tr>\n",
       "    <tr>\n",
       "      <th>3</th>\n",
       "      <td>0.000000</td>\n",
       "      <td>0.188345</td>\n",
       "      <td>0.000000</td>\n",
       "      <td>0.0</td>\n",
       "      <td>0.0</td>\n",
       "      <td>0.000000</td>\n",
       "      <td>0.065783</td>\n",
       "      <td>0.000000</td>\n",
       "      <td>0.00000</td>\n",
       "      <td>0.0</td>\n",
       "      <td>...</td>\n",
       "      <td>0.0</td>\n",
       "      <td>0.0</td>\n",
       "      <td>0.0</td>\n",
       "      <td>0.0</td>\n",
       "      <td>0.0</td>\n",
       "      <td>0.0</td>\n",
       "      <td>0.0</td>\n",
       "      <td>0.0</td>\n",
       "      <td>0.0</td>\n",
       "      <td>0.0</td>\n",
       "    </tr>\n",
       "    <tr>\n",
       "      <th>4</th>\n",
       "      <td>0.648035</td>\n",
       "      <td>0.000000</td>\n",
       "      <td>0.090941</td>\n",
       "      <td>0.0</td>\n",
       "      <td>0.0</td>\n",
       "      <td>0.050598</td>\n",
       "      <td>0.271276</td>\n",
       "      <td>0.050404</td>\n",
       "      <td>0.00000</td>\n",
       "      <td>0.0</td>\n",
       "      <td>...</td>\n",
       "      <td>0.0</td>\n",
       "      <td>0.0</td>\n",
       "      <td>0.0</td>\n",
       "      <td>0.0</td>\n",
       "      <td>0.0</td>\n",
       "      <td>0.0</td>\n",
       "      <td>0.0</td>\n",
       "      <td>0.0</td>\n",
       "      <td>0.0</td>\n",
       "      <td>0.0</td>\n",
       "    </tr>\n",
       "    <tr>\n",
       "      <th>5</th>\n",
       "      <td>0.000000</td>\n",
       "      <td>0.000000</td>\n",
       "      <td>0.000000</td>\n",
       "      <td>0.0</td>\n",
       "      <td>0.0</td>\n",
       "      <td>0.000000</td>\n",
       "      <td>0.000000</td>\n",
       "      <td>0.000000</td>\n",
       "      <td>0.00000</td>\n",
       "      <td>0.0</td>\n",
       "      <td>...</td>\n",
       "      <td>0.0</td>\n",
       "      <td>0.0</td>\n",
       "      <td>0.0</td>\n",
       "      <td>0.0</td>\n",
       "      <td>0.0</td>\n",
       "      <td>0.0</td>\n",
       "      <td>0.0</td>\n",
       "      <td>0.0</td>\n",
       "      <td>0.0</td>\n",
       "      <td>0.0</td>\n",
       "    </tr>\n",
       "    <tr>\n",
       "      <th>6</th>\n",
       "      <td>0.000000</td>\n",
       "      <td>0.096007</td>\n",
       "      <td>0.000000</td>\n",
       "      <td>0.0</td>\n",
       "      <td>0.0</td>\n",
       "      <td>0.000000</td>\n",
       "      <td>0.000000</td>\n",
       "      <td>0.000000</td>\n",
       "      <td>0.00000</td>\n",
       "      <td>0.0</td>\n",
       "      <td>...</td>\n",
       "      <td>0.0</td>\n",
       "      <td>0.0</td>\n",
       "      <td>0.0</td>\n",
       "      <td>0.0</td>\n",
       "      <td>0.0</td>\n",
       "      <td>0.0</td>\n",
       "      <td>0.0</td>\n",
       "      <td>0.0</td>\n",
       "      <td>0.0</td>\n",
       "      <td>0.0</td>\n",
       "    </tr>\n",
       "    <tr>\n",
       "      <th>7</th>\n",
       "      <td>0.000000</td>\n",
       "      <td>0.026193</td>\n",
       "      <td>0.000000</td>\n",
       "      <td>0.0</td>\n",
       "      <td>0.0</td>\n",
       "      <td>0.000000</td>\n",
       "      <td>0.000000</td>\n",
       "      <td>0.035695</td>\n",
       "      <td>0.03338</td>\n",
       "      <td>0.0</td>\n",
       "      <td>...</td>\n",
       "      <td>0.0</td>\n",
       "      <td>0.0</td>\n",
       "      <td>0.0</td>\n",
       "      <td>0.0</td>\n",
       "      <td>0.0</td>\n",
       "      <td>0.0</td>\n",
       "      <td>0.0</td>\n",
       "      <td>0.0</td>\n",
       "      <td>0.0</td>\n",
       "      <td>0.0</td>\n",
       "    </tr>\n",
       "    <tr>\n",
       "      <th>8</th>\n",
       "      <td>0.000000</td>\n",
       "      <td>0.000000</td>\n",
       "      <td>0.000000</td>\n",
       "      <td>0.0</td>\n",
       "      <td>0.0</td>\n",
       "      <td>0.000000</td>\n",
       "      <td>0.000000</td>\n",
       "      <td>0.000000</td>\n",
       "      <td>0.00000</td>\n",
       "      <td>0.0</td>\n",
       "      <td>...</td>\n",
       "      <td>0.0</td>\n",
       "      <td>0.0</td>\n",
       "      <td>0.0</td>\n",
       "      <td>0.0</td>\n",
       "      <td>0.0</td>\n",
       "      <td>0.0</td>\n",
       "      <td>0.0</td>\n",
       "      <td>0.0</td>\n",
       "      <td>0.0</td>\n",
       "      <td>0.0</td>\n",
       "    </tr>\n",
       "    <tr>\n",
       "      <th>9</th>\n",
       "      <td>0.000000</td>\n",
       "      <td>0.000000</td>\n",
       "      <td>0.000000</td>\n",
       "      <td>0.0</td>\n",
       "      <td>0.0</td>\n",
       "      <td>0.000000</td>\n",
       "      <td>0.360222</td>\n",
       "      <td>0.000000</td>\n",
       "      <td>0.00000</td>\n",
       "      <td>0.0</td>\n",
       "      <td>...</td>\n",
       "      <td>0.0</td>\n",
       "      <td>0.0</td>\n",
       "      <td>0.0</td>\n",
       "      <td>0.0</td>\n",
       "      <td>0.0</td>\n",
       "      <td>0.0</td>\n",
       "      <td>0.0</td>\n",
       "      <td>0.0</td>\n",
       "      <td>0.0</td>\n",
       "      <td>0.0</td>\n",
       "    </tr>\n",
       "  </tbody>\n",
       "</table>\n",
       "<p>10 rows × 456 columns</p>\n",
       "</div>"
      ],
      "text/plain": [
       "       java     error     class  name  file    import      code   version  \\\n",
       "0  0.000000  0.000000  0.000000   0.0   0.0  0.000000  0.453515  0.000000   \n",
       "1  0.000000  0.142134  0.000000   0.0   0.0  0.000000  0.000000  0.000000   \n",
       "2  0.189486  0.000000  0.000000   0.0   0.0  0.000000  0.000000  0.147381   \n",
       "3  0.000000  0.188345  0.000000   0.0   0.0  0.000000  0.065783  0.000000   \n",
       "4  0.648035  0.000000  0.090941   0.0   0.0  0.050598  0.271276  0.050404   \n",
       "5  0.000000  0.000000  0.000000   0.0   0.0  0.000000  0.000000  0.000000   \n",
       "6  0.000000  0.096007  0.000000   0.0   0.0  0.000000  0.000000  0.000000   \n",
       "7  0.000000  0.026193  0.000000   0.0   0.0  0.000000  0.000000  0.035695   \n",
       "8  0.000000  0.000000  0.000000   0.0   0.0  0.000000  0.000000  0.000000   \n",
       "9  0.000000  0.000000  0.000000   0.0   0.0  0.000000  0.360222  0.000000   \n",
       "\n",
       "      http  value  ...  deployment  metadata  policy  report  bucket  place  \\\n",
       "0  0.00000    0.0  ...         0.0       0.0     0.0     0.0     0.0    0.0   \n",
       "1  0.00000    0.0  ...         0.0       0.0     0.0     0.0     0.0    0.0   \n",
       "2  0.00000    0.0  ...         0.0       0.0     0.0     0.0     0.0    0.0   \n",
       "3  0.00000    0.0  ...         0.0       0.0     0.0     0.0     0.0    0.0   \n",
       "4  0.00000    0.0  ...         0.0       0.0     0.0     0.0     0.0    0.0   \n",
       "5  0.00000    0.0  ...         0.0       0.0     0.0     0.0     0.0    0.0   \n",
       "6  0.00000    0.0  ...         0.0       0.0     0.0     0.0     0.0    0.0   \n",
       "7  0.03338    0.0  ...         0.0       0.0     0.0     0.0     0.0    0.0   \n",
       "8  0.00000    0.0  ...         0.0       0.0     0.0     0.0     0.0    0.0   \n",
       "9  0.00000    0.0  ...         0.0       0.0     0.0     0.0     0.0    0.0   \n",
       "\n",
       "   threadpoolexecutor  commit  protocol  scroll  \n",
       "0                 0.0     0.0       0.0     0.0  \n",
       "1                 0.0     0.0       0.0     0.0  \n",
       "2                 0.0     0.0       0.0     0.0  \n",
       "3                 0.0     0.0       0.0     0.0  \n",
       "4                 0.0     0.0       0.0     0.0  \n",
       "5                 0.0     0.0       0.0     0.0  \n",
       "6                 0.0     0.0       0.0     0.0  \n",
       "7                 0.0     0.0       0.0     0.0  \n",
       "8                 0.0     0.0       0.0     0.0  \n",
       "9                 0.0     0.0       0.0     0.0  \n",
       "\n",
       "[10 rows x 456 columns]"
      ]
     },
     "metadata": {},
     "output_type": "display_data"
    },
    {
     "name": "stdout",
     "output_type": "stream",
     "text": [
      " Nombre d'observations: 43132, nombre de variables: 456\n",
      "CPU times: user 1.17 s, sys: 120 ms, total: 1.29 s\n",
      "Wall time: 1.29 s\n"
     ]
    }
   ],
   "source": [
    "%%time\n",
    "from sklearn.feature_extraction.text import TfidfVectorizer\n",
    "vocabulary = list(word_dist_top200[word_dist_top200[\"Frequency\"]>=1000].index)\n",
    "tfidf_vectorizer = TfidfVectorizer(vocabulary=vocabulary)\n",
    "X = tfidf_vectorizer.fit_transform(top200_joined_corpus)\n",
    "tfidf_data = pd.DataFrame(X.toarray(), columns=vocabulary)\n",
    "print(\"Affichage des 10 premiers posts vectorisés via le modèle de TF-IDF\")\n",
    "display(tfidf_data.head(10))\n",
    "print(f\" Nombre d'observations: {tfidf_data.shape[0]}, nombre de variables: {tfidf_data.shape[1]}\")\n",
    "\n",
    "filename_tfidf_model = './models/tfidf_model.pkl'\n",
    "pickle.dump(tfidf_vectorizer, open(filename_tfidf_model, 'wb'))\n",
    "\n",
    "filename_vocabulary = \"./models/vocabulary.pkl\"\n",
    "pickle.dump(vocabulary, open(filename_vocabulary, 'wb'))"
   ]
  },
  {
   "cell_type": "markdown",
   "id": "specialized-gateway",
   "metadata": {},
   "source": [
    "### Dédoublonnage des labels"
   ]
  },
  {
   "cell_type": "code",
   "execution_count": 19,
   "id": "superb-sydney",
   "metadata": {},
   "outputs": [
    {
     "name": "stdout",
     "output_type": "stream",
     "text": [
      "Affichage de la première occurence de dedup_tags\n"
     ]
    },
    {
     "data": {
      "text/plain": [
       "{'ecmascript', 'javascript'}"
      ]
     },
     "metadata": {},
     "output_type": "display_data"
    }
   ],
   "source": [
    "dedup_tags = []\n",
    "for tags in top200_tags:\n",
    "    dedup_tags.append(set(tags))\n",
    "\n",
    "print('Affichage de la première occurence de dedup_tags')\n",
    "display(dedup_tags[0])"
   ]
  },
  {
   "cell_type": "markdown",
   "id": "emerging-demographic",
   "metadata": {},
   "source": [
    "### Partition des données"
   ]
  },
  {
   "cell_type": "code",
   "execution_count": 20,
   "id": "descending-hawaii",
   "metadata": {},
   "outputs": [],
   "source": [
    "from sklearn.model_selection import train_test_split\n",
    "X_train, X_test, y_train, y_test = train_test_split(tfidf_data, dedup_tags, test_size=0.2, random_state=42)"
   ]
  },
  {
   "cell_type": "markdown",
   "id": "champion-spelling",
   "metadata": {},
   "source": [
    "## Réduction des données"
   ]
  },
  {
   "cell_type": "code",
   "execution_count": 21,
   "id": "quarterly-british",
   "metadata": {},
   "outputs": [
    {
     "data": {
      "image/png": "[encoded data removed]",
      "text/plain": [
       "<Figure size 432x288 with 1 Axes>"
      ]
     },
     "metadata": {
      "needs_background": "light"
     },
     "output_type": "display_data"
    }
   ],
   "source": [
    "from sklearn.decomposition import PCA\n",
    "import matplotlib.pyplot as plt\n",
    "\n",
    "pca = PCA(random_state=42)\n",
    "pca.fit(X_train)\n",
    "\n",
    "def display_scree_plot(pca):\n",
    "    scree = pca.explained_variance_ratio_*100\n",
    "    plt.bar(np.arange(len(scree))+1, scree)\n",
    "    plt.plot(np.arange(len(scree))+1, scree.cumsum(),c=\"red\",marker='o')\n",
    "    plt.xlabel(\"rang de l'axe d'inertie\")\n",
    "    plt.ylabel(\"pourcentage d'inertie\")\n",
    "    plt.title(\"Eboulis des valeurs propres\")\n",
    "    plt.show(block=False)\n",
    "\n",
    "display_scree_plot(pca)"
   ]
  },
  {
   "cell_type": "code",
   "execution_count": 48,
   "id": "stable-tunisia",
   "metadata": {},
   "outputs": [
    {
     "name": "stdout",
     "output_type": "stream",
     "text": [
      "Nombre de composantes principales: 281\n"
     ]
    }
   ],
   "source": [
    "import pickle \n",
    "\n",
    "pca = PCA(n_components=0.85, random_state=42)\n",
    "pca.fit(X_train)\n",
    "X_train_transformed = pca.transform(X_train)\n",
    "X_test_transformed = pca.transform(X_test)\n",
    "print(f\"Nombre de composantes principales: {pca.components_.shape[0]}\")\n",
    "\n",
    "filename_pca_model = './models/pca_model.pkl'\n",
    "pickle.dump(pca, open(filename_pca_model, 'wb'))"
   ]
  },
  {
   "cell_type": "markdown",
   "id": "monthly-chuck",
   "metadata": {},
   "source": [
    "## Vectorisaton des labels"
   ]
  },
  {
   "cell_type": "code",
   "execution_count": 23,
   "id": "soviet-surgery",
   "metadata": {},
   "outputs": [
    {
     "name": "stdout",
     "output_type": "stream",
     "text": [
      "Affichage des classes du modèle de vectorisation\n"
     ]
    },
    {
     "data": {
      "text/plain": [
       "array(['python', 'android', 'angular', 'javascript', 'java', 'reactjs',\n",
       "       'flutter', 'spring', 'react', 'core', 'google', 'studio', 'docker',\n",
       "       'node', 'typescript', 'amazon', 'dart', 'laravel', 'native',\n",
       "       'visual', 'html', 'azure', 'firebase', 'swift', 'boot', 'service',\n",
       "       'panda', 'material', 'cloud', 'kubernetes', 'code', 'xcode',\n",
       "       'apache', 'kotlin', 'json', 'django', 'window', 'gradle',\n",
       "       'tensorflow', 'framework', 'selenium', 'macos', 'data', 'mysql',\n",
       "       'swiftui', 'server', 'testing', 'webpack', 'bootstrap', 'linux',\n",
       "       'spark', 'kera', 'chrome', 'component', 'learning', 'array',\n",
       "       'ubuntu', 'hook', 'form', 'compose', 'http', 'image', 'router',\n",
       "       'numpy', 'vuejs', 'github', 'mongodb', 'postgresql', 'function',\n",
       "       'layout', 'dataframe', 'jupyter', 'ionic', 'jquery', 'jenkins',\n",
       "       'rest', 'opencv', 'entity', 'express', 'redux', 'navigation',\n",
       "       'plugin', 'pipeline', 'maven', 'machine', 'ruby', 'powershell',\n",
       "       'authentication', 'unit', 'kafka', 'database', 'matplotlib',\n",
       "       'flask', 'security', 'jestjs', 'firestore', 'pytorch', 'string',\n",
       "       'bash', 'file', 'ecmascript', 'pyspark', 'anaconda', 'module',\n",
       "       'dependency', 'xamarin', 'excel', 'build', 'blazor', 'discord',\n",
       "       'gitlab', 'axios', 'lambda', 'next', 'devops', 'platform',\n",
       "       'notebook', 'rxjs', 'architecture', 'webdriver', 'rail', 'scikit',\n",
       "       'library', 'nginx', 'storage', 'learn', 'deep', 'intellij',\n",
       "       'processing', 'idea', 'oauth', 'package', 'type', 'vuetify',\n",
       "       'error', 'symfony', 'list', 'dockerfile', 'design', 'map',\n",
       "       'colaboratory', 'network', 'terraform', 'async', 'apps', 'request',\n",
       "       'conda', 'validation', 'wordpress', 'await', 'variable', 'play',\n",
       "       'swagger', 'stream', 'hibernate', 'twitter', 'vscode',\n",
       "       'elasticsearch', 'neural', 'regex', 'eslint', 'oracle', 'rust',\n",
       "       'unity', 'video', 'jetpack', 'memory', 'notification', 'fetch',\n",
       "       'scala', 'datetime', 'facebook', 'create', 'object', 'junit',\n",
       "       'algorithm', 'font', 'reactive', 'date', 'eclipse', 'loop',\n",
       "       'plotly', 'promise', 'chromedriver', 'performance', 'injection',\n",
       "       'sas', 'graphql', 'airflow', 'asynchronous', 'extension', 'mobile',\n",
       "       'table', 'webapi', 'sheet', 'script', 'push', 'setting', 'model',\n",
       "       'androidx'], dtype=object)"
      ]
     },
     "metadata": {},
     "output_type": "display_data"
    }
   ],
   "source": [
    "from sklearn.preprocessing import MultiLabelBinarizer\n",
    "import pickle \n",
    "\n",
    "mlb = MultiLabelBinarizer(classes=first_200_tags)\n",
    "train_labels = mlb.fit_transform(y_train)\n",
    "test_labels = mlb.transform(y_test)\n",
    "\n",
    "print(\"Affichage des classes du modèle de vectorisation\")\n",
    "display(mlb.classes_)\n",
    "\n",
    "filename_mlb_model = './models/mlb_model.pkl'\n",
    "pickle.dump(mlb, open(filename_mlb_model,'wb'))"
   ]
  },
  {
   "cell_type": "markdown",
   "id": "accepted-management",
   "metadata": {},
   "source": [
    "### Fonction d'évaluation des modèles"
   ]
  },
  {
   "cell_type": "code",
   "execution_count": 25,
   "id": "invalid-walter",
   "metadata": {},
   "outputs": [],
   "source": [
    "from sklearn.metrics import accuracy_score, precision_score, recall_score, f1_score, confusion_matrix, hamming_loss\n",
    "\n",
    "models_performance = {}\n",
    "\n",
    "def metrics_report(model_name, test_labels, predictions, performances):\n",
    "    \"\"\"\n",
    "    Compute performance metrics of a model and store them in a dictionary\n",
    "    \n",
    "    Args:\n",
    "        model_name(string): name of the evaluated model\n",
    "        test_labels(array): labels related to predictors\n",
    "        preductions(array): predicted results\n",
    "        performances(dict): used dictionary to store metrics\n",
    "    Returns:\n",
    "        performances(dict): used dictionary to store metrics filed with models ones\n",
    "    \"\"\"    \n",
    "    accuracy = accuracy_score(test_labels, predictions)\n",
    "    macro_precision = precision_score(test_labels, predictions, average='macro')\n",
    "    macro_recall = recall_score(test_labels, predictions, average='macro')\n",
    "    macro_f1 = f1_score(test_labels, predictions, average='macro')\n",
    "    micro_precision = precision_score(test_labels, predictions, average='micro')\n",
    "    micro_recall = recall_score(test_labels, predictions, average='micro')\n",
    "    micro_f1 = f1_score(test_labels, predictions, average='micro')\n",
    "    hamLoss = hamming_loss(test_labels, predictions)\n",
    "    print(\"------\" + model_name + \" Model Metrics-----\")\n",
    "    print(\"Accuracy: {:.4f}\\nHamming Loss: {:.4f}\\nPrecision:\\n  - Macro: {:.4f}\\n  - Micro: {:.4f}\\nRecall:\\n  - Macro: {:.4f}\\n  - Micro: {:.4f}\\nF1-measure:\\n  - Macro: {:.4f}\\n  - Micro: {:.4f}\"\\\n",
    "          .format(accuracy, hamLoss, macro_precision, micro_precision, macro_recall, micro_recall, macro_f1, micro_f1))\n",
    "    \n",
    "    performances[model_name] = {}\n",
    "    performances[model_name][\"micro_precision\"] =  micro_precision\n",
    "    performances[model_name][\"micro_recall\"] = micro_recall\n",
    "    performances[model_name][\"micro_f1\"] = micro_f1\n",
    "    \n",
    "    return performances"
   ]
  },
  {
   "cell_type": "markdown",
   "id": "happy-behalf",
   "metadata": {},
   "source": [
    "### KNN"
   ]
  },
  {
   "cell_type": "code",
   "execution_count": 27,
   "id": "julian-techno",
   "metadata": {},
   "outputs": [
    {
     "name": "stderr",
     "output_type": "stream",
     "text": [
      "/home/cedric/.local/lib/python3.8/site-packages/sklearn/metrics/_classification.py:1245: UndefinedMetricWarning: Precision is ill-defined and being set to 0.0 in labels with no predicted samples. Use `zero_division` parameter to control this behavior.\n",
      "  _warn_prf(average, modifier, msg_start, len(result))\n"
     ]
    },
    {
     "name": "stdout",
     "output_type": "stream",
     "text": [
      "------knn Model Metrics-----\n",
      "Accuracy: 0.1163\n",
      "Hamming Loss: 0.0099\n",
      "Precision:\n",
      "  - Macro: 0.4801\n",
      "  - Micro: 0.6880\n",
      "Recall:\n",
      "  - Macro: 0.1746\n",
      "  - Micro: 0.2814\n",
      "F1-measure:\n",
      "  - Macro: 0.2355\n",
      "  - Micro: 0.3995\n",
      "CPU times: user 46.6 s, sys: 17.1 s, total: 1min 3s\n",
      "Wall time: 38.1 s\n"
     ]
    },
    {
     "data": {
      "text/plain": [
       "{'knn': {'micro_precision': 0.6879980680994928,\n",
       "  'micro_recall': 0.2814383088017386,\n",
       "  'micro_f1': 0.39946719012899606}}"
      ]
     },
     "execution_count": 27,
     "metadata": {},
     "output_type": "execute_result"
    }
   ],
   "source": [
    "%%time\n",
    "from sklearn.neighbors import KNeighborsClassifier\n",
    "knn_clf = KNeighborsClassifier()\n",
    "knn_clf.fit(X_train_transformed, train_labels)\n",
    "knn_predictions = knn_clf.predict(X_test_transformed)\n",
    "metrics_report(\"knn\", test_labels, knn_predictions, models_performance)"
   ]
  },
  {
   "cell_type": "markdown",
   "id": "israeli-agent",
   "metadata": {},
   "source": [
    "### SVM"
   ]
  },
  {
   "cell_type": "code",
   "execution_count": 28,
   "id": "wireless-thomson",
   "metadata": {},
   "outputs": [
    {
     "name": "stderr",
     "output_type": "stream",
     "text": [
      "/home/cedric/.local/lib/python3.8/site-packages/sklearn/metrics/_classification.py:1245: UndefinedMetricWarning: Precision is ill-defined and being set to 0.0 in labels with no predicted samples. Use `zero_division` parameter to control this behavior.\n",
      "  _warn_prf(average, modifier, msg_start, len(result))\n"
     ]
    },
    {
     "name": "stdout",
     "output_type": "stream",
     "text": [
      "------svm Model Metrics-----\n",
      "Accuracy: 0.1479\n",
      "Hamming Loss: 0.0087\n",
      "Precision:\n",
      "  - Macro: 0.4482\n",
      "  - Micro: 0.7986\n",
      "Recall:\n",
      "  - Macro: 0.1880\n",
      "  - Micro: 0.3424\n",
      "F1-measure:\n",
      "  - Macro: 0.2420\n",
      "  - Micro: 0.4793\n",
      "CPU times: user 6.79 s, sys: 13 s, total: 19.8 s\n",
      "Wall time: 22.5 s\n"
     ]
    },
    {
     "data": {
      "text/plain": [
       "{'knn': {'micro_precision': 0.6879980680994928,\n",
       "  'micro_recall': 0.2814383088017386,\n",
       "  'micro_f1': 0.39946719012899606},\n",
       " 'svm': {'micro_precision': 0.7986407095956687,\n",
       "  'micro_recall': 0.3424380124469031,\n",
       "  'micro_f1': 0.4793445569882809}}"
      ]
     },
     "execution_count": 28,
     "metadata": {},
     "output_type": "execute_result"
    }
   ],
   "source": [
    "%%time\n",
    "from sklearn.svm import LinearSVC\n",
    "from sklearn.multiclass import OneVsRestClassifier\n",
    "\n",
    "svm_clf = OneVsRestClassifier(LinearSVC(), n_jobs=-1)\n",
    "svm_clf.fit(X_train_transformed, train_labels)\n",
    "\n",
    "svm_preds = svm_clf.predict(X_test_transformed)\n",
    "metrics_report(\"svm\", test_labels, svm_preds, models_performance)"
   ]
  },
  {
   "cell_type": "markdown",
   "id": "supported-belize",
   "metadata": {},
   "source": [
    "### Random Forest"
   ]
  },
  {
   "cell_type": "code",
   "execution_count": 29,
   "id": "nonprofit-orange",
   "metadata": {},
   "outputs": [
    {
     "name": "stderr",
     "output_type": "stream",
     "text": [
      "/home/cedric/.local/lib/python3.8/site-packages/sklearn/metrics/_classification.py:1245: UndefinedMetricWarning: Precision is ill-defined and being set to 0.0 in labels with no predicted samples. Use `zero_division` parameter to control this behavior.\n",
      "  _warn_prf(average, modifier, msg_start, len(result))\n"
     ]
    },
    {
     "name": "stdout",
     "output_type": "stream",
     "text": [
      "------Random Forest Model Metrics-----\n",
      "Accuracy: 0.0617\n",
      "Hamming Loss: 0.0103\n",
      "Precision:\n",
      "  - Macro: 0.2921\n",
      "  - Micro: 0.8686\n",
      "Recall:\n",
      "  - Macro: 0.0456\n",
      "  - Micro: 0.1469\n",
      "F1-measure:\n",
      "  - Macro: 0.0707\n",
      "  - Micro: 0.2513\n",
      "CPU times: user 44min 18s, sys: 12.6 s, total: 44min 31s\n",
      "Wall time: 2min 59s\n"
     ]
    },
    {
     "data": {
      "text/plain": [
       "{'knn': {'micro_precision': 0.6879980680994928,\n",
       "  'micro_recall': 0.2814383088017386,\n",
       "  'micro_f1': 0.39946719012899606},\n",
       " 'svm': {'micro_precision': 0.7986407095956687,\n",
       "  'micro_recall': 0.3424380124469031,\n",
       "  'micro_f1': 0.4793445569882809},\n",
       " 'Random Forest': {'micro_precision': 0.8685747663551402,\n",
       "  'micro_recall': 0.1468932134742665,\n",
       "  'micro_f1': 0.2512885509083228}}"
      ]
     },
     "execution_count": 29,
     "metadata": {},
     "output_type": "execute_result"
    }
   ],
   "source": [
    "%%time\n",
    "from sklearn.ensemble import RandomForestClassifier\n",
    "rf_clf = RandomForestClassifier(n_jobs=-1)\n",
    "rf_clf.fit(X_train_transformed, train_labels)\n",
    "rf_preds = rf_clf.predict(X_test_transformed)\n",
    "metrics_report(\"Random Forest\", test_labels, rf_preds, models_performance)"
   ]
  },
  {
   "cell_type": "markdown",
   "id": "loaded-sacramento",
   "metadata": {},
   "source": [
    "### Gradient boosting"
   ]
  },
  {
   "cell_type": "code",
   "execution_count": 30,
   "id": "normal-stuff",
   "metadata": {},
   "outputs": [
    {
     "name": "stdout",
     "output_type": "stream",
     "text": [
      "------Gradient Boosting Model Metrics-----\n",
      "Accuracy: 0.0816\n",
      "Hamming Loss: 0.0117\n",
      "Precision:\n",
      "  - Macro: 0.2616\n",
      "  - Micro: 0.5055\n",
      "Recall:\n",
      "  - Macro: 0.1760\n",
      "  - Micro: 0.3074\n",
      "F1-measure:\n",
      "  - Macro: 0.2048\n",
      "  - Micro: 0.3823\n",
      "CPU times: user 14h 49min 39s, sys: 636 ms, total: 14h 49min 40s\n",
      "Wall time: 14h 49min 39s\n"
     ]
    },
    {
     "data": {
      "text/plain": [
       "{'knn': {'micro_precision': 0.6879980680994928,\n",
       "  'micro_recall': 0.2814383088017386,\n",
       "  'micro_f1': 0.39946719012899606},\n",
       " 'svm': {'micro_precision': 0.7986407095956687,\n",
       "  'micro_recall': 0.3424380124469031,\n",
       "  'micro_f1': 0.4793445569882809},\n",
       " 'Random Forest': {'micro_precision': 0.8685747663551402,\n",
       "  'micro_recall': 0.1468932134742665,\n",
       "  'micro_f1': 0.2512885509083228},\n",
       " 'Gradient Boosting': {'micro_precision': 0.5054829014702299,\n",
       "  'micro_recall': 0.30736935691000694,\n",
       "  'micro_f1': 0.38228337991829714}}"
      ]
     },
     "execution_count": 30,
     "metadata": {},
     "output_type": "execute_result"
    }
   ],
   "source": [
    "%%time\n",
    "from sklearn.ensemble import GradientBoostingClassifier\n",
    "from sklearn.multiclass import OneVsRestClassifier\n",
    "\n",
    "gb_clf = OneVsRestClassifier(GradientBoostingClassifier())\n",
    "gb_clf.fit(X_train_transformed, train_labels)\n",
    "gb_preds = gb_clf.predict(X_test_transformed)\n",
    "metrics_report(\"Gradient Boosting\", test_labels, gb_preds, models_performance)"
   ]
  },
  {
   "cell_type": "markdown",
   "id": "attractive-minute",
   "metadata": {},
   "source": [
    "### Synthèse des résultats"
   ]
  },
  {
   "cell_type": "code",
   "execution_count": 37,
   "id": "quarterly-tutorial",
   "metadata": {},
   "outputs": [
    {
     "data": {
      "text/html": [
       "<div>\n",
       "<style scoped>\n",
       "    .dataframe tbody tr th:only-of-type {\n",
       "        vertical-align: middle;\n",
       "    }\n",
       "\n",
       "    .dataframe tbody tr th {\n",
       "        vertical-align: top;\n",
       "    }\n",
       "\n",
       "    .dataframe thead th {\n",
       "        text-align: right;\n",
       "    }\n",
       "</style>\n",
       "<table border=\"1\" class=\"dataframe\">\n",
       "  <thead>\n",
       "    <tr style=\"text-align: right;\">\n",
       "      <th></th>\n",
       "      <th>micro_precision</th>\n",
       "      <th>micro_recall</th>\n",
       "      <th>micro_f1</th>\n",
       "    </tr>\n",
       "  </thead>\n",
       "  <tbody>\n",
       "    <tr>\n",
       "      <th>knn</th>\n",
       "      <td>0.687998</td>\n",
       "      <td>0.281438</td>\n",
       "      <td>0.399467</td>\n",
       "    </tr>\n",
       "    <tr>\n",
       "      <th>svm</th>\n",
       "      <td>0.798641</td>\n",
       "      <td>0.342438</td>\n",
       "      <td>0.479345</td>\n",
       "    </tr>\n",
       "    <tr>\n",
       "      <th>Random Forest</th>\n",
       "      <td>0.868575</td>\n",
       "      <td>0.146893</td>\n",
       "      <td>0.251289</td>\n",
       "    </tr>\n",
       "    <tr>\n",
       "      <th>Gradient Boosting</th>\n",
       "      <td>0.505483</td>\n",
       "      <td>0.307369</td>\n",
       "      <td>0.382283</td>\n",
       "    </tr>\n",
       "  </tbody>\n",
       "</table>\n",
       "</div>"
      ],
      "text/plain": [
       "                   micro_precision  micro_recall  micro_f1\n",
       "knn                       0.687998      0.281438  0.399467\n",
       "svm                       0.798641      0.342438  0.479345\n",
       "Random Forest             0.868575      0.146893  0.251289\n",
       "Gradient Boosting         0.505483      0.307369  0.382283"
      ]
     },
     "execution_count": 37,
     "metadata": {},
     "output_type": "execute_result"
    }
   ],
   "source": [
    "result_df = pd.DataFrame.from_dict(models_performance, orient=\"index\")\n",
    "result_df"
   ]
  },
  {
   "cell_type": "code",
   "execution_count": 139,
   "id": "approved-opening",
   "metadata": {},
   "outputs": [],
   "source": [
    "import pickle\n",
    "filename_svm_model = './models/svm_model.pkl'\n",
    "pickle.dump(svm_clf, open(filename_svm_model,'wb'))"
   ]
  },
  {
   "cell_type": "markdown",
   "id": "other-swedish",
   "metadata": {},
   "source": [
    "### Fonction de prédiction"
   ]
  },
  {
   "cell_type": "code",
   "execution_count": 118,
   "id": "outstanding-spirit",
   "metadata": {},
   "outputs": [
    {
     "name": "stdout",
     "output_type": "stream",
     "text": [
      "CPU times: user 5 µs, sys: 0 ns, total: 5 µs\n",
      "Wall time: 7.87 µs\n"
     ]
    }
   ],
   "source": [
    "%%time\n",
    "def predict_supervised_tags(supervised_model, mlb_model, text):\n",
    "    \"\"\"\n",
    "    Predict tags according to a lemmatized text using a supervied model.\n",
    "    \n",
    "    Args:\n",
    "        supervised_model(): Used mode to get prediction\n",
    "        mlb_model(): Used model to detransform\n",
    "    Returns:\n",
    "        res(list): List of predicted tags\n",
    "    \"\"\"\n",
    "    res = tfidf_vectorizer.transform(text)\n",
    "    res = pd.DataFrame(res.toarray(), columns=vocabulary)\n",
    "    res = pca.transform(res)\n",
    "    res = supervised_model.predict(res)\n",
    "    res = mlb.inverse_transform(res)\n",
    "    res = list({tag for tag_list in res for tag in tag_list if (len(tag_list) != 0)})\n",
    "    res = [tag for tag  in res if tag in text]\n",
    "    \n",
    "    return res"
   ]
  },
  {
   "cell_type": "markdown",
   "id": "vietnamese-touch",
   "metadata": {},
   "source": [
    "### Fonction de vérification"
   ]
  },
  {
   "cell_type": "code",
   "execution_count": 137,
   "id": "opened-briefs",
   "metadata": {},
   "outputs": [
    {
     "name": "stdout",
     "output_type": "stream",
     "text": [
      "Publication originale: \n",
      "\n",
      "Can (a== 1 && a ==2 && a==3) ever evaluate to true? <blockquote>\n",
      "  <p><strong>Moderator note:</strong> Please resist the urge to edit the code or remove this notice. The pattern of whitespace may be part of the question and therefore should not be tampered with unnecessarily. If you are in the \"whitespace is insignificant\" camp, you should be able to accept the code as is.</p>\n",
      "</blockquote>\n",
      "\n",
      "<p>Is it ever possible that <code>(a== 1 &amp;&amp; a ==2 &amp;&amp; a==3)</code> could evaluate to <code>true</code> in JavaScript?</p>\n",
      "\n",
      "<p>This is an interview question asked by a major tech company. It happened two weeks back, but I'm still trying to find the answer. I know we never write such code in our day-to-day job, but I'm curious.</p>\n",
      "\n",
      "\n",
      "\n",
      "Liste des tags pré-traités utilisés par l'utilisateur: ['javascript', 'ecmascript']\n",
      "\n",
      "\n",
      "Liste des tags prédits par le modèle: ['javascript', 'code']\n"
     ]
    }
   ],
   "source": [
    "def check_tag_predction(original_text, original_tags, preprocessed_text, model):\n",
    "    \"\"\"\n",
    "    Check original tags vs predicted tags for a post.\n",
    "    \n",
    "    Args:\n",
    "        post(list) : original text\n",
    "        original_tags(list) : preprocessed_tags\n",
    "    \"\"\"\n",
    "    \n",
    "    predicted_tags = predict_supervised_tags(model, mlb, preprocessed_text)\n",
    "    print(\"Publication originale: \\n\")\n",
    "    print(f\"{original_text}\")\n",
    "    print(\"\\n\")\n",
    "    print(f\"Liste des tags pré-traités utilisés par l'utilisateur: {original_tags}\")\n",
    "    print(\"\\n\")\n",
    "    print(f\"Liste des tags prédits par le modèle: {predicted_tags}\")\n",
    "\n",
    "check_tag_predction(filtered_tokenized_vs_original.loc[0,'Post'], \n",
    "                filtered_tokenized_vs_original.loc[0,'splitted_tags'],\n",
    "                filtered_tokenized_vs_original.loc[0,'splitted_text'],\n",
    "                svm_clf)"
   ]
  },
  {
   "cell_type": "markdown",
   "id": "accepted-andrew",
   "metadata": {},
   "source": [
    "## Méthode non supervisée"
   ]
  },
  {
   "cell_type": "markdown",
   "id": "sudden-buying",
   "metadata": {},
   "source": [
    "### Recherche du modèle yant l'indice de cohérence maximum"
   ]
  },
  {
   "cell_type": "code",
   "execution_count": null,
   "id": "vulnerable-europe",
   "metadata": {},
   "outputs": [],
   "source": [
    "%%time \n",
    "\n",
    "import gensim\n",
    "from gensim.models import TfidfModel\n",
    "import gensim.corpora as corpora\n",
    "from gensim import models\n",
    "from gensim.utils import simple_preprocess\n",
    "from gensim.models.ldamulticore import LdaMulticore\n",
    "from gensim.models import CoherenceModel\n",
    "import logging\n",
    "logging.basicConfig(format='%(asctime)s : %(levelname)s : %(message)s', level=logging.ERROR)\n",
    "import warnings\n",
    "warnings.filterwarnings(\"ignore\",category=DeprecationWarning)\n",
    "import matplotlib.pyplot as plt\n",
    "\n",
    "\n",
    "def compute_coherence_values(dictionary, corpus, texts, limit, start=2, step=3):\n",
    "    \"\"\"\n",
    "    Compute c_v coherence for various number of topics\n",
    "\n",
    "    Args:\n",
    "  \n",
    "        dictionary : Gensim dictionary\n",
    "        corpus : Gensim corpus\n",
    "        texts : List of input texts\n",
    "        limit : Max num of topics\n",
    "\n",
    "    Returns:\n",
    "    \n",
    "        model_list : List of LDA topic models\n",
    "        coherence_values : Coherence values corresponding to the LDA model with respective number of topics\n",
    "    \"\"\"\n",
    "    coherence_values = []\n",
    "    model_list = []\n",
    "    \n",
    "    \n",
    "    for num_topics in range(start, limit, step):\n",
    "        \n",
    "        model = LdaMulticore(corpus=corpus,\n",
    "                            id2word=dictionary,\n",
    "                            num_topics=num_topics, \n",
    "                            random_state=42,\n",
    "                            passes=10,\n",
    "                            workers=7)\n",
    "\n",
    "        model_list.append(model)\n",
    "        coherencemodel = CoherenceModel(model=model, texts=texts, dictionary=dictionary, coherence='c_v')\n",
    "        coherence_values.append(coherencemodel.get_coherence())\n",
    "\n",
    "    return model_list, coherence_values\n",
    "\n",
    "data = pd.read_pickle(\"./data/cleaned_corpus.pkl\")\n",
    "texts = data['splitted_text'].to_list()\n",
    "id2word = corpora.Dictionary(texts)\n",
    "id2word.filter_extremes(no_below=1000)\n",
    "bow_corpus = [id2word.doc2bow(text) for text in texts]\n",
    "tfidf = TfidfModel(bow_corpus)\n",
    "tfidf_corpus = [tfidf[text] for text in bow_corpus]\n",
    "\n",
    "model_list, coherence_values = compute_coherence_values(dictionary=id2word, corpus=tfidf_corpus, texts=texts, start=2, limit=51, step=1)\n",
    "\n",
    "\n",
    "limit=51; start=2; step=1;\n",
    "x = range(start, limit, step)\n",
    "plt.plot(x, coherence_values)\n",
    "plt.xlabel(\"Num Topics\")\n",
    "plt.ylabel(\"Coherence score\")\n",
    "plt.legend((\"coherence_values\"), loc='best')\n",
    "plt.show()\n",
    "\n",
    "for m, cv in zip(x, coherence_values):\n",
    "    print(\"Num Topics =\", m, \" has Coherence Value of\", round(cv, 4))"
   ]
  },
  {
   "cell_type": "code",
   "execution_count": null,
   "id": "capable-remains",
   "metadata": {},
   "outputs": [],
   "source": []
  }
 ],
 "metadata": {
  "kernelspec": {
   "display_name": "Python 3 (ipykernel)",
   "language": "python",
   "name": "python3"
  },
  "language_info": {
   "codemirror_mode": {
    "name": "ipython",
    "version": 3
   },
   "file_extension": ".py",
   "mimetype": "text/x-python",
   "name": "python",
   "nbconvert_exporter": "python",
   "pygments_lexer": "ipython3",
   "version": "3.8.5"
  }
 },
 "nbformat": 4,
 "nbformat_minor": 5
}
